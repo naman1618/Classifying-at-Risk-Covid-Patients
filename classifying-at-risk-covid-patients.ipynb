{
 "cells": [
  {
   "cell_type": "markdown",
   "id": "d9e349db",
   "metadata": {
    "id": "6fc0d555",
    "papermill": {
     "duration": 0.026702,
     "end_time": "2023-07-14T18:13:09.153760",
     "exception": false,
     "start_time": "2023-07-14T18:13:09.127058",
     "status": "completed"
    },
    "tags": []
   },
   "source": [
    "## Project Goals\n",
    "The primary goal of our project is to develop a machine learning model that identifies whether someone is at high risk of passing away from COVID-19 given various factors, such as age, pre-existing conditions, and symptoms. We will be using an existing dataset that has both binary and numerical features describing some COVID patients, as well as a column that describes whether or not the COVID patient passed away. Since the dataset is labeled, we will be using a supervised learning approach, with a goal of classification."
   ]
  },
  {
   "cell_type": "markdown",
   "id": "54700656",
   "metadata": {
    "id": "84938453",
    "papermill": {
     "duration": 0.025469,
     "end_time": "2023-07-14T18:13:09.205415",
     "exception": false,
     "start_time": "2023-07-14T18:13:09.179946",
     "status": "completed"
    },
    "tags": []
   },
   "source": [
    "## Domain\n",
    "The task, T, is the classification of mortality risk for COVID-19 patients. This will be a binary classification— 1 if the patient is likely to die from COVID-19 and 0 if the patient isn’t. The training experience, E, is the dataset of previous COVID cases that has the patients’ symptoms, demographic information, and medical history, as well as whether or not they passed away. The performance measure, P, is the percentage of patients correctly classified."
   ]
  },
  {
   "cell_type": "markdown",
   "id": "ddec042b",
   "metadata": {
    "id": "7afbdcc5",
    "papermill": {
     "duration": 0.024895,
     "end_time": "2023-07-14T18:13:09.257497",
     "exception": false,
     "start_time": "2023-07-14T18:13:09.232602",
     "status": "completed"
    },
    "tags": []
   },
   "source": [
    "## Motivation\n",
    "The motivation for this work is to identify what factors affect COVID death. The most obvious factors are age, weight, etc, but is that necessarily true with evidence from the data? We hope to investigate outlying factors that people miss when discussing COVID deaths. With over five million deaths from COVID, it is important to consider why it killed more people than all other recent virus epidemics. The main goal of this project is to build a machine learning model that, given a COVID-19 patient's current symptom, status, and medical history, will predict whether a patient is at high risk or not."
   ]
  },
  {
   "cell_type": "code",
   "execution_count": 1,
   "id": "83958267",
   "metadata": {
    "execution": {
     "iopub.execute_input": "2023-07-14T18:13:09.310332Z",
     "iopub.status.busy": "2023-07-14T18:13:09.309549Z",
     "iopub.status.idle": "2023-07-14T18:13:12.183876Z",
     "shell.execute_reply": "2023-07-14T18:13:12.182385Z"
    },
    "id": "e95857a0",
    "papermill": {
     "duration": 2.904234,
     "end_time": "2023-07-14T18:13:12.187284",
     "exception": false,
     "start_time": "2023-07-14T18:13:09.283050",
     "status": "completed"
    },
    "tags": []
   },
   "outputs": [
    {
     "name": "stderr",
     "output_type": "stream",
     "text": [
      "/opt/conda/lib/python3.10/site-packages/scipy/__init__.py:146: UserWarning: A NumPy version >=1.16.5 and <1.23.0 is required for this version of SciPy (detected version 1.23.5\n",
      "  warnings.warn(f\"A NumPy version >={np_minversion} and <{np_maxversion}\"\n"
     ]
    }
   ],
   "source": [
    "# Loading Libraries\n",
    "\n",
    "import pandas as pd\n",
    "import numpy as np\n",
    "import altair as alt\n",
    "import matplotlib.pyplot as plt\n",
    "import seaborn as sns\n",
    "from sklearn.model_selection import train_test_split\n",
    "from sklearn.metrics import confusion_matrix\n",
    "from sklearn.metrics import classification_report\n",
    "from sklearn.metrics import f1_score"
   ]
  },
  {
   "cell_type": "markdown",
   "id": "49e78034",
   "metadata": {
    "id": "37105761",
    "papermill": {
     "duration": 0.025796,
     "end_time": "2023-07-14T18:13:12.239268",
     "exception": false,
     "start_time": "2023-07-14T18:13:12.213472",
     "status": "completed"
    },
    "tags": []
   },
   "source": [
    "## The Dataset"
   ]
  },
  {
   "cell_type": "markdown",
   "id": "7d5a6c80",
   "metadata": {
    "id": "85338a91",
    "papermill": {
     "duration": 0.025034,
     "end_time": "2023-07-14T18:13:12.290372",
     "exception": false,
     "start_time": "2023-07-14T18:13:12.265338",
     "status": "completed"
    },
    "tags": []
   },
   "source": [
    "The dataset was provided by the Mexican government and is sourced from [Kaggle](https://www.kaggle.com/datasets/meirnizri/covid19-dataset). This dataset contains an enormous number of anonymized patient-related information including pre-conditions. The raw dataset consists of 21 unique features and 1,048,576 unique patients. In the Boolean features, 1 means \"yes\" and 2 means \"no\". values as 97 and 99 are missing data."
   ]
  },
  {
   "cell_type": "code",
   "execution_count": 2,
   "id": "6c0661c9",
   "metadata": {
    "execution": {
     "iopub.execute_input": "2023-07-14T18:13:12.347610Z",
     "iopub.status.busy": "2023-07-14T18:13:12.347169Z",
     "iopub.status.idle": "2023-07-14T18:13:15.836478Z",
     "shell.execute_reply": "2023-07-14T18:13:15.834753Z"
    },
    "id": "1b93171d",
    "papermill": {
     "duration": 3.522721,
     "end_time": "2023-07-14T18:13:15.839770",
     "exception": false,
     "start_time": "2023-07-14T18:13:12.317049",
     "status": "completed"
    },
    "tags": []
   },
   "outputs": [],
   "source": [
    "# Loading Dataset\n",
    "df = pd.read_csv('../input/covid19-dataset/Covid Data.csv', low_memory=False)"
   ]
  },
  {
   "cell_type": "markdown",
   "id": "8c00c92b",
   "metadata": {
    "id": "fa4f0f84",
    "papermill": {
     "duration": 0.023731,
     "end_time": "2023-07-14T18:13:15.887863",
     "exception": false,
     "start_time": "2023-07-14T18:13:15.864132",
     "status": "completed"
    },
    "tags": []
   },
   "source": [
    "### Dataset Overview"
   ]
  },
  {
   "cell_type": "code",
   "execution_count": 3,
   "id": "6b169223",
   "metadata": {
    "execution": {
     "iopub.execute_input": "2023-07-14T18:13:15.937981Z",
     "iopub.status.busy": "2023-07-14T18:13:15.937357Z",
     "iopub.status.idle": "2023-07-14T18:13:15.982161Z",
     "shell.execute_reply": "2023-07-14T18:13:15.980660Z"
    },
    "id": "46cb7193",
    "outputId": "9364945d-2973-474d-89ed-b933269e1dc5",
    "papermill": {
     "duration": 0.073356,
     "end_time": "2023-07-14T18:13:15.985222",
     "exception": false,
     "start_time": "2023-07-14T18:13:15.911866",
     "status": "completed"
    },
    "tags": []
   },
   "outputs": [
    {
     "data": {
      "text/html": [
       "<div>\n",
       "<style scoped>\n",
       "    .dataframe tbody tr th:only-of-type {\n",
       "        vertical-align: middle;\n",
       "    }\n",
       "\n",
       "    .dataframe tbody tr th {\n",
       "        vertical-align: top;\n",
       "    }\n",
       "\n",
       "    .dataframe thead th {\n",
       "        text-align: right;\n",
       "    }\n",
       "</style>\n",
       "<table border=\"1\" class=\"dataframe\">\n",
       "  <thead>\n",
       "    <tr style=\"text-align: right;\">\n",
       "      <th></th>\n",
       "      <th>USMER</th>\n",
       "      <th>MEDICAL_UNIT</th>\n",
       "      <th>SEX</th>\n",
       "      <th>PATIENT_TYPE</th>\n",
       "      <th>DATE_DIED</th>\n",
       "      <th>INTUBED</th>\n",
       "      <th>PNEUMONIA</th>\n",
       "      <th>AGE</th>\n",
       "      <th>PREGNANT</th>\n",
       "      <th>DIABETES</th>\n",
       "      <th>...</th>\n",
       "      <th>ASTHMA</th>\n",
       "      <th>INMSUPR</th>\n",
       "      <th>HIPERTENSION</th>\n",
       "      <th>OTHER_DISEASE</th>\n",
       "      <th>CARDIOVASCULAR</th>\n",
       "      <th>OBESITY</th>\n",
       "      <th>RENAL_CHRONIC</th>\n",
       "      <th>TOBACCO</th>\n",
       "      <th>CLASIFFICATION_FINAL</th>\n",
       "      <th>ICU</th>\n",
       "    </tr>\n",
       "  </thead>\n",
       "  <tbody>\n",
       "    <tr>\n",
       "      <th>0</th>\n",
       "      <td>2</td>\n",
       "      <td>1</td>\n",
       "      <td>1</td>\n",
       "      <td>1</td>\n",
       "      <td>03/05/2020</td>\n",
       "      <td>97</td>\n",
       "      <td>1</td>\n",
       "      <td>65</td>\n",
       "      <td>2</td>\n",
       "      <td>2</td>\n",
       "      <td>...</td>\n",
       "      <td>2</td>\n",
       "      <td>2</td>\n",
       "      <td>1</td>\n",
       "      <td>2</td>\n",
       "      <td>2</td>\n",
       "      <td>2</td>\n",
       "      <td>2</td>\n",
       "      <td>2</td>\n",
       "      <td>3</td>\n",
       "      <td>97</td>\n",
       "    </tr>\n",
       "    <tr>\n",
       "      <th>1</th>\n",
       "      <td>2</td>\n",
       "      <td>1</td>\n",
       "      <td>2</td>\n",
       "      <td>1</td>\n",
       "      <td>03/06/2020</td>\n",
       "      <td>97</td>\n",
       "      <td>1</td>\n",
       "      <td>72</td>\n",
       "      <td>97</td>\n",
       "      <td>2</td>\n",
       "      <td>...</td>\n",
       "      <td>2</td>\n",
       "      <td>2</td>\n",
       "      <td>1</td>\n",
       "      <td>2</td>\n",
       "      <td>2</td>\n",
       "      <td>1</td>\n",
       "      <td>1</td>\n",
       "      <td>2</td>\n",
       "      <td>5</td>\n",
       "      <td>97</td>\n",
       "    </tr>\n",
       "    <tr>\n",
       "      <th>2</th>\n",
       "      <td>2</td>\n",
       "      <td>1</td>\n",
       "      <td>2</td>\n",
       "      <td>2</td>\n",
       "      <td>09/06/2020</td>\n",
       "      <td>1</td>\n",
       "      <td>2</td>\n",
       "      <td>55</td>\n",
       "      <td>97</td>\n",
       "      <td>1</td>\n",
       "      <td>...</td>\n",
       "      <td>2</td>\n",
       "      <td>2</td>\n",
       "      <td>2</td>\n",
       "      <td>2</td>\n",
       "      <td>2</td>\n",
       "      <td>2</td>\n",
       "      <td>2</td>\n",
       "      <td>2</td>\n",
       "      <td>3</td>\n",
       "      <td>2</td>\n",
       "    </tr>\n",
       "    <tr>\n",
       "      <th>3</th>\n",
       "      <td>2</td>\n",
       "      <td>1</td>\n",
       "      <td>1</td>\n",
       "      <td>1</td>\n",
       "      <td>12/06/2020</td>\n",
       "      <td>97</td>\n",
       "      <td>2</td>\n",
       "      <td>53</td>\n",
       "      <td>2</td>\n",
       "      <td>2</td>\n",
       "      <td>...</td>\n",
       "      <td>2</td>\n",
       "      <td>2</td>\n",
       "      <td>2</td>\n",
       "      <td>2</td>\n",
       "      <td>2</td>\n",
       "      <td>2</td>\n",
       "      <td>2</td>\n",
       "      <td>2</td>\n",
       "      <td>7</td>\n",
       "      <td>97</td>\n",
       "    </tr>\n",
       "    <tr>\n",
       "      <th>4</th>\n",
       "      <td>2</td>\n",
       "      <td>1</td>\n",
       "      <td>2</td>\n",
       "      <td>1</td>\n",
       "      <td>21/06/2020</td>\n",
       "      <td>97</td>\n",
       "      <td>2</td>\n",
       "      <td>68</td>\n",
       "      <td>97</td>\n",
       "      <td>1</td>\n",
       "      <td>...</td>\n",
       "      <td>2</td>\n",
       "      <td>2</td>\n",
       "      <td>1</td>\n",
       "      <td>2</td>\n",
       "      <td>2</td>\n",
       "      <td>2</td>\n",
       "      <td>2</td>\n",
       "      <td>2</td>\n",
       "      <td>3</td>\n",
       "      <td>97</td>\n",
       "    </tr>\n",
       "  </tbody>\n",
       "</table>\n",
       "<p>5 rows × 21 columns</p>\n",
       "</div>"
      ],
      "text/plain": [
       "   USMER  MEDICAL_UNIT  SEX  PATIENT_TYPE   DATE_DIED  INTUBED  PNEUMONIA  \\\n",
       "0      2             1    1             1  03/05/2020       97          1   \n",
       "1      2             1    2             1  03/06/2020       97          1   \n",
       "2      2             1    2             2  09/06/2020        1          2   \n",
       "3      2             1    1             1  12/06/2020       97          2   \n",
       "4      2             1    2             1  21/06/2020       97          2   \n",
       "\n",
       "   AGE  PREGNANT  DIABETES  ...  ASTHMA  INMSUPR  HIPERTENSION  OTHER_DISEASE  \\\n",
       "0   65         2         2  ...       2        2             1              2   \n",
       "1   72        97         2  ...       2        2             1              2   \n",
       "2   55        97         1  ...       2        2             2              2   \n",
       "3   53         2         2  ...       2        2             2              2   \n",
       "4   68        97         1  ...       2        2             1              2   \n",
       "\n",
       "   CARDIOVASCULAR  OBESITY  RENAL_CHRONIC  TOBACCO  CLASIFFICATION_FINAL  ICU  \n",
       "0               2        2              2        2                     3   97  \n",
       "1               2        1              1        2                     5   97  \n",
       "2               2        2              2        2                     3    2  \n",
       "3               2        2              2        2                     7   97  \n",
       "4               2        2              2        2                     3   97  \n",
       "\n",
       "[5 rows x 21 columns]"
      ]
     },
     "execution_count": 3,
     "metadata": {},
     "output_type": "execute_result"
    }
   ],
   "source": [
    "df.head()"
   ]
  },
  {
   "cell_type": "code",
   "execution_count": 4,
   "id": "85f08a97",
   "metadata": {
    "execution": {
     "iopub.execute_input": "2023-07-14T18:13:16.038994Z",
     "iopub.status.busy": "2023-07-14T18:13:16.038461Z",
     "iopub.status.idle": "2023-07-14T18:13:16.047148Z",
     "shell.execute_reply": "2023-07-14T18:13:16.045578Z"
    },
    "id": "987b35cb",
    "outputId": "0b9025d6-205a-43dc-849c-c35a6ab1e61c",
    "papermill": {
     "duration": 0.038839,
     "end_time": "2023-07-14T18:13:16.049878",
     "exception": false,
     "start_time": "2023-07-14T18:13:16.011039",
     "status": "completed"
    },
    "tags": []
   },
   "outputs": [
    {
     "data": {
      "text/plain": [
       "(1048575, 21)"
      ]
     },
     "execution_count": 4,
     "metadata": {},
     "output_type": "execute_result"
    }
   ],
   "source": [
    "df.shape"
   ]
  },
  {
   "cell_type": "code",
   "execution_count": 5,
   "id": "09cee90e",
   "metadata": {
    "execution": {
     "iopub.execute_input": "2023-07-14T18:13:16.105860Z",
     "iopub.status.busy": "2023-07-14T18:13:16.105343Z",
     "iopub.status.idle": "2023-07-14T18:13:16.472359Z",
     "shell.execute_reply": "2023-07-14T18:13:16.471092Z"
    },
    "id": "62d363ee",
    "outputId": "e9544fa0-3c4a-4331-ad22-4d14562ccce4",
    "papermill": {
     "duration": 0.398737,
     "end_time": "2023-07-14T18:13:16.475241",
     "exception": false,
     "start_time": "2023-07-14T18:13:16.076504",
     "status": "completed"
    },
    "tags": []
   },
   "outputs": [
    {
     "name": "stdout",
     "output_type": "stream",
     "text": [
      "2    662903\n",
      "1    385672\n",
      "Name: USMER, dtype: int64\n",
      "\n",
      "\n",
      "12    602995\n",
      "4     314405\n",
      "6      40584\n",
      "9      38116\n",
      "3      19175\n",
      "8      10399\n",
      "10      7873\n",
      "5       7244\n",
      "11      5577\n",
      "13       996\n",
      "7        891\n",
      "2        169\n",
      "1        151\n",
      "Name: MEDICAL_UNIT, dtype: int64\n",
      "\n",
      "\n",
      "1    525064\n",
      "2    523511\n",
      "Name: SEX, dtype: int64\n",
      "\n",
      "\n",
      "1    848544\n",
      "2    200031\n",
      "Name: PATIENT_TYPE, dtype: int64\n",
      "\n",
      "\n",
      "9999-99-99    971633\n",
      "06/07/2020      1000\n",
      "07/07/2020       996\n",
      "13/07/2020       990\n",
      "16/06/2020       979\n",
      "               ...  \n",
      "24/11/2020         1\n",
      "17/12/2020         1\n",
      "08/12/2020         1\n",
      "16/03/2021         1\n",
      "22/04/2021         1\n",
      "Name: DATE_DIED, Length: 401, dtype: int64\n",
      "\n",
      "\n",
      "97    848544\n",
      "2     159050\n",
      "1      33656\n",
      "99      7325\n",
      "Name: INTUBED, dtype: int64\n",
      "\n",
      "\n",
      "2     892534\n",
      "1     140038\n",
      "99     16003\n",
      "Name: PNEUMONIA, dtype: int64\n",
      "\n",
      "\n",
      "30     27010\n",
      "31     25927\n",
      "28     25313\n",
      "29     25134\n",
      "34     24872\n",
      "       ...  \n",
      "114        2\n",
      "116        2\n",
      "111        1\n",
      "121        1\n",
      "113        1\n",
      "Name: AGE, Length: 121, dtype: int64\n",
      "\n",
      "\n",
      "97    523511\n",
      "2     513179\n",
      "1       8131\n",
      "98      3754\n",
      "Name: PREGNANT, dtype: int64\n",
      "\n",
      "\n",
      "2     920248\n",
      "1     124989\n",
      "98      3338\n",
      "Name: DIABETES, dtype: int64\n",
      "\n",
      "\n",
      "2     1030510\n",
      "1       15062\n",
      "98       3003\n",
      "Name: COPD, dtype: int64\n",
      "\n",
      "\n",
      "2     1014024\n",
      "1       31572\n",
      "98       2979\n",
      "Name: ASTHMA, dtype: int64\n",
      "\n",
      "\n",
      "2     1031001\n",
      "1       14170\n",
      "98       3404\n",
      "Name: INMSUPR, dtype: int64\n",
      "\n",
      "\n",
      "2     882742\n",
      "1     162729\n",
      "98      3104\n",
      "Name: HIPERTENSION, dtype: int64\n",
      "\n",
      "\n",
      "2     1015490\n",
      "1       28040\n",
      "98       5045\n",
      "Name: OTHER_DISEASE, dtype: int64\n",
      "\n",
      "\n",
      "2     1024730\n",
      "1       20769\n",
      "98       3076\n",
      "Name: CARDIOVASCULAR, dtype: int64\n",
      "\n",
      "\n",
      "2     885727\n",
      "1     159816\n",
      "98      3032\n",
      "Name: OBESITY, dtype: int64\n",
      "\n",
      "\n",
      "2     1026665\n",
      "1       18904\n",
      "98       3006\n",
      "Name: RENAL_CHRONIC, dtype: int64\n",
      "\n",
      "\n",
      "2     960979\n",
      "1      84376\n",
      "98      3220\n",
      "Name: TOBACCO, dtype: int64\n",
      "\n",
      "\n",
      "7    499250\n",
      "3    381527\n",
      "6    128133\n",
      "5     26091\n",
      "1      8601\n",
      "4      3122\n",
      "2      1851\n",
      "Name: CLASIFFICATION_FINAL, dtype: int64\n",
      "\n",
      "\n",
      "97    848544\n",
      "2     175685\n",
      "1      16858\n",
      "99      7488\n",
      "Name: ICU, dtype: int64\n",
      "\n",
      "\n"
     ]
    }
   ],
   "source": [
    "for i in df.columns:\n",
    "    print(df[i].value_counts())\n",
    "    print(\"\\n\")"
   ]
  },
  {
   "cell_type": "code",
   "execution_count": 6,
   "id": "29507770",
   "metadata": {
    "execution": {
     "iopub.execute_input": "2023-07-14T18:13:16.530560Z",
     "iopub.status.busy": "2023-07-14T18:13:16.530112Z",
     "iopub.status.idle": "2023-07-14T18:13:16.937115Z",
     "shell.execute_reply": "2023-07-14T18:13:16.935543Z"
    },
    "id": "070b687e",
    "outputId": "54f7ec2e-8ea4-4b83-fe41-ee30926e6286",
    "papermill": {
     "duration": 0.437516,
     "end_time": "2023-07-14T18:13:16.940336",
     "exception": false,
     "start_time": "2023-07-14T18:13:16.502820",
     "status": "completed"
    },
    "scrolled": true,
    "tags": []
   },
   "outputs": [
    {
     "name": "stdout",
     "output_type": "stream",
     "text": [
      "<class 'pandas.core.frame.DataFrame'>\n",
      "RangeIndex: 1048575 entries, 0 to 1048574\n",
      "Data columns (total 21 columns):\n",
      " #   Column                Non-Null Count    Dtype \n",
      "---  ------                --------------    ----- \n",
      " 0   USMER                 1048575 non-null  int64 \n",
      " 1   MEDICAL_UNIT          1048575 non-null  int64 \n",
      " 2   SEX                   1048575 non-null  int64 \n",
      " 3   PATIENT_TYPE          1048575 non-null  int64 \n",
      " 4   DATE_DIED             1048575 non-null  object\n",
      " 5   INTUBED               1048575 non-null  int64 \n",
      " 6   PNEUMONIA             1048575 non-null  int64 \n",
      " 7   AGE                   1048575 non-null  int64 \n",
      " 8   PREGNANT              1048575 non-null  int64 \n",
      " 9   DIABETES              1048575 non-null  int64 \n",
      " 10  COPD                  1048575 non-null  int64 \n",
      " 11  ASTHMA                1048575 non-null  int64 \n",
      " 12  INMSUPR               1048575 non-null  int64 \n",
      " 13  HIPERTENSION          1048575 non-null  int64 \n",
      " 14  OTHER_DISEASE         1048575 non-null  int64 \n",
      " 15  CARDIOVASCULAR        1048575 non-null  int64 \n",
      " 16  OBESITY               1048575 non-null  int64 \n",
      " 17  RENAL_CHRONIC         1048575 non-null  int64 \n",
      " 18  TOBACCO               1048575 non-null  int64 \n",
      " 19  CLASIFFICATION_FINAL  1048575 non-null  int64 \n",
      " 20  ICU                   1048575 non-null  int64 \n",
      "dtypes: int64(20), object(1)\n",
      "memory usage: 168.0+ MB\n"
     ]
    }
   ],
   "source": [
    "df.info()"
   ]
  },
  {
   "cell_type": "code",
   "execution_count": 7,
   "id": "3c7e33dc",
   "metadata": {
    "execution": {
     "iopub.execute_input": "2023-07-14T18:13:16.996690Z",
     "iopub.status.busy": "2023-07-14T18:13:16.996188Z",
     "iopub.status.idle": "2023-07-14T18:13:17.005006Z",
     "shell.execute_reply": "2023-07-14T18:13:17.003473Z"
    },
    "id": "202d8189",
    "outputId": "4ebc232a-1a80-4e61-f8af-81c56a426a3f",
    "papermill": {
     "duration": 0.040577,
     "end_time": "2023-07-14T18:13:17.008029",
     "exception": false,
     "start_time": "2023-07-14T18:13:16.967452",
     "status": "completed"
    },
    "tags": []
   },
   "outputs": [
    {
     "data": {
      "text/plain": [
       "array(['USMER', 'MEDICAL_UNIT', 'SEX', 'PATIENT_TYPE', 'DATE_DIED',\n",
       "       'INTUBED', 'PNEUMONIA', 'AGE', 'PREGNANT', 'DIABETES', 'COPD',\n",
       "       'ASTHMA', 'INMSUPR', 'HIPERTENSION', 'OTHER_DISEASE',\n",
       "       'CARDIOVASCULAR', 'OBESITY', 'RENAL_CHRONIC', 'TOBACCO',\n",
       "       'CLASIFFICATION_FINAL', 'ICU'], dtype=object)"
      ]
     },
     "execution_count": 7,
     "metadata": {},
     "output_type": "execute_result"
    }
   ],
   "source": [
    "df.columns.values"
   ]
  },
  {
   "cell_type": "code",
   "execution_count": 8,
   "id": "64c7e43d",
   "metadata": {
    "execution": {
     "iopub.execute_input": "2023-07-14T18:13:17.066241Z",
     "iopub.status.busy": "2023-07-14T18:13:17.065759Z",
     "iopub.status.idle": "2023-07-14T18:13:17.298326Z",
     "shell.execute_reply": "2023-07-14T18:13:17.296448Z"
    },
    "id": "408701ce",
    "outputId": "df960b8c-cc3d-4f7b-a4ee-1f7f55ce8aad",
    "papermill": {
     "duration": 0.266275,
     "end_time": "2023-07-14T18:13:17.301147",
     "exception": false,
     "start_time": "2023-07-14T18:13:17.034872",
     "status": "completed"
    },
    "tags": []
   },
   "outputs": [
    {
     "data": {
      "text/plain": [
       "USMER                     2\n",
       "MEDICAL_UNIT             13\n",
       "SEX                       2\n",
       "PATIENT_TYPE              2\n",
       "DATE_DIED               401\n",
       "INTUBED                   4\n",
       "PNEUMONIA                 3\n",
       "AGE                     121\n",
       "PREGNANT                  4\n",
       "DIABETES                  3\n",
       "COPD                      3\n",
       "ASTHMA                    3\n",
       "INMSUPR                   3\n",
       "HIPERTENSION              3\n",
       "OTHER_DISEASE             3\n",
       "CARDIOVASCULAR            3\n",
       "OBESITY                   3\n",
       "RENAL_CHRONIC             3\n",
       "TOBACCO                   3\n",
       "CLASIFFICATION_FINAL      7\n",
       "ICU                       4\n",
       "dtype: int64"
      ]
     },
     "execution_count": 8,
     "metadata": {},
     "output_type": "execute_result"
    }
   ],
   "source": [
    "df.nunique()"
   ]
  },
  {
   "cell_type": "markdown",
   "id": "bccd555d",
   "metadata": {
    "id": "a61d2a50",
    "papermill": {
     "duration": 0.026833,
     "end_time": "2023-07-14T18:13:17.354382",
     "exception": false,
     "start_time": "2023-07-14T18:13:17.327549",
     "status": "completed"
    },
    "tags": []
   },
   "source": [
    "## Data Cleaning"
   ]
  },
  {
   "cell_type": "markdown",
   "id": "03a74ae5",
   "metadata": {
    "id": "c6ba30d3",
    "papermill": {
     "duration": 0.025125,
     "end_time": "2023-07-14T18:13:17.404856",
     "exception": false,
     "start_time": "2023-07-14T18:13:17.379731",
     "status": "completed"
    },
    "tags": []
   },
   "source": [
    "### Cleaning Pregnancy Data"
   ]
  },
  {
   "cell_type": "code",
   "execution_count": 9,
   "id": "2bcbaa86",
   "metadata": {
    "execution": {
     "iopub.execute_input": "2023-07-14T18:13:17.459779Z",
     "iopub.status.busy": "2023-07-14T18:13:17.459341Z",
     "iopub.status.idle": "2023-07-14T18:13:17.480293Z",
     "shell.execute_reply": "2023-07-14T18:13:17.479028Z"
    },
    "id": "82e5cb5f",
    "outputId": "032c139c-cea6-4a7f-dbab-17f92aa2d2ea",
    "papermill": {
     "duration": 0.050686,
     "end_time": "2023-07-14T18:13:17.482835",
     "exception": false,
     "start_time": "2023-07-14T18:13:17.432149",
     "status": "completed"
    },
    "scrolled": true,
    "tags": []
   },
   "outputs": [
    {
     "data": {
      "text/plain": [
       "97    523511\n",
       "2     513179\n",
       "1       8131\n",
       "98      3754\n",
       "Name: PREGNANT, dtype: int64"
      ]
     },
     "execution_count": 9,
     "metadata": {},
     "output_type": "execute_result"
    }
   ],
   "source": [
    "df.PREGNANT.value_counts()"
   ]
  },
  {
   "cell_type": "markdown",
   "id": "0fe9f14b",
   "metadata": {
    "id": "429cddd1",
    "papermill": {
     "duration": 0.025866,
     "end_time": "2023-07-14T18:13:17.534249",
     "exception": false,
     "start_time": "2023-07-14T18:13:17.508383",
     "status": "completed"
    },
    "tags": []
   },
   "source": [
    "We see that all males have value 97 for pregnancy because it is missing. Given that males cannot get pregnant, we will change all 97's in `PREGNANT` to 2. Some females have 98 which is a missing value, so we change all the 98's in `PREGNANT` to NAN. Currently 1 represents True and 2 represents False. To change the boolean values to the conventional way, we change the 2's to 0's."
   ]
  },
  {
   "cell_type": "code",
   "execution_count": 10,
   "id": "c8c1ecdd",
   "metadata": {
    "execution": {
     "iopub.execute_input": "2023-07-14T18:13:17.591971Z",
     "iopub.status.busy": "2023-07-14T18:13:17.591563Z",
     "iopub.status.idle": "2023-07-14T18:13:17.731225Z",
     "shell.execute_reply": "2023-07-14T18:13:17.729698Z"
    },
    "id": "bec1e719",
    "outputId": "e5bd1f6a-4d08-4732-86c8-96c72c27b012",
    "papermill": {
     "duration": 0.171242,
     "end_time": "2023-07-14T18:13:17.733823",
     "exception": false,
     "start_time": "2023-07-14T18:13:17.562581",
     "status": "completed"
    },
    "tags": []
   },
   "outputs": [
    {
     "data": {
      "text/html": [
       "<div>\n",
       "<style scoped>\n",
       "    .dataframe tbody tr th:only-of-type {\n",
       "        vertical-align: middle;\n",
       "    }\n",
       "\n",
       "    .dataframe tbody tr th {\n",
       "        vertical-align: top;\n",
       "    }\n",
       "\n",
       "    .dataframe thead th {\n",
       "        text-align: right;\n",
       "    }\n",
       "</style>\n",
       "<table border=\"1\" class=\"dataframe\">\n",
       "  <thead>\n",
       "    <tr style=\"text-align: right;\">\n",
       "      <th></th>\n",
       "      <th>USMER</th>\n",
       "      <th>MEDICAL_UNIT</th>\n",
       "      <th>SEX</th>\n",
       "      <th>PATIENT_TYPE</th>\n",
       "      <th>DATE_DIED</th>\n",
       "      <th>INTUBED</th>\n",
       "      <th>PNEUMONIA</th>\n",
       "      <th>AGE</th>\n",
       "      <th>PREGNANT</th>\n",
       "      <th>DIABETES</th>\n",
       "      <th>...</th>\n",
       "      <th>ASTHMA</th>\n",
       "      <th>INMSUPR</th>\n",
       "      <th>HIPERTENSION</th>\n",
       "      <th>OTHER_DISEASE</th>\n",
       "      <th>CARDIOVASCULAR</th>\n",
       "      <th>OBESITY</th>\n",
       "      <th>RENAL_CHRONIC</th>\n",
       "      <th>TOBACCO</th>\n",
       "      <th>CLASIFFICATION_FINAL</th>\n",
       "      <th>ICU</th>\n",
       "    </tr>\n",
       "  </thead>\n",
       "  <tbody>\n",
       "    <tr>\n",
       "      <th>0</th>\n",
       "      <td>2</td>\n",
       "      <td>1</td>\n",
       "      <td>1</td>\n",
       "      <td>1</td>\n",
       "      <td>03/05/2020</td>\n",
       "      <td>97</td>\n",
       "      <td>1</td>\n",
       "      <td>65</td>\n",
       "      <td>0.0</td>\n",
       "      <td>2</td>\n",
       "      <td>...</td>\n",
       "      <td>2</td>\n",
       "      <td>2</td>\n",
       "      <td>1</td>\n",
       "      <td>2</td>\n",
       "      <td>2</td>\n",
       "      <td>2</td>\n",
       "      <td>2</td>\n",
       "      <td>2</td>\n",
       "      <td>3</td>\n",
       "      <td>97</td>\n",
       "    </tr>\n",
       "    <tr>\n",
       "      <th>1</th>\n",
       "      <td>2</td>\n",
       "      <td>1</td>\n",
       "      <td>2</td>\n",
       "      <td>1</td>\n",
       "      <td>03/06/2020</td>\n",
       "      <td>97</td>\n",
       "      <td>1</td>\n",
       "      <td>72</td>\n",
       "      <td>0.0</td>\n",
       "      <td>2</td>\n",
       "      <td>...</td>\n",
       "      <td>2</td>\n",
       "      <td>2</td>\n",
       "      <td>1</td>\n",
       "      <td>2</td>\n",
       "      <td>2</td>\n",
       "      <td>1</td>\n",
       "      <td>1</td>\n",
       "      <td>2</td>\n",
       "      <td>5</td>\n",
       "      <td>97</td>\n",
       "    </tr>\n",
       "    <tr>\n",
       "      <th>2</th>\n",
       "      <td>2</td>\n",
       "      <td>1</td>\n",
       "      <td>2</td>\n",
       "      <td>2</td>\n",
       "      <td>09/06/2020</td>\n",
       "      <td>1</td>\n",
       "      <td>2</td>\n",
       "      <td>55</td>\n",
       "      <td>0.0</td>\n",
       "      <td>1</td>\n",
       "      <td>...</td>\n",
       "      <td>2</td>\n",
       "      <td>2</td>\n",
       "      <td>2</td>\n",
       "      <td>2</td>\n",
       "      <td>2</td>\n",
       "      <td>2</td>\n",
       "      <td>2</td>\n",
       "      <td>2</td>\n",
       "      <td>3</td>\n",
       "      <td>2</td>\n",
       "    </tr>\n",
       "    <tr>\n",
       "      <th>3</th>\n",
       "      <td>2</td>\n",
       "      <td>1</td>\n",
       "      <td>1</td>\n",
       "      <td>1</td>\n",
       "      <td>12/06/2020</td>\n",
       "      <td>97</td>\n",
       "      <td>2</td>\n",
       "      <td>53</td>\n",
       "      <td>0.0</td>\n",
       "      <td>2</td>\n",
       "      <td>...</td>\n",
       "      <td>2</td>\n",
       "      <td>2</td>\n",
       "      <td>2</td>\n",
       "      <td>2</td>\n",
       "      <td>2</td>\n",
       "      <td>2</td>\n",
       "      <td>2</td>\n",
       "      <td>2</td>\n",
       "      <td>7</td>\n",
       "      <td>97</td>\n",
       "    </tr>\n",
       "    <tr>\n",
       "      <th>4</th>\n",
       "      <td>2</td>\n",
       "      <td>1</td>\n",
       "      <td>2</td>\n",
       "      <td>1</td>\n",
       "      <td>21/06/2020</td>\n",
       "      <td>97</td>\n",
       "      <td>2</td>\n",
       "      <td>68</td>\n",
       "      <td>0.0</td>\n",
       "      <td>1</td>\n",
       "      <td>...</td>\n",
       "      <td>2</td>\n",
       "      <td>2</td>\n",
       "      <td>1</td>\n",
       "      <td>2</td>\n",
       "      <td>2</td>\n",
       "      <td>2</td>\n",
       "      <td>2</td>\n",
       "      <td>2</td>\n",
       "      <td>3</td>\n",
       "      <td>97</td>\n",
       "    </tr>\n",
       "  </tbody>\n",
       "</table>\n",
       "<p>5 rows × 21 columns</p>\n",
       "</div>"
      ],
      "text/plain": [
       "   USMER  MEDICAL_UNIT  SEX  PATIENT_TYPE   DATE_DIED  INTUBED  PNEUMONIA  \\\n",
       "0      2             1    1             1  03/05/2020       97          1   \n",
       "1      2             1    2             1  03/06/2020       97          1   \n",
       "2      2             1    2             2  09/06/2020        1          2   \n",
       "3      2             1    1             1  12/06/2020       97          2   \n",
       "4      2             1    2             1  21/06/2020       97          2   \n",
       "\n",
       "   AGE  PREGNANT  DIABETES  ...  ASTHMA  INMSUPR  HIPERTENSION  OTHER_DISEASE  \\\n",
       "0   65       0.0         2  ...       2        2             1              2   \n",
       "1   72       0.0         2  ...       2        2             1              2   \n",
       "2   55       0.0         1  ...       2        2             2              2   \n",
       "3   53       0.0         2  ...       2        2             2              2   \n",
       "4   68       0.0         1  ...       2        2             1              2   \n",
       "\n",
       "   CARDIOVASCULAR  OBESITY  RENAL_CHRONIC  TOBACCO  CLASIFFICATION_FINAL  ICU  \n",
       "0               2        2              2        2                     3   97  \n",
       "1               2        1              1        2                     5   97  \n",
       "2               2        2              2        2                     3    2  \n",
       "3               2        2              2        2                     7   97  \n",
       "4               2        2              2        2                     3   97  \n",
       "\n",
       "[5 rows x 21 columns]"
      ]
     },
     "execution_count": 10,
     "metadata": {},
     "output_type": "execute_result"
    }
   ],
   "source": [
    "df.loc[:, 'PREGNANT'] = df.loc[:, 'PREGNANT'].replace(97, 2)\n",
    "df.loc[:, 'PREGNANT'] = df.loc[:, 'PREGNANT'].replace(98, np.NAN)\n",
    "df.loc[:, 'PREGNANT'] = df.loc[:, 'PREGNANT'].replace(2, 0)\n",
    "\n",
    "df.head()"
   ]
  },
  {
   "cell_type": "markdown",
   "id": "3333790d",
   "metadata": {
    "id": "cc4c301a",
    "papermill": {
     "duration": 0.029494,
     "end_time": "2023-07-14T18:13:17.792065",
     "exception": false,
     "start_time": "2023-07-14T18:13:17.762571",
     "status": "completed"
    },
    "tags": []
   },
   "source": [
    "Some columns contain 3-4 unique values when it should be a boolean: YES or NO. We replace all 97's, 98's, and 99's to NAN because they are missing values. The 1's mean YES and 2's mean NO, so we change 2's to 0's, the conventional way to represent Boolean values."
   ]
  },
  {
   "cell_type": "code",
   "execution_count": 11,
   "id": "9fa33be2",
   "metadata": {
    "execution": {
     "iopub.execute_input": "2023-07-14T18:13:17.850787Z",
     "iopub.status.busy": "2023-07-14T18:13:17.850266Z",
     "iopub.status.idle": "2023-07-14T18:13:19.850699Z",
     "shell.execute_reply": "2023-07-14T18:13:19.848615Z"
    },
    "id": "86a4fb10",
    "outputId": "db6688ec-d632-4e7d-f37a-b466b8e1d573",
    "papermill": {
     "duration": 2.03509,
     "end_time": "2023-07-14T18:13:19.854151",
     "exception": false,
     "start_time": "2023-07-14T18:13:17.819061",
     "status": "completed"
    },
    "scrolled": true,
    "tags": []
   },
   "outputs": [
    {
     "data": {
      "text/html": [
       "<div>\n",
       "<style scoped>\n",
       "    .dataframe tbody tr th:only-of-type {\n",
       "        vertical-align: middle;\n",
       "    }\n",
       "\n",
       "    .dataframe tbody tr th {\n",
       "        vertical-align: top;\n",
       "    }\n",
       "\n",
       "    .dataframe thead th {\n",
       "        text-align: right;\n",
       "    }\n",
       "</style>\n",
       "<table border=\"1\" class=\"dataframe\">\n",
       "  <thead>\n",
       "    <tr style=\"text-align: right;\">\n",
       "      <th></th>\n",
       "      <th>USMER</th>\n",
       "      <th>MEDICAL_UNIT</th>\n",
       "      <th>SEX</th>\n",
       "      <th>PATIENT_TYPE</th>\n",
       "      <th>DATE_DIED</th>\n",
       "      <th>INTUBED</th>\n",
       "      <th>PNEUMONIA</th>\n",
       "      <th>AGE</th>\n",
       "      <th>PREGNANT</th>\n",
       "      <th>DIABETES</th>\n",
       "      <th>...</th>\n",
       "      <th>ASTHMA</th>\n",
       "      <th>INMSUPR</th>\n",
       "      <th>HIPERTENSION</th>\n",
       "      <th>OTHER_DISEASE</th>\n",
       "      <th>CARDIOVASCULAR</th>\n",
       "      <th>OBESITY</th>\n",
       "      <th>RENAL_CHRONIC</th>\n",
       "      <th>TOBACCO</th>\n",
       "      <th>CLASIFFICATION_FINAL</th>\n",
       "      <th>ICU</th>\n",
       "    </tr>\n",
       "  </thead>\n",
       "  <tbody>\n",
       "    <tr>\n",
       "      <th>0</th>\n",
       "      <td>2</td>\n",
       "      <td>1</td>\n",
       "      <td>1</td>\n",
       "      <td>1</td>\n",
       "      <td>03/05/2020</td>\n",
       "      <td>NaN</td>\n",
       "      <td>1.0</td>\n",
       "      <td>65</td>\n",
       "      <td>0.0</td>\n",
       "      <td>0.0</td>\n",
       "      <td>...</td>\n",
       "      <td>0.0</td>\n",
       "      <td>0.0</td>\n",
       "      <td>1.0</td>\n",
       "      <td>0.0</td>\n",
       "      <td>0.0</td>\n",
       "      <td>0.0</td>\n",
       "      <td>0.0</td>\n",
       "      <td>0.0</td>\n",
       "      <td>3</td>\n",
       "      <td>NaN</td>\n",
       "    </tr>\n",
       "    <tr>\n",
       "      <th>1</th>\n",
       "      <td>2</td>\n",
       "      <td>1</td>\n",
       "      <td>2</td>\n",
       "      <td>1</td>\n",
       "      <td>03/06/2020</td>\n",
       "      <td>NaN</td>\n",
       "      <td>1.0</td>\n",
       "      <td>72</td>\n",
       "      <td>0.0</td>\n",
       "      <td>0.0</td>\n",
       "      <td>...</td>\n",
       "      <td>0.0</td>\n",
       "      <td>0.0</td>\n",
       "      <td>1.0</td>\n",
       "      <td>0.0</td>\n",
       "      <td>0.0</td>\n",
       "      <td>1.0</td>\n",
       "      <td>1.0</td>\n",
       "      <td>0.0</td>\n",
       "      <td>5</td>\n",
       "      <td>NaN</td>\n",
       "    </tr>\n",
       "    <tr>\n",
       "      <th>2</th>\n",
       "      <td>2</td>\n",
       "      <td>1</td>\n",
       "      <td>2</td>\n",
       "      <td>2</td>\n",
       "      <td>09/06/2020</td>\n",
       "      <td>1.0</td>\n",
       "      <td>0.0</td>\n",
       "      <td>55</td>\n",
       "      <td>0.0</td>\n",
       "      <td>1.0</td>\n",
       "      <td>...</td>\n",
       "      <td>0.0</td>\n",
       "      <td>0.0</td>\n",
       "      <td>0.0</td>\n",
       "      <td>0.0</td>\n",
       "      <td>0.0</td>\n",
       "      <td>0.0</td>\n",
       "      <td>0.0</td>\n",
       "      <td>0.0</td>\n",
       "      <td>3</td>\n",
       "      <td>0.0</td>\n",
       "    </tr>\n",
       "    <tr>\n",
       "      <th>3</th>\n",
       "      <td>2</td>\n",
       "      <td>1</td>\n",
       "      <td>1</td>\n",
       "      <td>1</td>\n",
       "      <td>12/06/2020</td>\n",
       "      <td>NaN</td>\n",
       "      <td>0.0</td>\n",
       "      <td>53</td>\n",
       "      <td>0.0</td>\n",
       "      <td>0.0</td>\n",
       "      <td>...</td>\n",
       "      <td>0.0</td>\n",
       "      <td>0.0</td>\n",
       "      <td>0.0</td>\n",
       "      <td>0.0</td>\n",
       "      <td>0.0</td>\n",
       "      <td>0.0</td>\n",
       "      <td>0.0</td>\n",
       "      <td>0.0</td>\n",
       "      <td>7</td>\n",
       "      <td>NaN</td>\n",
       "    </tr>\n",
       "    <tr>\n",
       "      <th>4</th>\n",
       "      <td>2</td>\n",
       "      <td>1</td>\n",
       "      <td>2</td>\n",
       "      <td>1</td>\n",
       "      <td>21/06/2020</td>\n",
       "      <td>NaN</td>\n",
       "      <td>0.0</td>\n",
       "      <td>68</td>\n",
       "      <td>0.0</td>\n",
       "      <td>1.0</td>\n",
       "      <td>...</td>\n",
       "      <td>0.0</td>\n",
       "      <td>0.0</td>\n",
       "      <td>1.0</td>\n",
       "      <td>0.0</td>\n",
       "      <td>0.0</td>\n",
       "      <td>0.0</td>\n",
       "      <td>0.0</td>\n",
       "      <td>0.0</td>\n",
       "      <td>3</td>\n",
       "      <td>NaN</td>\n",
       "    </tr>\n",
       "  </tbody>\n",
       "</table>\n",
       "<p>5 rows × 21 columns</p>\n",
       "</div>"
      ],
      "text/plain": [
       "   USMER  MEDICAL_UNIT  SEX  PATIENT_TYPE   DATE_DIED  INTUBED  PNEUMONIA  \\\n",
       "0      2             1    1             1  03/05/2020      NaN        1.0   \n",
       "1      2             1    2             1  03/06/2020      NaN        1.0   \n",
       "2      2             1    2             2  09/06/2020      1.0        0.0   \n",
       "3      2             1    1             1  12/06/2020      NaN        0.0   \n",
       "4      2             1    2             1  21/06/2020      NaN        0.0   \n",
       "\n",
       "   AGE  PREGNANT  DIABETES  ...  ASTHMA  INMSUPR  HIPERTENSION  OTHER_DISEASE  \\\n",
       "0   65       0.0       0.0  ...     0.0      0.0           1.0            0.0   \n",
       "1   72       0.0       0.0  ...     0.0      0.0           1.0            0.0   \n",
       "2   55       0.0       1.0  ...     0.0      0.0           0.0            0.0   \n",
       "3   53       0.0       0.0  ...     0.0      0.0           0.0            0.0   \n",
       "4   68       0.0       1.0  ...     0.0      0.0           1.0            0.0   \n",
       "\n",
       "   CARDIOVASCULAR  OBESITY  RENAL_CHRONIC  TOBACCO  CLASIFFICATION_FINAL  ICU  \n",
       "0             0.0      0.0            0.0      0.0                     3  NaN  \n",
       "1             0.0      1.0            1.0      0.0                     5  NaN  \n",
       "2             0.0      0.0            0.0      0.0                     3  0.0  \n",
       "3             0.0      0.0            0.0      0.0                     7  NaN  \n",
       "4             0.0      0.0            0.0      0.0                     3  NaN  \n",
       "\n",
       "[5 rows x 21 columns]"
      ]
     },
     "execution_count": 11,
     "metadata": {},
     "output_type": "execute_result"
    }
   ],
   "source": [
    "var = df.columns[(df.nunique() == 3) | (df.nunique() == 4)].tolist()\n",
    "df.loc[:, var] = df.loc[:, var].replace([97, 98, 99], np.NAN)\n",
    "df.loc[:, var] = df.loc[:, var].replace(2, 0)\n",
    "\n",
    "df.head()"
   ]
  },
  {
   "cell_type": "code",
   "execution_count": 12,
   "id": "d36aa2a3",
   "metadata": {
    "execution": {
     "iopub.execute_input": "2023-07-14T18:13:19.914453Z",
     "iopub.status.busy": "2023-07-14T18:13:19.913560Z",
     "iopub.status.idle": "2023-07-14T18:13:20.062089Z",
     "shell.execute_reply": "2023-07-14T18:13:20.060729Z"
    },
    "id": "01806294",
    "outputId": "fbae9ef2-812a-4fc2-bd77-06dff163ef5e",
    "papermill": {
     "duration": 0.181379,
     "end_time": "2023-07-14T18:13:20.064921",
     "exception": false,
     "start_time": "2023-07-14T18:13:19.883542",
     "status": "completed"
    },
    "tags": []
   },
   "outputs": [
    {
     "data": {
      "text/plain": [
       "9999-99-99    971633\n",
       "06/07/2020      1000\n",
       "07/07/2020       996\n",
       "13/07/2020       990\n",
       "16/06/2020       979\n",
       "               ...  \n",
       "24/11/2020         1\n",
       "17/12/2020         1\n",
       "08/12/2020         1\n",
       "16/03/2021         1\n",
       "22/04/2021         1\n",
       "Name: DATE_DIED, Length: 401, dtype: int64"
      ]
     },
     "execution_count": 12,
     "metadata": {},
     "output_type": "execute_result"
    }
   ],
   "source": [
    "df.DATE_DIED.value_counts()"
   ]
  },
  {
   "cell_type": "markdown",
   "id": "1f2bc270",
   "metadata": {
    "id": "3f7f5aa3",
    "papermill": {
     "duration": 0.030608,
     "end_time": "2023-07-14T18:13:20.124073",
     "exception": false,
     "start_time": "2023-07-14T18:13:20.093465",
     "status": "completed"
    },
    "tags": []
   },
   "source": [
    "`DATE_DIED` is represent as a pandas date format of when the patient died. If we have `9999-99-99` values, that means this patient is alive. Since our goal is to build models that predict surival rate given a patient's characteristics, we will change the DATE_DIED to 0 if the patient is alive or 1 if the patient died."
   ]
  },
  {
   "cell_type": "code",
   "execution_count": 13,
   "id": "6458a861",
   "metadata": {
    "execution": {
     "iopub.execute_input": "2023-07-14T18:13:20.185035Z",
     "iopub.status.busy": "2023-07-14T18:13:20.184182Z",
     "iopub.status.idle": "2023-07-14T18:13:20.536102Z",
     "shell.execute_reply": "2023-07-14T18:13:20.534753Z"
    },
    "id": "99458a8c",
    "outputId": "db48e2c1-f83e-4375-f362-6d744e5e5ce1",
    "papermill": {
     "duration": 0.386914,
     "end_time": "2023-07-14T18:13:20.538888",
     "exception": false,
     "start_time": "2023-07-14T18:13:20.151974",
     "status": "completed"
    },
    "scrolled": true,
    "tags": []
   },
   "outputs": [
    {
     "data": {
      "text/html": [
       "<div>\n",
       "<style scoped>\n",
       "    .dataframe tbody tr th:only-of-type {\n",
       "        vertical-align: middle;\n",
       "    }\n",
       "\n",
       "    .dataframe tbody tr th {\n",
       "        vertical-align: top;\n",
       "    }\n",
       "\n",
       "    .dataframe thead th {\n",
       "        text-align: right;\n",
       "    }\n",
       "</style>\n",
       "<table border=\"1\" class=\"dataframe\">\n",
       "  <thead>\n",
       "    <tr style=\"text-align: right;\">\n",
       "      <th></th>\n",
       "      <th>USMER</th>\n",
       "      <th>MEDICAL_UNIT</th>\n",
       "      <th>SEX</th>\n",
       "      <th>PATIENT_TYPE</th>\n",
       "      <th>INTUBED</th>\n",
       "      <th>PNEUMONIA</th>\n",
       "      <th>AGE</th>\n",
       "      <th>PREGNANT</th>\n",
       "      <th>DIABETES</th>\n",
       "      <th>COPD</th>\n",
       "      <th>...</th>\n",
       "      <th>INMSUPR</th>\n",
       "      <th>HIPERTENSION</th>\n",
       "      <th>OTHER_DISEASE</th>\n",
       "      <th>CARDIOVASCULAR</th>\n",
       "      <th>OBESITY</th>\n",
       "      <th>RENAL_CHRONIC</th>\n",
       "      <th>TOBACCO</th>\n",
       "      <th>CLASIFFICATION_FINAL</th>\n",
       "      <th>ICU</th>\n",
       "      <th>DIED</th>\n",
       "    </tr>\n",
       "  </thead>\n",
       "  <tbody>\n",
       "    <tr>\n",
       "      <th>0</th>\n",
       "      <td>2</td>\n",
       "      <td>1</td>\n",
       "      <td>1</td>\n",
       "      <td>1</td>\n",
       "      <td>NaN</td>\n",
       "      <td>1.0</td>\n",
       "      <td>65</td>\n",
       "      <td>0.0</td>\n",
       "      <td>0.0</td>\n",
       "      <td>0.0</td>\n",
       "      <td>...</td>\n",
       "      <td>0.0</td>\n",
       "      <td>1.0</td>\n",
       "      <td>0.0</td>\n",
       "      <td>0.0</td>\n",
       "      <td>0.0</td>\n",
       "      <td>0.0</td>\n",
       "      <td>0.0</td>\n",
       "      <td>3</td>\n",
       "      <td>NaN</td>\n",
       "      <td>1</td>\n",
       "    </tr>\n",
       "    <tr>\n",
       "      <th>1</th>\n",
       "      <td>2</td>\n",
       "      <td>1</td>\n",
       "      <td>2</td>\n",
       "      <td>1</td>\n",
       "      <td>NaN</td>\n",
       "      <td>1.0</td>\n",
       "      <td>72</td>\n",
       "      <td>0.0</td>\n",
       "      <td>0.0</td>\n",
       "      <td>0.0</td>\n",
       "      <td>...</td>\n",
       "      <td>0.0</td>\n",
       "      <td>1.0</td>\n",
       "      <td>0.0</td>\n",
       "      <td>0.0</td>\n",
       "      <td>1.0</td>\n",
       "      <td>1.0</td>\n",
       "      <td>0.0</td>\n",
       "      <td>5</td>\n",
       "      <td>NaN</td>\n",
       "      <td>1</td>\n",
       "    </tr>\n",
       "    <tr>\n",
       "      <th>2</th>\n",
       "      <td>2</td>\n",
       "      <td>1</td>\n",
       "      <td>2</td>\n",
       "      <td>2</td>\n",
       "      <td>1.0</td>\n",
       "      <td>0.0</td>\n",
       "      <td>55</td>\n",
       "      <td>0.0</td>\n",
       "      <td>1.0</td>\n",
       "      <td>0.0</td>\n",
       "      <td>...</td>\n",
       "      <td>0.0</td>\n",
       "      <td>0.0</td>\n",
       "      <td>0.0</td>\n",
       "      <td>0.0</td>\n",
       "      <td>0.0</td>\n",
       "      <td>0.0</td>\n",
       "      <td>0.0</td>\n",
       "      <td>3</td>\n",
       "      <td>0.0</td>\n",
       "      <td>1</td>\n",
       "    </tr>\n",
       "    <tr>\n",
       "      <th>3</th>\n",
       "      <td>2</td>\n",
       "      <td>1</td>\n",
       "      <td>1</td>\n",
       "      <td>1</td>\n",
       "      <td>NaN</td>\n",
       "      <td>0.0</td>\n",
       "      <td>53</td>\n",
       "      <td>0.0</td>\n",
       "      <td>0.0</td>\n",
       "      <td>0.0</td>\n",
       "      <td>...</td>\n",
       "      <td>0.0</td>\n",
       "      <td>0.0</td>\n",
       "      <td>0.0</td>\n",
       "      <td>0.0</td>\n",
       "      <td>0.0</td>\n",
       "      <td>0.0</td>\n",
       "      <td>0.0</td>\n",
       "      <td>7</td>\n",
       "      <td>NaN</td>\n",
       "      <td>1</td>\n",
       "    </tr>\n",
       "    <tr>\n",
       "      <th>4</th>\n",
       "      <td>2</td>\n",
       "      <td>1</td>\n",
       "      <td>2</td>\n",
       "      <td>1</td>\n",
       "      <td>NaN</td>\n",
       "      <td>0.0</td>\n",
       "      <td>68</td>\n",
       "      <td>0.0</td>\n",
       "      <td>1.0</td>\n",
       "      <td>0.0</td>\n",
       "      <td>...</td>\n",
       "      <td>0.0</td>\n",
       "      <td>1.0</td>\n",
       "      <td>0.0</td>\n",
       "      <td>0.0</td>\n",
       "      <td>0.0</td>\n",
       "      <td>0.0</td>\n",
       "      <td>0.0</td>\n",
       "      <td>3</td>\n",
       "      <td>NaN</td>\n",
       "      <td>1</td>\n",
       "    </tr>\n",
       "  </tbody>\n",
       "</table>\n",
       "<p>5 rows × 21 columns</p>\n",
       "</div>"
      ],
      "text/plain": [
       "   USMER  MEDICAL_UNIT  SEX  PATIENT_TYPE  INTUBED  PNEUMONIA  AGE  PREGNANT  \\\n",
       "0      2             1    1             1      NaN        1.0   65       0.0   \n",
       "1      2             1    2             1      NaN        1.0   72       0.0   \n",
       "2      2             1    2             2      1.0        0.0   55       0.0   \n",
       "3      2             1    1             1      NaN        0.0   53       0.0   \n",
       "4      2             1    2             1      NaN        0.0   68       0.0   \n",
       "\n",
       "   DIABETES  COPD  ...  INMSUPR  HIPERTENSION  OTHER_DISEASE  CARDIOVASCULAR  \\\n",
       "0       0.0   0.0  ...      0.0           1.0            0.0             0.0   \n",
       "1       0.0   0.0  ...      0.0           1.0            0.0             0.0   \n",
       "2       1.0   0.0  ...      0.0           0.0            0.0             0.0   \n",
       "3       0.0   0.0  ...      0.0           0.0            0.0             0.0   \n",
       "4       1.0   0.0  ...      0.0           1.0            0.0             0.0   \n",
       "\n",
       "   OBESITY  RENAL_CHRONIC  TOBACCO  CLASIFFICATION_FINAL  ICU  DIED  \n",
       "0      0.0            0.0      0.0                     3  NaN     1  \n",
       "1      1.0            1.0      0.0                     5  NaN     1  \n",
       "2      0.0            0.0      0.0                     3  0.0     1  \n",
       "3      0.0            0.0      0.0                     7  NaN     1  \n",
       "4      0.0            0.0      0.0                     3  NaN     1  \n",
       "\n",
       "[5 rows x 21 columns]"
      ]
     },
     "execution_count": 13,
     "metadata": {},
     "output_type": "execute_result"
    }
   ],
   "source": [
    "df['DIED'] = np.where(df['DATE_DIED'] == '9999-99-99', 0, 1)\n",
    "df.drop(columns='DATE_DIED', inplace=True)\n",
    "\n",
    "df.head()"
   ]
  },
  {
   "cell_type": "markdown",
   "id": "e22db15d",
   "metadata": {
    "id": "5b65915d",
    "papermill": {
     "duration": 0.029369,
     "end_time": "2023-07-14T18:13:20.597409",
     "exception": false,
     "start_time": "2023-07-14T18:13:20.568040",
     "status": "completed"
    },
    "tags": []
   },
   "source": [
    "Values between 1 and 3 in `CLASIFFICATION_FINAL` are people who have been infected with the covid virus before. Higher values indicate people who have been tested and have negative results or whose results are unknown."
   ]
  },
  {
   "cell_type": "code",
   "execution_count": 14,
   "id": "26c87677",
   "metadata": {
    "execution": {
     "iopub.execute_input": "2023-07-14T18:13:20.657861Z",
     "iopub.status.busy": "2023-07-14T18:13:20.657003Z",
     "iopub.status.idle": "2023-07-14T18:13:20.708122Z",
     "shell.execute_reply": "2023-07-14T18:13:20.706838Z"
    },
    "id": "151a9fbb",
    "outputId": "c33afb0c-81fc-40e7-98d3-6960cdcbc775",
    "papermill": {
     "duration": 0.083623,
     "end_time": "2023-07-14T18:13:20.710865",
     "exception": false,
     "start_time": "2023-07-14T18:13:20.627242",
     "status": "completed"
    },
    "tags": []
   },
   "outputs": [
    {
     "name": "stdout",
     "output_type": "stream",
     "text": [
      "Percentage of NAN values\n",
      "USMER                =>       0.00%\n",
      "MEDICAL_UNIT         =>       0.00%\n",
      "SEX                  =>       0.00%\n",
      "PATIENT_TYPE         =>       0.00%\n",
      "INTUBED              =>      81.62%\n",
      "PNEUMONIA            =>       1.53%\n",
      "AGE                  =>       0.00%\n",
      "PREGNANT             =>       0.36%\n",
      "DIABETES             =>       0.32%\n",
      "COPD                 =>       0.29%\n",
      "ASTHMA               =>       0.28%\n",
      "INMSUPR              =>       0.32%\n",
      "HIPERTENSION         =>       0.30%\n",
      "OTHER_DISEASE        =>       0.48%\n",
      "CARDIOVASCULAR       =>       0.29%\n",
      "OBESITY              =>       0.29%\n",
      "RENAL_CHRONIC        =>       0.29%\n",
      "TOBACCO              =>       0.31%\n",
      "CLASIFFICATION_FINAL =>       0.00%\n",
      "ICU                  =>      81.64%\n",
      "DIED                 =>       0.00%\n"
     ]
    }
   ],
   "source": [
    "print('Percentage of NAN values')\n",
    "for col in df.columns :\n",
    "    print('{:<20} => {:>10.2f}%'.format(col, df[col].isna().sum()/len(df)*100))"
   ]
  },
  {
   "cell_type": "code",
   "execution_count": 15,
   "id": "b6094504",
   "metadata": {
    "execution": {
     "iopub.execute_input": "2023-07-14T18:13:20.773563Z",
     "iopub.status.busy": "2023-07-14T18:13:20.772698Z",
     "iopub.status.idle": "2023-07-14T18:13:20.837131Z",
     "shell.execute_reply": "2023-07-14T18:13:20.835864Z"
    },
    "id": "dd45ff69",
    "outputId": "fba9efb8-9956-4061-e961-b5a3aa2e4ca5",
    "papermill": {
     "duration": 0.101102,
     "end_time": "2023-07-14T18:13:20.840324",
     "exception": false,
     "start_time": "2023-07-14T18:13:20.739222",
     "status": "completed"
    },
    "scrolled": true,
    "tags": []
   },
   "outputs": [
    {
     "data": {
      "text/plain": [
       "USMER                        0\n",
       "MEDICAL_UNIT                 0\n",
       "SEX                          0\n",
       "PATIENT_TYPE                 0\n",
       "INTUBED                 855869\n",
       "PNEUMONIA                16003\n",
       "AGE                          0\n",
       "PREGNANT                  3754\n",
       "DIABETES                  3338\n",
       "COPD                      3003\n",
       "ASTHMA                    2979\n",
       "INMSUPR                   3404\n",
       "HIPERTENSION              3104\n",
       "OTHER_DISEASE             5045\n",
       "CARDIOVASCULAR            3076\n",
       "OBESITY                   3032\n",
       "RENAL_CHRONIC             3006\n",
       "TOBACCO                   3220\n",
       "CLASIFFICATION_FINAL         0\n",
       "ICU                     856032\n",
       "DIED                         0\n",
       "dtype: int64"
      ]
     },
     "execution_count": 15,
     "metadata": {},
     "output_type": "execute_result"
    }
   ],
   "source": [
    "df.isnull().sum()"
   ]
  },
  {
   "cell_type": "markdown",
   "id": "4e41fc4c",
   "metadata": {
    "id": "5cdd0698",
    "papermill": {
     "duration": 0.028929,
     "end_time": "2023-07-14T18:13:20.899182",
     "exception": false,
     "start_time": "2023-07-14T18:13:20.870253",
     "status": "completed"
    },
    "tags": []
   },
   "source": [
    "Drop INTUBED and ICU due to large missing values"
   ]
  },
  {
   "cell_type": "code",
   "execution_count": 16,
   "id": "e828f28b",
   "metadata": {
    "execution": {
     "iopub.execute_input": "2023-07-14T18:13:20.956361Z",
     "iopub.status.busy": "2023-07-14T18:13:20.955854Z",
     "iopub.status.idle": "2023-07-14T18:13:21.075356Z",
     "shell.execute_reply": "2023-07-14T18:13:21.074027Z"
    },
    "id": "1c8d7e39",
    "papermill": {
     "duration": 0.152072,
     "end_time": "2023-07-14T18:13:21.078793",
     "exception": false,
     "start_time": "2023-07-14T18:13:20.926721",
     "status": "completed"
    },
    "tags": []
   },
   "outputs": [],
   "source": [
    "df.drop(columns=['INTUBED','ICU'], inplace=True)"
   ]
  },
  {
   "cell_type": "markdown",
   "id": "5901d5e2",
   "metadata": {
    "id": "aa440f7a",
    "papermill": {
     "duration": 0.030462,
     "end_time": "2023-07-14T18:13:21.139721",
     "exception": false,
     "start_time": "2023-07-14T18:13:21.109259",
     "status": "completed"
    },
    "tags": []
   },
   "source": [
    "## Feature Engineering"
   ]
  },
  {
   "cell_type": "markdown",
   "id": "1bfb6e9b",
   "metadata": {
    "id": "d8a7a8f1",
    "papermill": {
     "duration": 0.029952,
     "end_time": "2023-07-14T18:13:21.201164",
     "exception": false,
     "start_time": "2023-07-14T18:13:21.171212",
     "status": "completed"
    },
    "tags": []
   },
   "source": [
    "### Correlation"
   ]
  },
  {
   "cell_type": "code",
   "execution_count": 17,
   "id": "34ef89b5",
   "metadata": {
    "execution": {
     "iopub.execute_input": "2023-07-14T18:13:21.262742Z",
     "iopub.status.busy": "2023-07-14T18:13:21.262217Z",
     "iopub.status.idle": "2023-07-14T18:13:23.044288Z",
     "shell.execute_reply": "2023-07-14T18:13:23.042927Z"
    },
    "id": "07894677",
    "outputId": "46422789-86a8-48fa-d4dd-70e710783382",
    "papermill": {
     "duration": 1.815984,
     "end_time": "2023-07-14T18:13:23.046990",
     "exception": false,
     "start_time": "2023-07-14T18:13:21.231006",
     "status": "completed"
    },
    "tags": []
   },
   "outputs": [
    {
     "data": {
      "text/html": [
       "\n",
       "<style>\n",
       "  #altair-viz-35522a96727345c5ba70fedf4e518bcd.vega-embed {\n",
       "    width: 100%;\n",
       "    display: flex;\n",
       "  }\n",
       "\n",
       "  #altair-viz-35522a96727345c5ba70fedf4e518bcd.vega-embed details,\n",
       "  #altair-viz-35522a96727345c5ba70fedf4e518bcd.vega-embed details summary {\n",
       "    position: relative;\n",
       "  }\n",
       "</style>\n",
       "<div id=\"altair-viz-35522a96727345c5ba70fedf4e518bcd\"></div>\n",
       "<script type=\"text/javascript\">\n",
       "  var VEGA_DEBUG = (typeof VEGA_DEBUG == \"undefined\") ? {} : VEGA_DEBUG;\n",
       "  (function(spec, embedOpt){\n",
       "    let outputDiv = document.currentScript.previousElementSibling;\n",
       "    if (outputDiv.id !== \"altair-viz-35522a96727345c5ba70fedf4e518bcd\") {\n",
       "      outputDiv = document.getElementById(\"altair-viz-35522a96727345c5ba70fedf4e518bcd\");\n",
       "    }\n",
       "    const paths = {\n",
       "      \"vega\": \"https://cdn.jsdelivr.net/npm/vega@5?noext\",\n",
       "      \"vega-lib\": \"https://cdn.jsdelivr.net/npm/vega-lib?noext\",\n",
       "      \"vega-lite\": \"https://cdn.jsdelivr.net/npm/vega-lite@5.8.0?noext\",\n",
       "      \"vega-embed\": \"https://cdn.jsdelivr.net/npm/vega-embed@6?noext\",\n",
       "    };\n",
       "\n",
       "    function maybeLoadScript(lib, version) {\n",
       "      var key = `${lib.replace(\"-\", \"\")}_version`;\n",
       "      return (VEGA_DEBUG[key] == version) ?\n",
       "        Promise.resolve(paths[lib]) :\n",
       "        new Promise(function(resolve, reject) {\n",
       "          var s = document.createElement('script');\n",
       "          document.getElementsByTagName(\"head\")[0].appendChild(s);\n",
       "          s.async = true;\n",
       "          s.onload = () => {\n",
       "            VEGA_DEBUG[key] = version;\n",
       "            return resolve(paths[lib]);\n",
       "          };\n",
       "          s.onerror = () => reject(`Error loading script: ${paths[lib]}`);\n",
       "          s.src = paths[lib];\n",
       "        });\n",
       "    }\n",
       "\n",
       "    function showError(err) {\n",
       "      outputDiv.innerHTML = `<div class=\"error\" style=\"color:red;\">${err}</div>`;\n",
       "      throw err;\n",
       "    }\n",
       "\n",
       "    function displayChart(vegaEmbed) {\n",
       "      vegaEmbed(outputDiv, spec, embedOpt)\n",
       "        .catch(err => showError(`Javascript Error: ${err.message}<br>This usually means there's a typo in your chart specification. See the javascript console for the full traceback.`));\n",
       "    }\n",
       "\n",
       "    if(typeof define === \"function\" && define.amd) {\n",
       "      requirejs.config({paths});\n",
       "      require([\"vega-embed\"], displayChart, err => showError(`Error loading script: ${err.message}`));\n",
       "    } else {\n",
       "      maybeLoadScript(\"vega\", \"5\")\n",
       "        .then(() => maybeLoadScript(\"vega-lite\", \"5.8.0\"))\n",
       "        .then(() => maybeLoadScript(\"vega-embed\", \"6\"))\n",
       "        .catch(showError)\n",
       "        .then(() => displayChart(vegaEmbed));\n",
       "    }\n",
       "  })({\"config\": {\"view\": {\"continuousWidth\": 300, \"continuousHeight\": 300}}, \"layer\": [{\"mark\": {\"type\": \"rect\"}, \"encoding\": {\"color\": {\"field\": \"Correlation\", \"type\": \"quantitative\"}, \"x\": {\"field\": \"Variable 1\", \"type\": \"ordinal\"}, \"y\": {\"field\": \"Variable 2\", \"type\": \"ordinal\"}}}, {\"mark\": {\"type\": \"text\"}, \"encoding\": {\"color\": {\"condition\": {\"test\": \"(datum.correlation > 0.5)\", \"value\": \"white\"}, \"value\": \"black\"}, \"text\": {\"field\": \"Correlation\", \"type\": \"quantitative\"}, \"x\": {\"field\": \"Variable 1\", \"type\": \"ordinal\"}, \"y\": {\"field\": \"Variable 2\", \"type\": \"ordinal\"}}}], \"data\": {\"name\": \"data-0e7fe944a7542ef3d4b5fc6ededb167e\"}, \"height\": 400, \"width\": 700, \"$schema\": \"https://vega.github.io/schema/vega-lite/v5.8.0.json\", \"datasets\": {\"data-0e7fe944a7542ef3d4b5fc6ededb167e\": [{\"Variable 1\": \"USMER\", \"Variable 2\": \"USMER\", \"Correlation\": 1.0}, {\"Variable 1\": \"USMER\", \"Variable 2\": \"MEDICAL_UNIT\", \"Correlation\": 0.13}, {\"Variable 1\": \"USMER\", \"Variable 2\": \"SEX\", \"Correlation\": -0.0}, {\"Variable 1\": \"USMER\", \"Variable 2\": \"PATIENT_TYPE\", \"Correlation\": -0.19}, {\"Variable 1\": \"USMER\", \"Variable 2\": \"PNEUMONIA\", \"Correlation\": -0.15}, {\"Variable 1\": \"USMER\", \"Variable 2\": \"AGE\", \"Correlation\": -0.05}, {\"Variable 1\": \"USMER\", \"Variable 2\": \"PREGNANT\", \"Correlation\": -0.0}, {\"Variable 1\": \"USMER\", \"Variable 2\": \"DIABETES\", \"Correlation\": -0.06}, {\"Variable 1\": \"USMER\", \"Variable 2\": \"COPD\", \"Correlation\": -0.03}, {\"Variable 1\": \"USMER\", \"Variable 2\": \"ASTHMA\", \"Correlation\": -0.01}, {\"Variable 1\": \"USMER\", \"Variable 2\": \"INMSUPR\", \"Correlation\": -0.02}, {\"Variable 1\": \"USMER\", \"Variable 2\": \"HIPERTENSION\", \"Correlation\": -0.05}, {\"Variable 1\": \"USMER\", \"Variable 2\": \"OTHER_DISEASE\", \"Correlation\": -0.02}, {\"Variable 1\": \"USMER\", \"Variable 2\": \"CARDIOVASCULAR\", \"Correlation\": -0.02}, {\"Variable 1\": \"USMER\", \"Variable 2\": \"OBESITY\", \"Correlation\": -0.01}, {\"Variable 1\": \"USMER\", \"Variable 2\": \"RENAL_CHRONIC\", \"Correlation\": -0.04}, {\"Variable 1\": \"USMER\", \"Variable 2\": \"TOBACCO\", \"Correlation\": 0.02}, {\"Variable 1\": \"USMER\", \"Variable 2\": \"CLASIFFICATION_FINAL\", \"Correlation\": 0.03}, {\"Variable 1\": \"USMER\", \"Variable 2\": \"DIED\", \"Correlation\": -0.11}, {\"Variable 1\": \"MEDICAL_UNIT\", \"Variable 2\": \"USMER\", \"Correlation\": 0.13}, {\"Variable 1\": \"MEDICAL_UNIT\", \"Variable 2\": \"MEDICAL_UNIT\", \"Correlation\": 1.0}, {\"Variable 1\": \"MEDICAL_UNIT\", \"Variable 2\": \"SEX\", \"Correlation\": 0.0}, {\"Variable 1\": \"MEDICAL_UNIT\", \"Variable 2\": \"PATIENT_TYPE\", \"Correlation\": -0.21}, {\"Variable 1\": \"MEDICAL_UNIT\", \"Variable 2\": \"PNEUMONIA\", \"Correlation\": -0.11}, {\"Variable 1\": \"MEDICAL_UNIT\", \"Variable 2\": \"AGE\", \"Correlation\": -0.08}, {\"Variable 1\": \"MEDICAL_UNIT\", \"Variable 2\": \"PREGNANT\", \"Correlation\": 0.0}, {\"Variable 1\": \"MEDICAL_UNIT\", \"Variable 2\": \"DIABETES\", \"Correlation\": -0.07}, {\"Variable 1\": \"MEDICAL_UNIT\", \"Variable 2\": \"COPD\", \"Correlation\": -0.04}, {\"Variable 1\": \"MEDICAL_UNIT\", \"Variable 2\": \"ASTHMA\", \"Correlation\": -0.02}, {\"Variable 1\": \"MEDICAL_UNIT\", \"Variable 2\": \"INMSUPR\", \"Correlation\": -0.03}, {\"Variable 1\": \"MEDICAL_UNIT\", \"Variable 2\": \"HIPERTENSION\", \"Correlation\": -0.09}, {\"Variable 1\": \"MEDICAL_UNIT\", \"Variable 2\": \"OTHER_DISEASE\", \"Correlation\": -0.12}, {\"Variable 1\": \"MEDICAL_UNIT\", \"Variable 2\": \"CARDIOVASCULAR\", \"Correlation\": -0.03}, {\"Variable 1\": \"MEDICAL_UNIT\", \"Variable 2\": \"OBESITY\", \"Correlation\": -0.03}, {\"Variable 1\": \"MEDICAL_UNIT\", \"Variable 2\": \"RENAL_CHRONIC\", \"Correlation\": -0.06}, {\"Variable 1\": \"MEDICAL_UNIT\", \"Variable 2\": \"TOBACCO\", \"Correlation\": 0.01}, {\"Variable 1\": \"MEDICAL_UNIT\", \"Variable 2\": \"CLASIFFICATION_FINAL\", \"Correlation\": 0.08}, {\"Variable 1\": \"MEDICAL_UNIT\", \"Variable 2\": \"DIED\", \"Correlation\": -0.15}, {\"Variable 1\": \"SEX\", \"Variable 2\": \"USMER\", \"Correlation\": -0.0}, {\"Variable 1\": \"SEX\", \"Variable 2\": \"MEDICAL_UNIT\", \"Correlation\": 0.0}, {\"Variable 1\": \"SEX\", \"Variable 2\": \"SEX\", \"Correlation\": 1.0}, {\"Variable 1\": \"SEX\", \"Variable 2\": \"PATIENT_TYPE\", \"Correlation\": 0.09}, {\"Variable 1\": \"SEX\", \"Variable 2\": \"PNEUMONIA\", \"Correlation\": 0.08}, {\"Variable 1\": \"SEX\", \"Variable 2\": \"AGE\", \"Correlation\": 0.03}, {\"Variable 1\": \"SEX\", \"Variable 2\": \"PREGNANT\", \"Correlation\": -0.09}, {\"Variable 1\": \"SEX\", \"Variable 2\": \"DIABETES\", \"Correlation\": 0.01}, {\"Variable 1\": \"SEX\", \"Variable 2\": \"COPD\", \"Correlation\": 0.0}, {\"Variable 1\": \"SEX\", \"Variable 2\": \"ASTHMA\", \"Correlation\": -0.04}, {\"Variable 1\": \"SEX\", \"Variable 2\": \"INMSUPR\", \"Correlation\": -0.01}, {\"Variable 1\": \"SEX\", \"Variable 2\": \"HIPERTENSION\", \"Correlation\": 0.0}, {\"Variable 1\": \"SEX\", \"Variable 2\": \"OTHER_DISEASE\", \"Correlation\": -0.02}, {\"Variable 1\": \"SEX\", \"Variable 2\": \"CARDIOVASCULAR\", \"Correlation\": 0.01}, {\"Variable 1\": \"SEX\", \"Variable 2\": \"OBESITY\", \"Correlation\": -0.02}, {\"Variable 1\": \"SEX\", \"Variable 2\": \"RENAL_CHRONIC\", \"Correlation\": 0.01}, {\"Variable 1\": \"SEX\", \"Variable 2\": \"TOBACCO\", \"Correlation\": 0.1}, {\"Variable 1\": \"SEX\", \"Variable 2\": \"CLASIFFICATION_FINAL\", \"Correlation\": -0.06}, {\"Variable 1\": \"SEX\", \"Variable 2\": \"DIED\", \"Correlation\": 0.08}, {\"Variable 1\": \"PATIENT_TYPE\", \"Variable 2\": \"USMER\", \"Correlation\": -0.19}, {\"Variable 1\": \"PATIENT_TYPE\", \"Variable 2\": \"MEDICAL_UNIT\", \"Correlation\": -0.21}, {\"Variable 1\": \"PATIENT_TYPE\", \"Variable 2\": \"SEX\", \"Correlation\": 0.09}, {\"Variable 1\": \"PATIENT_TYPE\", \"Variable 2\": \"PATIENT_TYPE\", \"Correlation\": 1.0}, {\"Variable 1\": \"PATIENT_TYPE\", \"Variable 2\": \"PNEUMONIA\", \"Correlation\": 0.65}, {\"Variable 1\": \"PATIENT_TYPE\", \"Variable 2\": \"AGE\", \"Correlation\": 0.32}, {\"Variable 1\": \"PATIENT_TYPE\", \"Variable 2\": \"PREGNANT\", \"Correlation\": 0.01}, {\"Variable 1\": \"PATIENT_TYPE\", \"Variable 2\": \"DIABETES\", \"Correlation\": 0.26}, {\"Variable 1\": \"PATIENT_TYPE\", \"Variable 2\": \"COPD\", \"Correlation\": 0.12}, {\"Variable 1\": \"PATIENT_TYPE\", \"Variable 2\": \"ASTHMA\", \"Correlation\": -0.01}, {\"Variable 1\": \"PATIENT_TYPE\", \"Variable 2\": \"INMSUPR\", \"Correlation\": 0.09}, {\"Variable 1\": \"PATIENT_TYPE\", \"Variable 2\": \"HIPERTENSION\", \"Correlation\": 0.23}, {\"Variable 1\": \"PATIENT_TYPE\", \"Variable 2\": \"OTHER_DISEASE\", \"Correlation\": 0.09}, {\"Variable 1\": \"PATIENT_TYPE\", \"Variable 2\": \"CARDIOVASCULAR\", \"Correlation\": 0.1}, {\"Variable 1\": \"PATIENT_TYPE\", \"Variable 2\": \"OBESITY\", \"Correlation\": 0.06}, {\"Variable 1\": \"PATIENT_TYPE\", \"Variable 2\": \"RENAL_CHRONIC\", \"Correlation\": 0.15}, {\"Variable 1\": \"PATIENT_TYPE\", \"Variable 2\": \"TOBACCO\", \"Correlation\": 0.01}, {\"Variable 1\": \"PATIENT_TYPE\", \"Variable 2\": \"CLASIFFICATION_FINAL\", \"Correlation\": -0.18}, {\"Variable 1\": \"PATIENT_TYPE\", \"Variable 2\": \"DIED\", \"Correlation\": 0.52}, {\"Variable 1\": \"PNEUMONIA\", \"Variable 2\": \"USMER\", \"Correlation\": -0.15}, {\"Variable 1\": \"PNEUMONIA\", \"Variable 2\": \"MEDICAL_UNIT\", \"Correlation\": -0.11}, {\"Variable 1\": \"PNEUMONIA\", \"Variable 2\": \"SEX\", \"Correlation\": 0.08}, {\"Variable 1\": \"PNEUMONIA\", \"Variable 2\": \"PATIENT_TYPE\", \"Correlation\": 0.65}, {\"Variable 1\": \"PNEUMONIA\", \"Variable 2\": \"PNEUMONIA\", \"Correlation\": 1.0}, {\"Variable 1\": \"PNEUMONIA\", \"Variable 2\": \"AGE\", \"Correlation\": 0.28}, {\"Variable 1\": \"PNEUMONIA\", \"Variable 2\": \"PREGNANT\", \"Correlation\": -0.02}, {\"Variable 1\": \"PNEUMONIA\", \"Variable 2\": \"DIABETES\", \"Correlation\": 0.22}, {\"Variable 1\": \"PNEUMONIA\", \"Variable 2\": \"COPD\", \"Correlation\": 0.09}, {\"Variable 1\": \"PNEUMONIA\", \"Variable 2\": \"ASTHMA\", \"Correlation\": -0.01}, {\"Variable 1\": \"PNEUMONIA\", \"Variable 2\": \"INMSUPR\", \"Correlation\": 0.06}, {\"Variable 1\": \"PNEUMONIA\", \"Variable 2\": \"HIPERTENSION\", \"Correlation\": 0.19}, {\"Variable 1\": \"PNEUMONIA\", \"Variable 2\": \"OTHER_DISEASE\", \"Correlation\": 0.06}, {\"Variable 1\": \"PNEUMONIA\", \"Variable 2\": \"CARDIOVASCULAR\", \"Correlation\": 0.08}, {\"Variable 1\": \"PNEUMONIA\", \"Variable 2\": \"OBESITY\", \"Correlation\": 0.07}, {\"Variable 1\": \"PNEUMONIA\", \"Variable 2\": \"RENAL_CHRONIC\", \"Correlation\": 0.11}, {\"Variable 1\": \"PNEUMONIA\", \"Variable 2\": \"TOBACCO\", \"Correlation\": 0.01}, {\"Variable 1\": \"PNEUMONIA\", \"Variable 2\": \"CLASIFFICATION_FINAL\", \"Correlation\": -0.19}, {\"Variable 1\": \"PNEUMONIA\", \"Variable 2\": \"DIED\", \"Correlation\": 0.47}, {\"Variable 1\": \"AGE\", \"Variable 2\": \"USMER\", \"Correlation\": -0.05}, {\"Variable 1\": \"AGE\", \"Variable 2\": \"MEDICAL_UNIT\", \"Correlation\": -0.08}, {\"Variable 1\": \"AGE\", \"Variable 2\": \"SEX\", \"Correlation\": 0.03}, {\"Variable 1\": \"AGE\", \"Variable 2\": \"PATIENT_TYPE\", \"Correlation\": 0.32}, {\"Variable 1\": \"AGE\", \"Variable 2\": \"PNEUMONIA\", \"Correlation\": 0.28}, {\"Variable 1\": \"AGE\", \"Variable 2\": \"AGE\", \"Correlation\": 1.0}, {\"Variable 1\": \"AGE\", \"Variable 2\": \"PREGNANT\", \"Correlation\": -0.07}, {\"Variable 1\": \"AGE\", \"Variable 2\": \"DIABETES\", \"Correlation\": 0.33}, {\"Variable 1\": \"AGE\", \"Variable 2\": \"COPD\", \"Correlation\": 0.17}, {\"Variable 1\": \"AGE\", \"Variable 2\": \"ASTHMA\", \"Correlation\": -0.03}, {\"Variable 1\": \"AGE\", \"Variable 2\": \"INMSUPR\", \"Correlation\": 0.03}, {\"Variable 1\": \"AGE\", \"Variable 2\": \"HIPERTENSION\", \"Correlation\": 0.39}, {\"Variable 1\": \"AGE\", \"Variable 2\": \"OTHER_DISEASE\", \"Correlation\": 0.04}, {\"Variable 1\": \"AGE\", \"Variable 2\": \"CARDIOVASCULAR\", \"Correlation\": 0.13}, {\"Variable 1\": \"AGE\", \"Variable 2\": \"OBESITY\", \"Correlation\": 0.09}, {\"Variable 1\": \"AGE\", \"Variable 2\": \"RENAL_CHRONIC\", \"Correlation\": 0.1}, {\"Variable 1\": \"AGE\", \"Variable 2\": \"TOBACCO\", \"Correlation\": 0.01}, {\"Variable 1\": \"AGE\", \"Variable 2\": \"CLASIFFICATION_FINAL\", \"Correlation\": -0.15}, {\"Variable 1\": \"AGE\", \"Variable 2\": \"DIED\", \"Correlation\": 0.32}, {\"Variable 1\": \"PREGNANT\", \"Variable 2\": \"USMER\", \"Correlation\": -0.0}, {\"Variable 1\": \"PREGNANT\", \"Variable 2\": \"MEDICAL_UNIT\", \"Correlation\": 0.0}, {\"Variable 1\": \"PREGNANT\", \"Variable 2\": \"SEX\", \"Correlation\": -0.09}, {\"Variable 1\": \"PREGNANT\", \"Variable 2\": \"PATIENT_TYPE\", \"Correlation\": 0.01}, {\"Variable 1\": \"PREGNANT\", \"Variable 2\": \"PNEUMONIA\", \"Correlation\": -0.02}, {\"Variable 1\": \"PREGNANT\", \"Variable 2\": \"AGE\", \"Correlation\": -0.07}, {\"Variable 1\": \"PREGNANT\", \"Variable 2\": \"PREGNANT\", \"Correlation\": 1.0}, {\"Variable 1\": \"PREGNANT\", \"Variable 2\": \"DIABETES\", \"Correlation\": -0.02}, {\"Variable 1\": \"PREGNANT\", \"Variable 2\": \"COPD\", \"Correlation\": -0.01}, {\"Variable 1\": \"PREGNANT\", \"Variable 2\": \"ASTHMA\", \"Correlation\": -0.0}, {\"Variable 1\": \"PREGNANT\", \"Variable 2\": \"INMSUPR\", \"Correlation\": -0.0}, {\"Variable 1\": \"PREGNANT\", \"Variable 2\": \"HIPERTENSION\", \"Correlation\": -0.03}, {\"Variable 1\": \"PREGNANT\", \"Variable 2\": \"OTHER_DISEASE\", \"Correlation\": 0.01}, {\"Variable 1\": \"PREGNANT\", \"Variable 2\": \"CARDIOVASCULAR\", \"Correlation\": -0.01}, {\"Variable 1\": \"PREGNANT\", \"Variable 2\": \"OBESITY\", \"Correlation\": -0.02}, {\"Variable 1\": \"PREGNANT\", \"Variable 2\": \"RENAL_CHRONIC\", \"Correlation\": -0.01}, {\"Variable 1\": \"PREGNANT\", \"Variable 2\": \"TOBACCO\", \"Correlation\": -0.02}, {\"Variable 1\": \"PREGNANT\", \"Variable 2\": \"CLASIFFICATION_FINAL\", \"Correlation\": 0.01}, {\"Variable 1\": \"PREGNANT\", \"Variable 2\": \"DIED\", \"Correlation\": -0.02}, {\"Variable 1\": \"DIABETES\", \"Variable 2\": \"USMER\", \"Correlation\": -0.06}, {\"Variable 1\": \"DIABETES\", \"Variable 2\": \"MEDICAL_UNIT\", \"Correlation\": -0.07}, {\"Variable 1\": \"DIABETES\", \"Variable 2\": \"SEX\", \"Correlation\": 0.01}, {\"Variable 1\": \"DIABETES\", \"Variable 2\": \"PATIENT_TYPE\", \"Correlation\": 0.26}, {\"Variable 1\": \"DIABETES\", \"Variable 2\": \"PNEUMONIA\", \"Correlation\": 0.22}, {\"Variable 1\": \"DIABETES\", \"Variable 2\": \"AGE\", \"Correlation\": 0.33}, {\"Variable 1\": \"DIABETES\", \"Variable 2\": \"PREGNANT\", \"Correlation\": -0.02}, {\"Variable 1\": \"DIABETES\", \"Variable 2\": \"DIABETES\", \"Correlation\": 1.0}, {\"Variable 1\": \"DIABETES\", \"Variable 2\": \"COPD\", \"Correlation\": 0.1}, {\"Variable 1\": \"DIABETES\", \"Variable 2\": \"ASTHMA\", \"Correlation\": 0.0}, {\"Variable 1\": \"DIABETES\", \"Variable 2\": \"INMSUPR\", \"Correlation\": 0.05}, {\"Variable 1\": \"DIABETES\", \"Variable 2\": \"HIPERTENSION\", \"Correlation\": 0.38}, {\"Variable 1\": \"DIABETES\", \"Variable 2\": \"OTHER_DISEASE\", \"Correlation\": 0.03}, {\"Variable 1\": \"DIABETES\", \"Variable 2\": \"CARDIOVASCULAR\", \"Correlation\": 0.11}, {\"Variable 1\": \"DIABETES\", \"Variable 2\": \"OBESITY\", \"Correlation\": 0.12}, {\"Variable 1\": \"DIABETES\", \"Variable 2\": \"RENAL_CHRONIC\", \"Correlation\": 0.17}, {\"Variable 1\": \"DIABETES\", \"Variable 2\": \"TOBACCO\", \"Correlation\": 0.01}, {\"Variable 1\": \"DIABETES\", \"Variable 2\": \"CLASIFFICATION_FINAL\", \"Correlation\": -0.1}, {\"Variable 1\": \"DIABETES\", \"Variable 2\": \"DIED\", \"Correlation\": 0.22}, {\"Variable 1\": \"COPD\", \"Variable 2\": \"USMER\", \"Correlation\": -0.03}, {\"Variable 1\": \"COPD\", \"Variable 2\": \"MEDICAL_UNIT\", \"Correlation\": -0.04}, {\"Variable 1\": \"COPD\", \"Variable 2\": \"SEX\", \"Correlation\": 0.0}, {\"Variable 1\": \"COPD\", \"Variable 2\": \"PATIENT_TYPE\", \"Correlation\": 0.12}, {\"Variable 1\": \"COPD\", \"Variable 2\": \"PNEUMONIA\", \"Correlation\": 0.09}, {\"Variable 1\": \"COPD\", \"Variable 2\": \"AGE\", \"Correlation\": 0.17}, {\"Variable 1\": \"COPD\", \"Variable 2\": \"PREGNANT\", \"Correlation\": -0.01}, {\"Variable 1\": \"COPD\", \"Variable 2\": \"DIABETES\", \"Correlation\": 0.1}, {\"Variable 1\": \"COPD\", \"Variable 2\": \"COPD\", \"Correlation\": 1.0}, {\"Variable 1\": \"COPD\", \"Variable 2\": \"ASTHMA\", \"Correlation\": 0.04}, {\"Variable 1\": \"COPD\", \"Variable 2\": \"INMSUPR\", \"Correlation\": 0.06}, {\"Variable 1\": \"COPD\", \"Variable 2\": \"HIPERTENSION\", \"Correlation\": 0.12}, {\"Variable 1\": \"COPD\", \"Variable 2\": \"OTHER_DISEASE\", \"Correlation\": 0.04}, {\"Variable 1\": \"COPD\", \"Variable 2\": \"CARDIOVASCULAR\", \"Correlation\": 0.11}, {\"Variable 1\": \"COPD\", \"Variable 2\": \"OBESITY\", \"Correlation\": 0.04}, {\"Variable 1\": \"COPD\", \"Variable 2\": \"RENAL_CHRONIC\", \"Correlation\": 0.07}, {\"Variable 1\": \"COPD\", \"Variable 2\": \"TOBACCO\", \"Correlation\": 0.07}, {\"Variable 1\": \"COPD\", \"Variable 2\": \"CLASIFFICATION_FINAL\", \"Correlation\": -0.01}, {\"Variable 1\": \"COPD\", \"Variable 2\": \"DIED\", \"Correlation\": 0.09}, {\"Variable 1\": \"ASTHMA\", \"Variable 2\": \"USMER\", \"Correlation\": -0.01}, {\"Variable 1\": \"ASTHMA\", \"Variable 2\": \"MEDICAL_UNIT\", \"Correlation\": -0.02}, {\"Variable 1\": \"ASTHMA\", \"Variable 2\": \"SEX\", \"Correlation\": -0.04}, {\"Variable 1\": \"ASTHMA\", \"Variable 2\": \"PATIENT_TYPE\", \"Correlation\": -0.01}, {\"Variable 1\": \"ASTHMA\", \"Variable 2\": \"PNEUMONIA\", \"Correlation\": -0.01}, {\"Variable 1\": \"ASTHMA\", \"Variable 2\": \"AGE\", \"Correlation\": -0.03}, {\"Variable 1\": \"ASTHMA\", \"Variable 2\": \"PREGNANT\", \"Correlation\": -0.0}, {\"Variable 1\": \"ASTHMA\", \"Variable 2\": \"DIABETES\", \"Correlation\": 0.0}, {\"Variable 1\": \"ASTHMA\", \"Variable 2\": \"COPD\", \"Correlation\": 0.04}, {\"Variable 1\": \"ASTHMA\", \"Variable 2\": \"ASTHMA\", \"Correlation\": 1.0}, {\"Variable 1\": \"ASTHMA\", \"Variable 2\": \"INMSUPR\", \"Correlation\": 0.02}, {\"Variable 1\": \"ASTHMA\", \"Variable 2\": \"HIPERTENSION\", \"Correlation\": 0.02}, {\"Variable 1\": \"ASTHMA\", \"Variable 2\": \"OTHER_DISEASE\", \"Correlation\": 0.01}, {\"Variable 1\": \"ASTHMA\", \"Variable 2\": \"CARDIOVASCULAR\", \"Correlation\": 0.02}, {\"Variable 1\": \"ASTHMA\", \"Variable 2\": \"OBESITY\", \"Correlation\": 0.04}, {\"Variable 1\": \"ASTHMA\", \"Variable 2\": \"RENAL_CHRONIC\", \"Correlation\": 0.0}, {\"Variable 1\": \"ASTHMA\", \"Variable 2\": \"TOBACCO\", \"Correlation\": 0.01}, {\"Variable 1\": \"ASTHMA\", \"Variable 2\": \"CLASIFFICATION_FINAL\", \"Correlation\": 0.02}, {\"Variable 1\": \"ASTHMA\", \"Variable 2\": \"DIED\", \"Correlation\": -0.02}, {\"Variable 1\": \"INMSUPR\", \"Variable 2\": \"USMER\", \"Correlation\": -0.02}, {\"Variable 1\": \"INMSUPR\", \"Variable 2\": \"MEDICAL_UNIT\", \"Correlation\": -0.03}, {\"Variable 1\": \"INMSUPR\", \"Variable 2\": \"SEX\", \"Correlation\": -0.01}, {\"Variable 1\": \"INMSUPR\", \"Variable 2\": \"PATIENT_TYPE\", \"Correlation\": 0.09}, {\"Variable 1\": \"INMSUPR\", \"Variable 2\": \"PNEUMONIA\", \"Correlation\": 0.06}, {\"Variable 1\": \"INMSUPR\", \"Variable 2\": \"AGE\", \"Correlation\": 0.03}, {\"Variable 1\": \"INMSUPR\", \"Variable 2\": \"PREGNANT\", \"Correlation\": -0.0}, {\"Variable 1\": \"INMSUPR\", \"Variable 2\": \"DIABETES\", \"Correlation\": 0.05}, {\"Variable 1\": \"INMSUPR\", \"Variable 2\": \"COPD\", \"Correlation\": 0.06}, {\"Variable 1\": \"INMSUPR\", \"Variable 2\": \"ASTHMA\", \"Correlation\": 0.02}, {\"Variable 1\": \"INMSUPR\", \"Variable 2\": \"INMSUPR\", \"Correlation\": 1.0}, {\"Variable 1\": \"INMSUPR\", \"Variable 2\": \"HIPERTENSION\", \"Correlation\": 0.05}, {\"Variable 1\": \"INMSUPR\", \"Variable 2\": \"OTHER_DISEASE\", \"Correlation\": 0.13}, {\"Variable 1\": \"INMSUPR\", \"Variable 2\": \"CARDIOVASCULAR\", \"Correlation\": 0.06}, {\"Variable 1\": \"INMSUPR\", \"Variable 2\": \"OBESITY\", \"Correlation\": 0.02}, {\"Variable 1\": \"INMSUPR\", \"Variable 2\": \"RENAL_CHRONIC\", \"Correlation\": 0.11}, {\"Variable 1\": \"INMSUPR\", \"Variable 2\": \"TOBACCO\", \"Correlation\": 0.01}, {\"Variable 1\": \"INMSUPR\", \"Variable 2\": \"CLASIFFICATION_FINAL\", \"Correlation\": 0.01}, {\"Variable 1\": \"INMSUPR\", \"Variable 2\": \"DIED\", \"Correlation\": 0.05}, {\"Variable 1\": \"HIPERTENSION\", \"Variable 2\": \"USMER\", \"Correlation\": -0.05}, {\"Variable 1\": \"HIPERTENSION\", \"Variable 2\": \"MEDICAL_UNIT\", \"Correlation\": -0.09}, {\"Variable 1\": \"HIPERTENSION\", \"Variable 2\": \"SEX\", \"Correlation\": 0.0}, {\"Variable 1\": \"HIPERTENSION\", \"Variable 2\": \"PATIENT_TYPE\", \"Correlation\": 0.23}, {\"Variable 1\": \"HIPERTENSION\", \"Variable 2\": \"PNEUMONIA\", \"Correlation\": 0.19}, {\"Variable 1\": \"HIPERTENSION\", \"Variable 2\": \"AGE\", \"Correlation\": 0.39}, {\"Variable 1\": \"HIPERTENSION\", \"Variable 2\": \"PREGNANT\", \"Correlation\": -0.03}, {\"Variable 1\": \"HIPERTENSION\", \"Variable 2\": \"DIABETES\", \"Correlation\": 0.38}, {\"Variable 1\": \"HIPERTENSION\", \"Variable 2\": \"COPD\", \"Correlation\": 0.12}, {\"Variable 1\": \"HIPERTENSION\", \"Variable 2\": \"ASTHMA\", \"Correlation\": 0.02}, {\"Variable 1\": \"HIPERTENSION\", \"Variable 2\": \"INMSUPR\", \"Correlation\": 0.05}, {\"Variable 1\": \"HIPERTENSION\", \"Variable 2\": \"HIPERTENSION\", \"Correlation\": 1.0}, {\"Variable 1\": \"HIPERTENSION\", \"Variable 2\": \"OTHER_DISEASE\", \"Correlation\": 0.05}, {\"Variable 1\": \"HIPERTENSION\", \"Variable 2\": \"CARDIOVASCULAR\", \"Correlation\": 0.16}, {\"Variable 1\": \"HIPERTENSION\", \"Variable 2\": \"OBESITY\", \"Correlation\": 0.17}, {\"Variable 1\": \"HIPERTENSION\", \"Variable 2\": \"RENAL_CHRONIC\", \"Correlation\": 0.18}, {\"Variable 1\": \"HIPERTENSION\", \"Variable 2\": \"TOBACCO\", \"Correlation\": 0.01}, {\"Variable 1\": \"HIPERTENSION\", \"Variable 2\": \"CLASIFFICATION_FINAL\", \"Correlation\": -0.09}, {\"Variable 1\": \"HIPERTENSION\", \"Variable 2\": \"DIED\", \"Correlation\": 0.2}, {\"Variable 1\": \"OTHER_DISEASE\", \"Variable 2\": \"USMER\", \"Correlation\": -0.02}, {\"Variable 1\": \"OTHER_DISEASE\", \"Variable 2\": \"MEDICAL_UNIT\", \"Correlation\": -0.12}, {\"Variable 1\": \"OTHER_DISEASE\", \"Variable 2\": \"SEX\", \"Correlation\": -0.02}, {\"Variable 1\": \"OTHER_DISEASE\", \"Variable 2\": \"PATIENT_TYPE\", \"Correlation\": 0.09}, {\"Variable 1\": \"OTHER_DISEASE\", \"Variable 2\": \"PNEUMONIA\", \"Correlation\": 0.06}, {\"Variable 1\": \"OTHER_DISEASE\", \"Variable 2\": \"AGE\", \"Correlation\": 0.04}, {\"Variable 1\": \"OTHER_DISEASE\", \"Variable 2\": \"PREGNANT\", \"Correlation\": 0.01}, {\"Variable 1\": \"OTHER_DISEASE\", \"Variable 2\": \"DIABETES\", \"Correlation\": 0.03}, {\"Variable 1\": \"OTHER_DISEASE\", \"Variable 2\": \"COPD\", \"Correlation\": 0.04}, {\"Variable 1\": \"OTHER_DISEASE\", \"Variable 2\": \"ASTHMA\", \"Correlation\": 0.01}, {\"Variable 1\": \"OTHER_DISEASE\", \"Variable 2\": \"INMSUPR\", \"Correlation\": 0.13}, {\"Variable 1\": \"OTHER_DISEASE\", \"Variable 2\": \"HIPERTENSION\", \"Correlation\": 0.05}, {\"Variable 1\": \"OTHER_DISEASE\", \"Variable 2\": \"OTHER_DISEASE\", \"Correlation\": 1.0}, {\"Variable 1\": \"OTHER_DISEASE\", \"Variable 2\": \"CARDIOVASCULAR\", \"Correlation\": 0.07}, {\"Variable 1\": \"OTHER_DISEASE\", \"Variable 2\": \"OBESITY\", \"Correlation\": 0.02}, {\"Variable 1\": \"OTHER_DISEASE\", \"Variable 2\": \"RENAL_CHRONIC\", \"Correlation\": 0.05}, {\"Variable 1\": \"OTHER_DISEASE\", \"Variable 2\": \"TOBACCO\", \"Correlation\": 0.01}, {\"Variable 1\": \"OTHER_DISEASE\", \"Variable 2\": \"CLASIFFICATION_FINAL\", \"Correlation\": 0.01}, {\"Variable 1\": \"OTHER_DISEASE\", \"Variable 2\": \"DIED\", \"Correlation\": 0.06}, {\"Variable 1\": \"CARDIOVASCULAR\", \"Variable 2\": \"USMER\", \"Correlation\": -0.02}, {\"Variable 1\": \"CARDIOVASCULAR\", \"Variable 2\": \"MEDICAL_UNIT\", \"Correlation\": -0.03}, {\"Variable 1\": \"CARDIOVASCULAR\", \"Variable 2\": \"SEX\", \"Correlation\": 0.01}, {\"Variable 1\": \"CARDIOVASCULAR\", \"Variable 2\": \"PATIENT_TYPE\", \"Correlation\": 0.1}, {\"Variable 1\": \"CARDIOVASCULAR\", \"Variable 2\": \"PNEUMONIA\", \"Correlation\": 0.08}, {\"Variable 1\": \"CARDIOVASCULAR\", \"Variable 2\": \"AGE\", \"Correlation\": 0.13}, {\"Variable 1\": \"CARDIOVASCULAR\", \"Variable 2\": \"PREGNANT\", \"Correlation\": -0.01}, {\"Variable 1\": \"CARDIOVASCULAR\", \"Variable 2\": \"DIABETES\", \"Correlation\": 0.11}, {\"Variable 1\": \"CARDIOVASCULAR\", \"Variable 2\": \"COPD\", \"Correlation\": 0.11}, {\"Variable 1\": \"CARDIOVASCULAR\", \"Variable 2\": \"ASTHMA\", \"Correlation\": 0.02}, {\"Variable 1\": \"CARDIOVASCULAR\", \"Variable 2\": \"INMSUPR\", \"Correlation\": 0.06}, {\"Variable 1\": \"CARDIOVASCULAR\", \"Variable 2\": \"HIPERTENSION\", \"Correlation\": 0.16}, {\"Variable 1\": \"CARDIOVASCULAR\", \"Variable 2\": \"OTHER_DISEASE\", \"Correlation\": 0.07}, {\"Variable 1\": \"CARDIOVASCULAR\", \"Variable 2\": \"CARDIOVASCULAR\", \"Correlation\": 1.0}, {\"Variable 1\": \"CARDIOVASCULAR\", \"Variable 2\": \"OBESITY\", \"Correlation\": 0.06}, {\"Variable 1\": \"CARDIOVASCULAR\", \"Variable 2\": \"RENAL_CHRONIC\", \"Correlation\": 0.11}, {\"Variable 1\": \"CARDIOVASCULAR\", \"Variable 2\": \"TOBACCO\", \"Correlation\": 0.03}, {\"Variable 1\": \"CARDIOVASCULAR\", \"Variable 2\": \"CLASIFFICATION_FINAL\", \"Correlation\": -0.01}, {\"Variable 1\": \"CARDIOVASCULAR\", \"Variable 2\": \"DIED\", \"Correlation\": 0.08}, {\"Variable 1\": \"OBESITY\", \"Variable 2\": \"USMER\", \"Correlation\": -0.01}, {\"Variable 1\": \"OBESITY\", \"Variable 2\": \"MEDICAL_UNIT\", \"Correlation\": -0.03}, {\"Variable 1\": \"OBESITY\", \"Variable 2\": \"SEX\", \"Correlation\": -0.02}, {\"Variable 1\": \"OBESITY\", \"Variable 2\": \"PATIENT_TYPE\", \"Correlation\": 0.06}, {\"Variable 1\": \"OBESITY\", \"Variable 2\": \"PNEUMONIA\", \"Correlation\": 0.07}, {\"Variable 1\": \"OBESITY\", \"Variable 2\": \"AGE\", \"Correlation\": 0.09}, {\"Variable 1\": \"OBESITY\", \"Variable 2\": \"PREGNANT\", \"Correlation\": -0.02}, {\"Variable 1\": \"OBESITY\", \"Variable 2\": \"DIABETES\", \"Correlation\": 0.12}, {\"Variable 1\": \"OBESITY\", \"Variable 2\": \"COPD\", \"Correlation\": 0.04}, {\"Variable 1\": \"OBESITY\", \"Variable 2\": \"ASTHMA\", \"Correlation\": 0.04}, {\"Variable 1\": \"OBESITY\", \"Variable 2\": \"INMSUPR\", \"Correlation\": 0.02}, {\"Variable 1\": \"OBESITY\", \"Variable 2\": \"HIPERTENSION\", \"Correlation\": 0.17}, {\"Variable 1\": \"OBESITY\", \"Variable 2\": \"OTHER_DISEASE\", \"Correlation\": 0.02}, {\"Variable 1\": \"OBESITY\", \"Variable 2\": \"CARDIOVASCULAR\", \"Correlation\": 0.06}, {\"Variable 1\": \"OBESITY\", \"Variable 2\": \"OBESITY\", \"Correlation\": 1.0}, {\"Variable 1\": \"OBESITY\", \"Variable 2\": \"RENAL_CHRONIC\", \"Correlation\": 0.02}, {\"Variable 1\": \"OBESITY\", \"Variable 2\": \"TOBACCO\", \"Correlation\": 0.08}, {\"Variable 1\": \"OBESITY\", \"Variable 2\": \"CLASIFFICATION_FINAL\", \"Correlation\": -0.07}, {\"Variable 1\": \"OBESITY\", \"Variable 2\": \"DIED\", \"Correlation\": 0.06}, {\"Variable 1\": \"RENAL_CHRONIC\", \"Variable 2\": \"USMER\", \"Correlation\": -0.04}, {\"Variable 1\": \"RENAL_CHRONIC\", \"Variable 2\": \"MEDICAL_UNIT\", \"Correlation\": -0.06}, {\"Variable 1\": \"RENAL_CHRONIC\", \"Variable 2\": \"SEX\", \"Correlation\": 0.01}, {\"Variable 1\": \"RENAL_CHRONIC\", \"Variable 2\": \"PATIENT_TYPE\", \"Correlation\": 0.15}, {\"Variable 1\": \"RENAL_CHRONIC\", \"Variable 2\": \"PNEUMONIA\", \"Correlation\": 0.11}, {\"Variable 1\": \"RENAL_CHRONIC\", \"Variable 2\": \"AGE\", \"Correlation\": 0.1}, {\"Variable 1\": \"RENAL_CHRONIC\", \"Variable 2\": \"PREGNANT\", \"Correlation\": -0.01}, {\"Variable 1\": \"RENAL_CHRONIC\", \"Variable 2\": \"DIABETES\", \"Correlation\": 0.17}, {\"Variable 1\": \"RENAL_CHRONIC\", \"Variable 2\": \"COPD\", \"Correlation\": 0.07}, {\"Variable 1\": \"RENAL_CHRONIC\", \"Variable 2\": \"ASTHMA\", \"Correlation\": 0.0}, {\"Variable 1\": \"RENAL_CHRONIC\", \"Variable 2\": \"INMSUPR\", \"Correlation\": 0.11}, {\"Variable 1\": \"RENAL_CHRONIC\", \"Variable 2\": \"HIPERTENSION\", \"Correlation\": 0.18}, {\"Variable 1\": \"RENAL_CHRONIC\", \"Variable 2\": \"OTHER_DISEASE\", \"Correlation\": 0.05}, {\"Variable 1\": \"RENAL_CHRONIC\", \"Variable 2\": \"CARDIOVASCULAR\", \"Correlation\": 0.11}, {\"Variable 1\": \"RENAL_CHRONIC\", \"Variable 2\": \"OBESITY\", \"Correlation\": 0.02}, {\"Variable 1\": \"RENAL_CHRONIC\", \"Variable 2\": \"RENAL_CHRONIC\", \"Correlation\": 1.0}, {\"Variable 1\": \"RENAL_CHRONIC\", \"Variable 2\": \"TOBACCO\", \"Correlation\": 0.02}, {\"Variable 1\": \"RENAL_CHRONIC\", \"Variable 2\": \"CLASIFFICATION_FINAL\", \"Correlation\": -0.01}, {\"Variable 1\": \"RENAL_CHRONIC\", \"Variable 2\": \"DIED\", \"Correlation\": 0.12}, {\"Variable 1\": \"TOBACCO\", \"Variable 2\": \"USMER\", \"Correlation\": 0.02}, {\"Variable 1\": \"TOBACCO\", \"Variable 2\": \"MEDICAL_UNIT\", \"Correlation\": 0.01}, {\"Variable 1\": \"TOBACCO\", \"Variable 2\": \"SEX\", \"Correlation\": 0.1}, {\"Variable 1\": \"TOBACCO\", \"Variable 2\": \"PATIENT_TYPE\", \"Correlation\": 0.01}, {\"Variable 1\": \"TOBACCO\", \"Variable 2\": \"PNEUMONIA\", \"Correlation\": 0.01}, {\"Variable 1\": \"TOBACCO\", \"Variable 2\": \"AGE\", \"Correlation\": 0.01}, {\"Variable 1\": \"TOBACCO\", \"Variable 2\": \"PREGNANT\", \"Correlation\": -0.02}, {\"Variable 1\": \"TOBACCO\", \"Variable 2\": \"DIABETES\", \"Correlation\": 0.01}, {\"Variable 1\": \"TOBACCO\", \"Variable 2\": \"COPD\", \"Correlation\": 0.07}, {\"Variable 1\": \"TOBACCO\", \"Variable 2\": \"ASTHMA\", \"Correlation\": 0.01}, {\"Variable 1\": \"TOBACCO\", \"Variable 2\": \"INMSUPR\", \"Correlation\": 0.01}, {\"Variable 1\": \"TOBACCO\", \"Variable 2\": \"HIPERTENSION\", \"Correlation\": 0.01}, {\"Variable 1\": \"TOBACCO\", \"Variable 2\": \"OTHER_DISEASE\", \"Correlation\": 0.01}, {\"Variable 1\": \"TOBACCO\", \"Variable 2\": \"CARDIOVASCULAR\", \"Correlation\": 0.03}, {\"Variable 1\": \"TOBACCO\", \"Variable 2\": \"OBESITY\", \"Correlation\": 0.08}, {\"Variable 1\": \"TOBACCO\", \"Variable 2\": \"RENAL_CHRONIC\", \"Correlation\": 0.02}, {\"Variable 1\": \"TOBACCO\", \"Variable 2\": \"TOBACCO\", \"Correlation\": 1.0}, {\"Variable 1\": \"TOBACCO\", \"Variable 2\": \"CLASIFFICATION_FINAL\", \"Correlation\": 0.02}, {\"Variable 1\": \"TOBACCO\", \"Variable 2\": \"DIED\", \"Correlation\": 0.01}, {\"Variable 1\": \"CLASIFFICATION_FINAL\", \"Variable 2\": \"USMER\", \"Correlation\": 0.03}, {\"Variable 1\": \"CLASIFFICATION_FINAL\", \"Variable 2\": \"MEDICAL_UNIT\", \"Correlation\": 0.08}, {\"Variable 1\": \"CLASIFFICATION_FINAL\", \"Variable 2\": \"SEX\", \"Correlation\": -0.06}, {\"Variable 1\": \"CLASIFFICATION_FINAL\", \"Variable 2\": \"PATIENT_TYPE\", \"Correlation\": -0.18}, {\"Variable 1\": \"CLASIFFICATION_FINAL\", \"Variable 2\": \"PNEUMONIA\", \"Correlation\": -0.19}, {\"Variable 1\": \"CLASIFFICATION_FINAL\", \"Variable 2\": \"AGE\", \"Correlation\": -0.15}, {\"Variable 1\": \"CLASIFFICATION_FINAL\", \"Variable 2\": \"PREGNANT\", \"Correlation\": 0.01}, {\"Variable 1\": \"CLASIFFICATION_FINAL\", \"Variable 2\": \"DIABETES\", \"Correlation\": -0.1}, {\"Variable 1\": \"CLASIFFICATION_FINAL\", \"Variable 2\": \"COPD\", \"Correlation\": -0.01}, {\"Variable 1\": \"CLASIFFICATION_FINAL\", \"Variable 2\": \"ASTHMA\", \"Correlation\": 0.02}, {\"Variable 1\": \"CLASIFFICATION_FINAL\", \"Variable 2\": \"INMSUPR\", \"Correlation\": 0.01}, {\"Variable 1\": \"CLASIFFICATION_FINAL\", \"Variable 2\": \"HIPERTENSION\", \"Correlation\": -0.09}, {\"Variable 1\": \"CLASIFFICATION_FINAL\", \"Variable 2\": \"OTHER_DISEASE\", \"Correlation\": 0.01}, {\"Variable 1\": \"CLASIFFICATION_FINAL\", \"Variable 2\": \"CARDIOVASCULAR\", \"Correlation\": -0.01}, {\"Variable 1\": \"CLASIFFICATION_FINAL\", \"Variable 2\": \"OBESITY\", \"Correlation\": -0.07}, {\"Variable 1\": \"CLASIFFICATION_FINAL\", \"Variable 2\": \"RENAL_CHRONIC\", \"Correlation\": -0.01}, {\"Variable 1\": \"CLASIFFICATION_FINAL\", \"Variable 2\": \"TOBACCO\", \"Correlation\": 0.02}, {\"Variable 1\": \"CLASIFFICATION_FINAL\", \"Variable 2\": \"CLASIFFICATION_FINAL\", \"Correlation\": 1.0}, {\"Variable 1\": \"CLASIFFICATION_FINAL\", \"Variable 2\": \"DIED\", \"Correlation\": -0.2}, {\"Variable 1\": \"DIED\", \"Variable 2\": \"USMER\", \"Correlation\": -0.11}, {\"Variable 1\": \"DIED\", \"Variable 2\": \"MEDICAL_UNIT\", \"Correlation\": -0.15}, {\"Variable 1\": \"DIED\", \"Variable 2\": \"SEX\", \"Correlation\": 0.08}, {\"Variable 1\": \"DIED\", \"Variable 2\": \"PATIENT_TYPE\", \"Correlation\": 0.52}, {\"Variable 1\": \"DIED\", \"Variable 2\": \"PNEUMONIA\", \"Correlation\": 0.47}, {\"Variable 1\": \"DIED\", \"Variable 2\": \"AGE\", \"Correlation\": 0.32}, {\"Variable 1\": \"DIED\", \"Variable 2\": \"PREGNANT\", \"Correlation\": -0.02}, {\"Variable 1\": \"DIED\", \"Variable 2\": \"DIABETES\", \"Correlation\": 0.22}, {\"Variable 1\": \"DIED\", \"Variable 2\": \"COPD\", \"Correlation\": 0.09}, {\"Variable 1\": \"DIED\", \"Variable 2\": \"ASTHMA\", \"Correlation\": -0.02}, {\"Variable 1\": \"DIED\", \"Variable 2\": \"INMSUPR\", \"Correlation\": 0.05}, {\"Variable 1\": \"DIED\", \"Variable 2\": \"HIPERTENSION\", \"Correlation\": 0.2}, {\"Variable 1\": \"DIED\", \"Variable 2\": \"OTHER_DISEASE\", \"Correlation\": 0.06}, {\"Variable 1\": \"DIED\", \"Variable 2\": \"CARDIOVASCULAR\", \"Correlation\": 0.08}, {\"Variable 1\": \"DIED\", \"Variable 2\": \"OBESITY\", \"Correlation\": 0.06}, {\"Variable 1\": \"DIED\", \"Variable 2\": \"RENAL_CHRONIC\", \"Correlation\": 0.12}, {\"Variable 1\": \"DIED\", \"Variable 2\": \"TOBACCO\", \"Correlation\": 0.01}, {\"Variable 1\": \"DIED\", \"Variable 2\": \"CLASIFFICATION_FINAL\", \"Correlation\": -0.2}, {\"Variable 1\": \"DIED\", \"Variable 2\": \"DIED\", \"Correlation\": 1.0}]}}, {\"mode\": \"vega-lite\"});\n",
       "</script>"
      ],
      "text/plain": [
       "alt.LayerChart(...)"
      ]
     },
     "execution_count": 17,
     "metadata": {},
     "output_type": "execute_result"
    }
   ],
   "source": [
    "numeric_df = df.select_dtypes(include=['float64', 'int64'])\n",
    "cor_data = numeric_df.corr().stack().reset_index().rename(columns={0: 'Correlation', 'level_0': 'Variable 1', 'level_1': 'Variable 2'})\n",
    "cor_data['Correlation'] = cor_data['Correlation'].map('{:.2f}'.format)\n",
    "cor_data['Correlation'] = pd.to_numeric(cor_data['Correlation'])\n",
    "\n",
    "base = alt.Chart(cor_data).encode(\n",
    "    x='Variable 1:O',\n",
    "    y='Variable 2:O'\n",
    ")\n",
    "\n",
    "text = base.mark_text().encode(\n",
    "    text='Correlation',\n",
    "    color=alt.condition(\n",
    "        alt.datum.correlation > 0.5,\n",
    "        alt.value('white'),\n",
    "        alt.value('black')\n",
    "    )\n",
    ")\n",
    "\n",
    "cor_plot = base.mark_rect().encode(\n",
    "    color='Correlation:Q'\n",
    ")\n",
    "\n",
    "(cor_plot + text).properties(\n",
    "    width=700,\n",
    "    height=400)"
   ]
  },
  {
   "cell_type": "markdown",
   "id": "38e17844",
   "metadata": {
    "id": "3615e55c",
    "papermill": {
     "duration": 0.028847,
     "end_time": "2023-07-14T18:13:23.105005",
     "exception": false,
     "start_time": "2023-07-14T18:13:23.076158",
     "status": "completed"
    },
    "tags": []
   },
   "source": [
    "From the correlation matrix, we will choose only the variables that have somewhat high (> 0.05) correlation with `DIED`. In this case, the non-significant variables are `['TOBACCO', 'ASTHMA', 'INMSUPR', 'PREGNANT']`. Thus, we will drop the features that have low correlation with `DIED` feature."
   ]
  },
  {
   "cell_type": "code",
   "execution_count": 18,
   "id": "ffa418fc",
   "metadata": {
    "execution": {
     "iopub.execute_input": "2023-07-14T18:13:23.166304Z",
     "iopub.status.busy": "2023-07-14T18:13:23.165890Z",
     "iopub.status.idle": "2023-07-14T18:13:23.177965Z",
     "shell.execute_reply": "2023-07-14T18:13:23.176689Z"
    },
    "id": "49d96e4f",
    "outputId": "141ffe9e-2c80-4b8d-c232-fdd0a39357a8",
    "papermill": {
     "duration": 0.04562,
     "end_time": "2023-07-14T18:13:23.180517",
     "exception": false,
     "start_time": "2023-07-14T18:13:23.134897",
     "status": "completed"
    },
    "tags": []
   },
   "outputs": [
    {
     "data": {
      "text/plain": [
       "['USMER',\n",
       " 'MEDICAL_UNIT',\n",
       " 'SEX',\n",
       " 'PATIENT_TYPE',\n",
       " 'PNEUMONIA',\n",
       " 'AGE',\n",
       " 'DIABETES',\n",
       " 'COPD',\n",
       " 'HIPERTENSION',\n",
       " 'OTHER_DISEASE',\n",
       " 'CARDIOVASCULAR',\n",
       " 'OBESITY',\n",
       " 'RENAL_CHRONIC',\n",
       " 'CLASIFFICATION_FINAL',\n",
       " 'DIED']"
      ]
     },
     "execution_count": 18,
     "metadata": {},
     "output_type": "execute_result"
    }
   ],
   "source": [
    "# Determines the variables with correlation > 0.05 with Died\n",
    "\n",
    "died_cor = cor_data[cor_data['Variable 1'] == 'DIED']\n",
    "died_significant = died_cor[(died_cor['Correlation'].abs() > 0.05) | (died_cor['Correlation'] == 1)]\n",
    "significant_cor = died_significant['Variable 2'].tolist()\n",
    "\n",
    "significant_cor"
   ]
  },
  {
   "cell_type": "code",
   "execution_count": 19,
   "id": "47219e0f",
   "metadata": {
    "execution": {
     "iopub.execute_input": "2023-07-14T18:13:23.241812Z",
     "iopub.status.busy": "2023-07-14T18:13:23.240999Z",
     "iopub.status.idle": "2023-07-14T18:13:23.250105Z",
     "shell.execute_reply": "2023-07-14T18:13:23.248520Z"
    },
    "id": "a47919ae",
    "outputId": "c0f01e85-4c53-42c9-c4b4-ee5a54e4fb3c",
    "papermill": {
     "duration": 0.042867,
     "end_time": "2023-07-14T18:13:23.253038",
     "exception": false,
     "start_time": "2023-07-14T18:13:23.210171",
     "status": "completed"
    },
    "tags": []
   },
   "outputs": [
    {
     "data": {
      "text/plain": [
       "['INMSUPR', 'TOBACCO', 'ASTHMA', 'PREGNANT']"
      ]
     },
     "execution_count": 19,
     "metadata": {},
     "output_type": "execute_result"
    }
   ],
   "source": [
    "# Determines the variables with correlation <= 0.05 with Died\n",
    "\n",
    "unsignificant_cor = list(set(df.columns.values.tolist()) - set(significant_cor))\n",
    "\n",
    "unsignificant_cor"
   ]
  },
  {
   "cell_type": "code",
   "execution_count": 20,
   "id": "b6d23df7",
   "metadata": {
    "execution": {
     "iopub.execute_input": "2023-07-14T18:13:23.312442Z",
     "iopub.status.busy": "2023-07-14T18:13:23.312066Z",
     "iopub.status.idle": "2023-07-14T18:13:23.507666Z",
     "shell.execute_reply": "2023-07-14T18:13:23.506299Z"
    },
    "id": "b0e94cca",
    "outputId": "bb4eb35c-016c-4693-c73d-2e11390d03b4",
    "papermill": {
     "duration": 0.228382,
     "end_time": "2023-07-14T18:13:23.510386",
     "exception": false,
     "start_time": "2023-07-14T18:13:23.282004",
     "status": "completed"
    },
    "scrolled": true,
    "tags": []
   },
   "outputs": [
    {
     "data": {
      "text/html": [
       "<div>\n",
       "<style scoped>\n",
       "    .dataframe tbody tr th:only-of-type {\n",
       "        vertical-align: middle;\n",
       "    }\n",
       "\n",
       "    .dataframe tbody tr th {\n",
       "        vertical-align: top;\n",
       "    }\n",
       "\n",
       "    .dataframe thead th {\n",
       "        text-align: right;\n",
       "    }\n",
       "</style>\n",
       "<table border=\"1\" class=\"dataframe\">\n",
       "  <thead>\n",
       "    <tr style=\"text-align: right;\">\n",
       "      <th></th>\n",
       "      <th>USMER</th>\n",
       "      <th>MEDICAL_UNIT</th>\n",
       "      <th>SEX</th>\n",
       "      <th>PATIENT_TYPE</th>\n",
       "      <th>PNEUMONIA</th>\n",
       "      <th>AGE</th>\n",
       "      <th>DIABETES</th>\n",
       "      <th>COPD</th>\n",
       "      <th>HIPERTENSION</th>\n",
       "      <th>OTHER_DISEASE</th>\n",
       "      <th>CARDIOVASCULAR</th>\n",
       "      <th>OBESITY</th>\n",
       "      <th>RENAL_CHRONIC</th>\n",
       "      <th>CLASIFFICATION_FINAL</th>\n",
       "      <th>DIED</th>\n",
       "    </tr>\n",
       "  </thead>\n",
       "  <tbody>\n",
       "    <tr>\n",
       "      <th>0</th>\n",
       "      <td>2</td>\n",
       "      <td>1</td>\n",
       "      <td>1</td>\n",
       "      <td>1</td>\n",
       "      <td>1.0</td>\n",
       "      <td>65</td>\n",
       "      <td>0.0</td>\n",
       "      <td>0.0</td>\n",
       "      <td>1.0</td>\n",
       "      <td>0.0</td>\n",
       "      <td>0.0</td>\n",
       "      <td>0.0</td>\n",
       "      <td>0.0</td>\n",
       "      <td>3</td>\n",
       "      <td>1</td>\n",
       "    </tr>\n",
       "    <tr>\n",
       "      <th>1</th>\n",
       "      <td>2</td>\n",
       "      <td>1</td>\n",
       "      <td>2</td>\n",
       "      <td>1</td>\n",
       "      <td>1.0</td>\n",
       "      <td>72</td>\n",
       "      <td>0.0</td>\n",
       "      <td>0.0</td>\n",
       "      <td>1.0</td>\n",
       "      <td>0.0</td>\n",
       "      <td>0.0</td>\n",
       "      <td>1.0</td>\n",
       "      <td>1.0</td>\n",
       "      <td>5</td>\n",
       "      <td>1</td>\n",
       "    </tr>\n",
       "    <tr>\n",
       "      <th>2</th>\n",
       "      <td>2</td>\n",
       "      <td>1</td>\n",
       "      <td>2</td>\n",
       "      <td>2</td>\n",
       "      <td>0.0</td>\n",
       "      <td>55</td>\n",
       "      <td>1.0</td>\n",
       "      <td>0.0</td>\n",
       "      <td>0.0</td>\n",
       "      <td>0.0</td>\n",
       "      <td>0.0</td>\n",
       "      <td>0.0</td>\n",
       "      <td>0.0</td>\n",
       "      <td>3</td>\n",
       "      <td>1</td>\n",
       "    </tr>\n",
       "    <tr>\n",
       "      <th>3</th>\n",
       "      <td>2</td>\n",
       "      <td>1</td>\n",
       "      <td>1</td>\n",
       "      <td>1</td>\n",
       "      <td>0.0</td>\n",
       "      <td>53</td>\n",
       "      <td>0.0</td>\n",
       "      <td>0.0</td>\n",
       "      <td>0.0</td>\n",
       "      <td>0.0</td>\n",
       "      <td>0.0</td>\n",
       "      <td>0.0</td>\n",
       "      <td>0.0</td>\n",
       "      <td>7</td>\n",
       "      <td>1</td>\n",
       "    </tr>\n",
       "    <tr>\n",
       "      <th>4</th>\n",
       "      <td>2</td>\n",
       "      <td>1</td>\n",
       "      <td>2</td>\n",
       "      <td>1</td>\n",
       "      <td>0.0</td>\n",
       "      <td>68</td>\n",
       "      <td>1.0</td>\n",
       "      <td>0.0</td>\n",
       "      <td>1.0</td>\n",
       "      <td>0.0</td>\n",
       "      <td>0.0</td>\n",
       "      <td>0.0</td>\n",
       "      <td>0.0</td>\n",
       "      <td>3</td>\n",
       "      <td>1</td>\n",
       "    </tr>\n",
       "  </tbody>\n",
       "</table>\n",
       "</div>"
      ],
      "text/plain": [
       "   USMER  MEDICAL_UNIT  SEX  PATIENT_TYPE  PNEUMONIA  AGE  DIABETES  COPD  \\\n",
       "0      2             1    1             1        1.0   65       0.0   0.0   \n",
       "1      2             1    2             1        1.0   72       0.0   0.0   \n",
       "2      2             1    2             2        0.0   55       1.0   0.0   \n",
       "3      2             1    1             1        0.0   53       0.0   0.0   \n",
       "4      2             1    2             1        0.0   68       1.0   0.0   \n",
       "\n",
       "   HIPERTENSION  OTHER_DISEASE  CARDIOVASCULAR  OBESITY  RENAL_CHRONIC  \\\n",
       "0           1.0            0.0             0.0      0.0            0.0   \n",
       "1           1.0            0.0             0.0      1.0            1.0   \n",
       "2           0.0            0.0             0.0      0.0            0.0   \n",
       "3           0.0            0.0             0.0      0.0            0.0   \n",
       "4           1.0            0.0             0.0      0.0            0.0   \n",
       "\n",
       "   CLASIFFICATION_FINAL  DIED  \n",
       "0                     3     1  \n",
       "1                     5     1  \n",
       "2                     3     1  \n",
       "3                     7     1  \n",
       "4                     3     1  "
      ]
     },
     "execution_count": 20,
     "metadata": {},
     "output_type": "execute_result"
    }
   ],
   "source": [
    "# Fitlers df so that it contains only the significant variables\n",
    "\n",
    "df = df.filter(items=significant_cor)\n",
    "\n",
    "df.head()"
   ]
  },
  {
   "cell_type": "markdown",
   "id": "a4e19645",
   "metadata": {
    "id": "280ca862",
    "papermill": {
     "duration": 0.029714,
     "end_time": "2023-07-14T18:13:23.569419",
     "exception": false,
     "start_time": "2023-07-14T18:13:23.539705",
     "status": "completed"
    },
    "tags": []
   },
   "source": [
    "Identifying sparse columns where there is only one unique value in that column. None of the columns in the dataset has only one value, so we do not remove any columns. We also cannot apply variance threshold (a simple baseline approach to feature selection - it removes all features whose variance doesn't meet some threshold) because none of the columns contain quantitative values, except age which is a variable that is highly correlated with the `DIED` variable."
   ]
  },
  {
   "cell_type": "code",
   "execution_count": 21,
   "id": "110fd732",
   "metadata": {
    "execution": {
     "iopub.execute_input": "2023-07-14T18:13:23.631872Z",
     "iopub.status.busy": "2023-07-14T18:13:23.631455Z",
     "iopub.status.idle": "2023-07-14T18:13:23.748408Z",
     "shell.execute_reply": "2023-07-14T18:13:23.747124Z"
    },
    "id": "0bb8d548",
    "outputId": "22eba1d0-c75c-4656-dbc3-2d5f912a2b17",
    "papermill": {
     "duration": 0.150355,
     "end_time": "2023-07-14T18:13:23.750970",
     "exception": false,
     "start_time": "2023-07-14T18:13:23.600615",
     "status": "completed"
    },
    "tags": []
   },
   "outputs": [
    {
     "data": {
      "text/plain": [
       "Index([], dtype='object')"
      ]
     },
     "execution_count": 21,
     "metadata": {},
     "output_type": "execute_result"
    }
   ],
   "source": [
    "df.columns[df.nunique() == 1]"
   ]
  },
  {
   "cell_type": "code",
   "execution_count": 22,
   "id": "1aaed93e",
   "metadata": {
    "execution": {
     "iopub.execute_input": "2023-07-14T18:13:23.823429Z",
     "iopub.status.busy": "2023-07-14T18:13:23.822738Z",
     "iopub.status.idle": "2023-07-14T18:13:24.316114Z",
     "shell.execute_reply": "2023-07-14T18:13:24.314952Z"
    },
    "id": "4cba8654",
    "outputId": "3ca905d8-62ac-46ae-d5ba-0423c1ae3ca2",
    "papermill": {
     "duration": 0.534084,
     "end_time": "2023-07-14T18:13:24.318522",
     "exception": false,
     "start_time": "2023-07-14T18:13:23.784438",
     "status": "completed"
    },
    "tags": []
   },
   "outputs": [
    {
     "data": {
      "text/html": [
       "<div>\n",
       "<style scoped>\n",
       "    .dataframe tbody tr th:only-of-type {\n",
       "        vertical-align: middle;\n",
       "    }\n",
       "\n",
       "    .dataframe tbody tr th {\n",
       "        vertical-align: top;\n",
       "    }\n",
       "\n",
       "    .dataframe thead th {\n",
       "        text-align: right;\n",
       "    }\n",
       "</style>\n",
       "<table border=\"1\" class=\"dataframe\">\n",
       "  <thead>\n",
       "    <tr style=\"text-align: right;\">\n",
       "      <th></th>\n",
       "      <th>MEDICAL_UNIT_1</th>\n",
       "      <th>MEDICAL_UNIT_2</th>\n",
       "      <th>MEDICAL_UNIT_3</th>\n",
       "      <th>MEDICAL_UNIT_4</th>\n",
       "      <th>MEDICAL_UNIT_5</th>\n",
       "      <th>MEDICAL_UNIT_6</th>\n",
       "      <th>MEDICAL_UNIT_7</th>\n",
       "      <th>MEDICAL_UNIT_8</th>\n",
       "      <th>MEDICAL_UNIT_9</th>\n",
       "      <th>MEDICAL_UNIT_10</th>\n",
       "      <th>MEDICAL_UNIT_11</th>\n",
       "      <th>MEDICAL_UNIT_12</th>\n",
       "      <th>MEDICAL_UNIT_13</th>\n",
       "      <th>CLASIFFICATION_FINAL_1</th>\n",
       "      <th>CLASIFFICATION_FINAL_2</th>\n",
       "      <th>CLASIFFICATION_FINAL_3</th>\n",
       "      <th>CLASIFFICATION_FINAL_4</th>\n",
       "      <th>CLASIFFICATION_FINAL_5</th>\n",
       "      <th>CLASIFFICATION_FINAL_6</th>\n",
       "      <th>CLASIFFICATION_FINAL_7</th>\n",
       "    </tr>\n",
       "  </thead>\n",
       "  <tbody>\n",
       "    <tr>\n",
       "      <th>0</th>\n",
       "      <td>1.0</td>\n",
       "      <td>0.0</td>\n",
       "      <td>0.0</td>\n",
       "      <td>0.0</td>\n",
       "      <td>0.0</td>\n",
       "      <td>0.0</td>\n",
       "      <td>0.0</td>\n",
       "      <td>0.0</td>\n",
       "      <td>0.0</td>\n",
       "      <td>0.0</td>\n",
       "      <td>0.0</td>\n",
       "      <td>0.0</td>\n",
       "      <td>0.0</td>\n",
       "      <td>0.0</td>\n",
       "      <td>0.0</td>\n",
       "      <td>1.0</td>\n",
       "      <td>0.0</td>\n",
       "      <td>0.0</td>\n",
       "      <td>0.0</td>\n",
       "      <td>0.0</td>\n",
       "    </tr>\n",
       "    <tr>\n",
       "      <th>1</th>\n",
       "      <td>1.0</td>\n",
       "      <td>0.0</td>\n",
       "      <td>0.0</td>\n",
       "      <td>0.0</td>\n",
       "      <td>0.0</td>\n",
       "      <td>0.0</td>\n",
       "      <td>0.0</td>\n",
       "      <td>0.0</td>\n",
       "      <td>0.0</td>\n",
       "      <td>0.0</td>\n",
       "      <td>0.0</td>\n",
       "      <td>0.0</td>\n",
       "      <td>0.0</td>\n",
       "      <td>0.0</td>\n",
       "      <td>0.0</td>\n",
       "      <td>0.0</td>\n",
       "      <td>0.0</td>\n",
       "      <td>1.0</td>\n",
       "      <td>0.0</td>\n",
       "      <td>0.0</td>\n",
       "    </tr>\n",
       "    <tr>\n",
       "      <th>2</th>\n",
       "      <td>1.0</td>\n",
       "      <td>0.0</td>\n",
       "      <td>0.0</td>\n",
       "      <td>0.0</td>\n",
       "      <td>0.0</td>\n",
       "      <td>0.0</td>\n",
       "      <td>0.0</td>\n",
       "      <td>0.0</td>\n",
       "      <td>0.0</td>\n",
       "      <td>0.0</td>\n",
       "      <td>0.0</td>\n",
       "      <td>0.0</td>\n",
       "      <td>0.0</td>\n",
       "      <td>0.0</td>\n",
       "      <td>0.0</td>\n",
       "      <td>1.0</td>\n",
       "      <td>0.0</td>\n",
       "      <td>0.0</td>\n",
       "      <td>0.0</td>\n",
       "      <td>0.0</td>\n",
       "    </tr>\n",
       "    <tr>\n",
       "      <th>3</th>\n",
       "      <td>1.0</td>\n",
       "      <td>0.0</td>\n",
       "      <td>0.0</td>\n",
       "      <td>0.0</td>\n",
       "      <td>0.0</td>\n",
       "      <td>0.0</td>\n",
       "      <td>0.0</td>\n",
       "      <td>0.0</td>\n",
       "      <td>0.0</td>\n",
       "      <td>0.0</td>\n",
       "      <td>0.0</td>\n",
       "      <td>0.0</td>\n",
       "      <td>0.0</td>\n",
       "      <td>0.0</td>\n",
       "      <td>0.0</td>\n",
       "      <td>0.0</td>\n",
       "      <td>0.0</td>\n",
       "      <td>0.0</td>\n",
       "      <td>0.0</td>\n",
       "      <td>1.0</td>\n",
       "    </tr>\n",
       "    <tr>\n",
       "      <th>4</th>\n",
       "      <td>1.0</td>\n",
       "      <td>0.0</td>\n",
       "      <td>0.0</td>\n",
       "      <td>0.0</td>\n",
       "      <td>0.0</td>\n",
       "      <td>0.0</td>\n",
       "      <td>0.0</td>\n",
       "      <td>0.0</td>\n",
       "      <td>0.0</td>\n",
       "      <td>0.0</td>\n",
       "      <td>0.0</td>\n",
       "      <td>0.0</td>\n",
       "      <td>0.0</td>\n",
       "      <td>0.0</td>\n",
       "      <td>0.0</td>\n",
       "      <td>1.0</td>\n",
       "      <td>0.0</td>\n",
       "      <td>0.0</td>\n",
       "      <td>0.0</td>\n",
       "      <td>0.0</td>\n",
       "    </tr>\n",
       "  </tbody>\n",
       "</table>\n",
       "</div>"
      ],
      "text/plain": [
       "   MEDICAL_UNIT_1  MEDICAL_UNIT_2  MEDICAL_UNIT_3  MEDICAL_UNIT_4  \\\n",
       "0             1.0             0.0             0.0             0.0   \n",
       "1             1.0             0.0             0.0             0.0   \n",
       "2             1.0             0.0             0.0             0.0   \n",
       "3             1.0             0.0             0.0             0.0   \n",
       "4             1.0             0.0             0.0             0.0   \n",
       "\n",
       "   MEDICAL_UNIT_5  MEDICAL_UNIT_6  MEDICAL_UNIT_7  MEDICAL_UNIT_8  \\\n",
       "0             0.0             0.0             0.0             0.0   \n",
       "1             0.0             0.0             0.0             0.0   \n",
       "2             0.0             0.0             0.0             0.0   \n",
       "3             0.0             0.0             0.0             0.0   \n",
       "4             0.0             0.0             0.0             0.0   \n",
       "\n",
       "   MEDICAL_UNIT_9  MEDICAL_UNIT_10  MEDICAL_UNIT_11  MEDICAL_UNIT_12  \\\n",
       "0             0.0              0.0              0.0              0.0   \n",
       "1             0.0              0.0              0.0              0.0   \n",
       "2             0.0              0.0              0.0              0.0   \n",
       "3             0.0              0.0              0.0              0.0   \n",
       "4             0.0              0.0              0.0              0.0   \n",
       "\n",
       "   MEDICAL_UNIT_13  CLASIFFICATION_FINAL_1  CLASIFFICATION_FINAL_2  \\\n",
       "0              0.0                     0.0                     0.0   \n",
       "1              0.0                     0.0                     0.0   \n",
       "2              0.0                     0.0                     0.0   \n",
       "3              0.0                     0.0                     0.0   \n",
       "4              0.0                     0.0                     0.0   \n",
       "\n",
       "   CLASIFFICATION_FINAL_3  CLASIFFICATION_FINAL_4  CLASIFFICATION_FINAL_5  \\\n",
       "0                     1.0                     0.0                     0.0   \n",
       "1                     0.0                     0.0                     1.0   \n",
       "2                     1.0                     0.0                     0.0   \n",
       "3                     0.0                     0.0                     0.0   \n",
       "4                     1.0                     0.0                     0.0   \n",
       "\n",
       "   CLASIFFICATION_FINAL_6  CLASIFFICATION_FINAL_7  \n",
       "0                     0.0                     0.0  \n",
       "1                     0.0                     0.0  \n",
       "2                     0.0                     0.0  \n",
       "3                     0.0                     1.0  \n",
       "4                     0.0                     0.0  "
      ]
     },
     "execution_count": 22,
     "metadata": {},
     "output_type": "execute_result"
    }
   ],
   "source": [
    "# Encoding the categorical features\n",
    "\n",
    "from sklearn.preprocessing import OneHotEncoder\n",
    "encoder = OneHotEncoder(sparse_output=False)\n",
    "\n",
    "categorical_cols = [\"MEDICAL_UNIT\", \"CLASIFFICATION_FINAL\"]\n",
    "df_categorical = encoder.fit_transform(df[categorical_cols])\n",
    "categorical_names = encoder.get_feature_names_out(categorical_cols)\n",
    "df_categorical = pd.DataFrame(df_categorical, columns=categorical_names)\n",
    "\n",
    "df_categorical.head()"
   ]
  },
  {
   "cell_type": "code",
   "execution_count": 23,
   "id": "0914e00f",
   "metadata": {
    "execution": {
     "iopub.execute_input": "2023-07-14T18:13:24.379435Z",
     "iopub.status.busy": "2023-07-14T18:13:24.378819Z",
     "iopub.status.idle": "2023-07-14T18:13:24.919057Z",
     "shell.execute_reply": "2023-07-14T18:13:24.917907Z"
    },
    "id": "3f0c8420",
    "outputId": "b019f709-c54d-4ef0-bddd-ac90d7c7c856",
    "papermill": {
     "duration": 0.574223,
     "end_time": "2023-07-14T18:13:24.921959",
     "exception": false,
     "start_time": "2023-07-14T18:13:24.347736",
     "status": "completed"
    },
    "tags": []
   },
   "outputs": [
    {
     "data": {
      "text/html": [
       "<div>\n",
       "<style scoped>\n",
       "    .dataframe tbody tr th:only-of-type {\n",
       "        vertical-align: middle;\n",
       "    }\n",
       "\n",
       "    .dataframe tbody tr th {\n",
       "        vertical-align: top;\n",
       "    }\n",
       "\n",
       "    .dataframe thead th {\n",
       "        text-align: right;\n",
       "    }\n",
       "</style>\n",
       "<table border=\"1\" class=\"dataframe\">\n",
       "  <thead>\n",
       "    <tr style=\"text-align: right;\">\n",
       "      <th></th>\n",
       "      <th>USMER</th>\n",
       "      <th>SEX</th>\n",
       "      <th>PATIENT_TYPE</th>\n",
       "      <th>PNEUMONIA</th>\n",
       "      <th>AGE</th>\n",
       "      <th>DIABETES</th>\n",
       "      <th>COPD</th>\n",
       "      <th>HIPERTENSION</th>\n",
       "      <th>OTHER_DISEASE</th>\n",
       "      <th>CARDIOVASCULAR</th>\n",
       "      <th>...</th>\n",
       "      <th>MEDICAL_UNIT_11</th>\n",
       "      <th>MEDICAL_UNIT_12</th>\n",
       "      <th>MEDICAL_UNIT_13</th>\n",
       "      <th>CLASIFFICATION_FINAL_1</th>\n",
       "      <th>CLASIFFICATION_FINAL_2</th>\n",
       "      <th>CLASIFFICATION_FINAL_3</th>\n",
       "      <th>CLASIFFICATION_FINAL_4</th>\n",
       "      <th>CLASIFFICATION_FINAL_5</th>\n",
       "      <th>CLASIFFICATION_FINAL_6</th>\n",
       "      <th>CLASIFFICATION_FINAL_7</th>\n",
       "    </tr>\n",
       "  </thead>\n",
       "  <tbody>\n",
       "    <tr>\n",
       "      <th>0</th>\n",
       "      <td>2</td>\n",
       "      <td>1</td>\n",
       "      <td>1</td>\n",
       "      <td>1.0</td>\n",
       "      <td>65</td>\n",
       "      <td>0.0</td>\n",
       "      <td>0.0</td>\n",
       "      <td>1.0</td>\n",
       "      <td>0.0</td>\n",
       "      <td>0.0</td>\n",
       "      <td>...</td>\n",
       "      <td>0.0</td>\n",
       "      <td>0.0</td>\n",
       "      <td>0.0</td>\n",
       "      <td>0.0</td>\n",
       "      <td>0.0</td>\n",
       "      <td>1.0</td>\n",
       "      <td>0.0</td>\n",
       "      <td>0.0</td>\n",
       "      <td>0.0</td>\n",
       "      <td>0.0</td>\n",
       "    </tr>\n",
       "    <tr>\n",
       "      <th>1</th>\n",
       "      <td>2</td>\n",
       "      <td>2</td>\n",
       "      <td>1</td>\n",
       "      <td>1.0</td>\n",
       "      <td>72</td>\n",
       "      <td>0.0</td>\n",
       "      <td>0.0</td>\n",
       "      <td>1.0</td>\n",
       "      <td>0.0</td>\n",
       "      <td>0.0</td>\n",
       "      <td>...</td>\n",
       "      <td>0.0</td>\n",
       "      <td>0.0</td>\n",
       "      <td>0.0</td>\n",
       "      <td>0.0</td>\n",
       "      <td>0.0</td>\n",
       "      <td>0.0</td>\n",
       "      <td>0.0</td>\n",
       "      <td>1.0</td>\n",
       "      <td>0.0</td>\n",
       "      <td>0.0</td>\n",
       "    </tr>\n",
       "    <tr>\n",
       "      <th>2</th>\n",
       "      <td>2</td>\n",
       "      <td>2</td>\n",
       "      <td>2</td>\n",
       "      <td>0.0</td>\n",
       "      <td>55</td>\n",
       "      <td>1.0</td>\n",
       "      <td>0.0</td>\n",
       "      <td>0.0</td>\n",
       "      <td>0.0</td>\n",
       "      <td>0.0</td>\n",
       "      <td>...</td>\n",
       "      <td>0.0</td>\n",
       "      <td>0.0</td>\n",
       "      <td>0.0</td>\n",
       "      <td>0.0</td>\n",
       "      <td>0.0</td>\n",
       "      <td>1.0</td>\n",
       "      <td>0.0</td>\n",
       "      <td>0.0</td>\n",
       "      <td>0.0</td>\n",
       "      <td>0.0</td>\n",
       "    </tr>\n",
       "    <tr>\n",
       "      <th>3</th>\n",
       "      <td>2</td>\n",
       "      <td>1</td>\n",
       "      <td>1</td>\n",
       "      <td>0.0</td>\n",
       "      <td>53</td>\n",
       "      <td>0.0</td>\n",
       "      <td>0.0</td>\n",
       "      <td>0.0</td>\n",
       "      <td>0.0</td>\n",
       "      <td>0.0</td>\n",
       "      <td>...</td>\n",
       "      <td>0.0</td>\n",
       "      <td>0.0</td>\n",
       "      <td>0.0</td>\n",
       "      <td>0.0</td>\n",
       "      <td>0.0</td>\n",
       "      <td>0.0</td>\n",
       "      <td>0.0</td>\n",
       "      <td>0.0</td>\n",
       "      <td>0.0</td>\n",
       "      <td>1.0</td>\n",
       "    </tr>\n",
       "    <tr>\n",
       "      <th>4</th>\n",
       "      <td>2</td>\n",
       "      <td>2</td>\n",
       "      <td>1</td>\n",
       "      <td>0.0</td>\n",
       "      <td>68</td>\n",
       "      <td>1.0</td>\n",
       "      <td>0.0</td>\n",
       "      <td>1.0</td>\n",
       "      <td>0.0</td>\n",
       "      <td>0.0</td>\n",
       "      <td>...</td>\n",
       "      <td>0.0</td>\n",
       "      <td>0.0</td>\n",
       "      <td>0.0</td>\n",
       "      <td>0.0</td>\n",
       "      <td>0.0</td>\n",
       "      <td>1.0</td>\n",
       "      <td>0.0</td>\n",
       "      <td>0.0</td>\n",
       "      <td>0.0</td>\n",
       "      <td>0.0</td>\n",
       "    </tr>\n",
       "  </tbody>\n",
       "</table>\n",
       "<p>5 rows × 33 columns</p>\n",
       "</div>"
      ],
      "text/plain": [
       "   USMER  SEX  PATIENT_TYPE  PNEUMONIA  AGE  DIABETES  COPD  HIPERTENSION  \\\n",
       "0      2    1             1        1.0   65       0.0   0.0           1.0   \n",
       "1      2    2             1        1.0   72       0.0   0.0           1.0   \n",
       "2      2    2             2        0.0   55       1.0   0.0           0.0   \n",
       "3      2    1             1        0.0   53       0.0   0.0           0.0   \n",
       "4      2    2             1        0.0   68       1.0   0.0           1.0   \n",
       "\n",
       "   OTHER_DISEASE  CARDIOVASCULAR  ...  MEDICAL_UNIT_11  MEDICAL_UNIT_12  \\\n",
       "0            0.0             0.0  ...              0.0              0.0   \n",
       "1            0.0             0.0  ...              0.0              0.0   \n",
       "2            0.0             0.0  ...              0.0              0.0   \n",
       "3            0.0             0.0  ...              0.0              0.0   \n",
       "4            0.0             0.0  ...              0.0              0.0   \n",
       "\n",
       "   MEDICAL_UNIT_13  CLASIFFICATION_FINAL_1  CLASIFFICATION_FINAL_2  \\\n",
       "0              0.0                     0.0                     0.0   \n",
       "1              0.0                     0.0                     0.0   \n",
       "2              0.0                     0.0                     0.0   \n",
       "3              0.0                     0.0                     0.0   \n",
       "4              0.0                     0.0                     0.0   \n",
       "\n",
       "   CLASIFFICATION_FINAL_3  CLASIFFICATION_FINAL_4  CLASIFFICATION_FINAL_5  \\\n",
       "0                     1.0                     0.0                     0.0   \n",
       "1                     0.0                     0.0                     1.0   \n",
       "2                     1.0                     0.0                     0.0   \n",
       "3                     0.0                     0.0                     0.0   \n",
       "4                     1.0                     0.0                     0.0   \n",
       "\n",
       "   CLASIFFICATION_FINAL_6  CLASIFFICATION_FINAL_7  \n",
       "0                     0.0                     0.0  \n",
       "1                     0.0                     0.0  \n",
       "2                     0.0                     0.0  \n",
       "3                     0.0                     1.0  \n",
       "4                     0.0                     0.0  \n",
       "\n",
       "[5 rows x 33 columns]"
      ]
     },
     "execution_count": 23,
     "metadata": {},
     "output_type": "execute_result"
    }
   ],
   "source": [
    "df = df.drop(categorical_cols, axis=1)\n",
    "df = df.reset_index(drop=True)\n",
    "df = pd.concat([df, df_categorical], axis=1)\n",
    "\n",
    "df.head()"
   ]
  },
  {
   "cell_type": "markdown",
   "id": "ff62941c",
   "metadata": {
    "id": "ef85c993",
    "papermill": {
     "duration": 0.03084,
     "end_time": "2023-07-14T18:13:24.984683",
     "exception": false,
     "start_time": "2023-07-14T18:13:24.953843",
     "status": "completed"
    },
    "tags": []
   },
   "source": [
    "Shape before dropping columns with NAN:"
   ]
  },
  {
   "cell_type": "code",
   "execution_count": 24,
   "id": "34cdaded",
   "metadata": {
    "execution": {
     "iopub.execute_input": "2023-07-14T18:13:25.048658Z",
     "iopub.status.busy": "2023-07-14T18:13:25.048021Z",
     "iopub.status.idle": "2023-07-14T18:13:25.054983Z",
     "shell.execute_reply": "2023-07-14T18:13:25.053865Z"
    },
    "id": "b30c55b6",
    "outputId": "9d614ee4-dc88-4d10-d5ae-1a4378d72cb1",
    "papermill": {
     "duration": 0.041736,
     "end_time": "2023-07-14T18:13:25.057230",
     "exception": false,
     "start_time": "2023-07-14T18:13:25.015494",
     "status": "completed"
    },
    "tags": []
   },
   "outputs": [
    {
     "data": {
      "text/plain": [
       "(1048575, 33)"
      ]
     },
     "execution_count": 24,
     "metadata": {},
     "output_type": "execute_result"
    }
   ],
   "source": [
    "df.shape"
   ]
  },
  {
   "cell_type": "markdown",
   "id": "add0e0e0",
   "metadata": {
    "id": "26280017",
    "papermill": {
     "duration": 0.030299,
     "end_time": "2023-07-14T18:13:25.117362",
     "exception": false,
     "start_time": "2023-07-14T18:13:25.087063",
     "status": "completed"
    },
    "tags": []
   },
   "source": [
    "Shape after dropping columns with NAN:"
   ]
  },
  {
   "cell_type": "code",
   "execution_count": 25,
   "id": "843a56c8",
   "metadata": {
    "execution": {
     "iopub.execute_input": "2023-07-14T18:13:25.180604Z",
     "iopub.status.busy": "2023-07-14T18:13:25.179966Z",
     "iopub.status.idle": "2023-07-14T18:13:25.628186Z",
     "shell.execute_reply": "2023-07-14T18:13:25.627045Z"
    },
    "id": "59daeb48",
    "outputId": "2ed21d1f-a4b1-4d6d-ca88-febf9b2b3995",
    "papermill": {
     "duration": 0.482199,
     "end_time": "2023-07-14T18:13:25.630442",
     "exception": false,
     "start_time": "2023-07-14T18:13:25.148243",
     "status": "completed"
    },
    "scrolled": true,
    "tags": []
   },
   "outputs": [
    {
     "data": {
      "text/plain": [
       "(1025812, 33)"
      ]
     },
     "execution_count": 25,
     "metadata": {},
     "output_type": "execute_result"
    }
   ],
   "source": [
    "df.dropna(inplace=True)\n",
    "df.shape"
   ]
  },
  {
   "cell_type": "markdown",
   "id": "2ca96077",
   "metadata": {
    "id": "1c9bf292",
    "papermill": {
     "duration": 0.029674,
     "end_time": "2023-07-14T18:13:25.692045",
     "exception": false,
     "start_time": "2023-07-14T18:13:25.662371",
     "status": "completed"
    },
    "tags": []
   },
   "source": [
    "### Scaling the Numeric Feature"
   ]
  },
  {
   "cell_type": "code",
   "execution_count": 26,
   "id": "8702b8f9",
   "metadata": {
    "execution": {
     "iopub.execute_input": "2023-07-14T18:13:25.756170Z",
     "iopub.status.busy": "2023-07-14T18:13:25.755512Z",
     "iopub.status.idle": "2023-07-14T18:13:25.826314Z",
     "shell.execute_reply": "2023-07-14T18:13:25.824985Z"
    },
    "id": "783e7b0a",
    "papermill": {
     "duration": 0.107291,
     "end_time": "2023-07-14T18:13:25.829755",
     "exception": false,
     "start_time": "2023-07-14T18:13:25.722464",
     "status": "completed"
    },
    "tags": []
   },
   "outputs": [],
   "source": [
    "from sklearn.preprocessing import RobustScaler\n",
    "\n",
    "scaler = RobustScaler()\n",
    "df.AGE = scaler.fit_transform(df.AGE.values.reshape(-1,1))"
   ]
  },
  {
   "cell_type": "code",
   "execution_count": 27,
   "id": "46a9839e",
   "metadata": {
    "execution": {
     "iopub.execute_input": "2023-07-14T18:13:25.895454Z",
     "iopub.status.busy": "2023-07-14T18:13:25.894974Z",
     "iopub.status.idle": "2023-07-14T18:13:25.993660Z",
     "shell.execute_reply": "2023-07-14T18:13:25.992217Z"
    },
    "id": "820039f5",
    "papermill": {
     "duration": 0.135513,
     "end_time": "2023-07-14T18:13:25.996347",
     "exception": false,
     "start_time": "2023-07-14T18:13:25.860834",
     "status": "completed"
    },
    "tags": []
   },
   "outputs": [],
   "source": [
    "# Determine X and Y variables\n",
    "\n",
    "X = df.drop(columns='DIED')\n",
    "Y = df.DIED"
   ]
  },
  {
   "cell_type": "code",
   "execution_count": 28,
   "id": "138c385c",
   "metadata": {
    "execution": {
     "iopub.execute_input": "2023-07-14T18:13:26.063149Z",
     "iopub.status.busy": "2023-07-14T18:13:26.062769Z",
     "iopub.status.idle": "2023-07-14T18:13:27.622536Z",
     "shell.execute_reply": "2023-07-14T18:13:27.621270Z"
    },
    "id": "770b9976",
    "outputId": "81adab7d-aae5-456d-e394-ed23e385bd40",
    "papermill": {
     "duration": 1.596593,
     "end_time": "2023-07-14T18:13:27.624889",
     "exception": false,
     "start_time": "2023-07-14T18:13:26.028296",
     "status": "completed"
    },
    "scrolled": true,
    "tags": []
   },
   "outputs": [
    {
     "name": "stdout",
     "output_type": "stream",
     "text": [
      "x_resampled : (149590, 32)\n",
      "y_resampled : (149590,)\n"
     ]
    }
   ],
   "source": [
    "import imblearn\n",
    "from imblearn.under_sampling import RandomUnderSampler\n",
    "\n",
    "rand_under = RandomUnderSampler(random_state=42)\n",
    "x_resampled, y_resampled = rand_under.fit_resample(X,Y)\n",
    "\n",
    "X_train, X_test, y_train, y_test = train_test_split(x_resampled, y_resampled, test_size=0.2, random_state=42)\n",
    "\n",
    "print(\"x_resampled :\", x_resampled.shape)\n",
    "print(\"y_resampled :\", y_resampled.shape)"
   ]
  },
  {
   "cell_type": "code",
   "execution_count": 29,
   "id": "23847175",
   "metadata": {
    "execution": {
     "iopub.execute_input": "2023-07-14T18:13:27.689606Z",
     "iopub.status.busy": "2023-07-14T18:13:27.688483Z",
     "iopub.status.idle": "2023-07-14T18:13:28.006024Z",
     "shell.execute_reply": "2023-07-14T18:13:28.004664Z"
    },
    "id": "b9ab5888",
    "outputId": "75b0ab0e-5e82-419f-b082-aa93df1e5df8",
    "papermill": {
     "duration": 0.352601,
     "end_time": "2023-07-14T18:13:28.009009",
     "exception": false,
     "start_time": "2023-07-14T18:13:27.656408",
     "status": "completed"
    },
    "tags": []
   },
   "outputs": [
    {
     "data": {
      "image/png": "[encoded data removed]",
      "text/plain": [
       "<Figure size 640x480 with 1 Axes>"
      ]
     },
     "metadata": {},
     "output_type": "display_data"
    }
   ],
   "source": [
    "plt.figure()\n",
    "sns.barplot(x=y_resampled.value_counts().index, y=y_resampled.value_counts().values).set(title=\"ALIVE Future Counts\", ylabel=\"Value\")\n",
    "plt.xticks([0,1], [\"Alive\",\"Dead\"])\n",
    "plt.show()"
   ]
  },
  {
   "cell_type": "markdown",
   "id": "2667dda4",
   "metadata": {
    "id": "73d913f0",
    "papermill": {
     "duration": 0.03143,
     "end_time": "2023-07-14T18:13:28.072715",
     "exception": false,
     "start_time": "2023-07-14T18:13:28.041285",
     "status": "completed"
    },
    "tags": []
   },
   "source": [
    "## MODELING"
   ]
  },
  {
   "cell_type": "markdown",
   "id": "bdea7bc4",
   "metadata": {
    "id": "659509b4",
    "papermill": {
     "duration": 0.032252,
     "end_time": "2023-07-14T18:13:28.136958",
     "exception": false,
     "start_time": "2023-07-14T18:13:28.104706",
     "status": "completed"
    },
    "tags": []
   },
   "source": [
    "### Helper Functions"
   ]
  },
  {
   "cell_type": "code",
   "execution_count": 30,
   "id": "de48f841",
   "metadata": {
    "execution": {
     "iopub.execute_input": "2023-07-14T18:13:28.206979Z",
     "iopub.status.busy": "2023-07-14T18:13:28.205600Z",
     "iopub.status.idle": "2023-07-14T18:13:28.215068Z",
     "shell.execute_reply": "2023-07-14T18:13:28.213220Z"
    },
    "id": "2c8b48b9",
    "papermill": {
     "duration": 0.047042,
     "end_time": "2023-07-14T18:13:28.218128",
     "exception": false,
     "start_time": "2023-07-14T18:13:28.171086",
     "status": "completed"
    },
    "tags": []
   },
   "outputs": [],
   "source": [
    "from sklearn.metrics import roc_curve\n",
    "\n",
    "# Function that draws an ROC curve\n",
    "def roc(model, lbl = \"Logistic Regression\"):\n",
    "    # Probabilities\n",
    "    logreg_pred_proba = model.predict_proba(X_test)\n",
    "\n",
    "    fpr, tpr, thresholds = roc_curve(y_test, logreg_pred_proba[:,1])\n",
    "    plt.plot([0,1],[0,1],\"k--\")\n",
    "    plt.plot(fpr, tpr, label = lbl)\n",
    "    plt.xlabel(\"False Positive Rate\")\n",
    "    plt.ylabel(\"True Positive Rate\")\n",
    "    plt.title(lbl + \" ROC Curve\")\n",
    "    plt.show()"
   ]
  },
  {
   "cell_type": "code",
   "execution_count": 31,
   "id": "ee6a22da",
   "metadata": {
    "execution": {
     "iopub.execute_input": "2023-07-14T18:13:28.287683Z",
     "iopub.status.busy": "2023-07-14T18:13:28.287184Z",
     "iopub.status.idle": "2023-07-14T18:13:28.299016Z",
     "shell.execute_reply": "2023-07-14T18:13:28.297928Z"
    },
    "id": "1b987bde",
    "papermill": {
     "duration": 0.049524,
     "end_time": "2023-07-14T18:13:28.301895",
     "exception": false,
     "start_time": "2023-07-14T18:13:28.252371",
     "status": "completed"
    },
    "tags": []
   },
   "outputs": [],
   "source": [
    "# Function that draws a confusion matrix given a test and prediction set\n",
    "def draw_matrix(y_test, y_pred):\n",
    "    confusion_df = pd.DataFrame(confusion_matrix(y_test, y_pred))\n",
    "    confusion_df = confusion_df / confusion_df.sum().sum()\n",
    "    confusion_df = confusion_df.reset_index().melt(id_vars=['index'], value_name='%', var_name='Predicted')\n",
    "    confusion_df = confusion_df.rename(columns={'index': 'Actual'})\n",
    "\n",
    "    heatmap = alt.Chart(confusion_df).mark_rect().encode(\n",
    "        x=alt.X('Predicted:N', sort=list(confusion_df['Predicted'].unique())),\n",
    "        y=alt.Y('Actual:N', sort=list(confusion_df['Actual'].unique())),\n",
    "        color=alt.Color('%:Q', scale=alt.Scale(scheme='reds'))\n",
    "    )\n",
    "    text = heatmap.mark_text(baseline='middle').encode(\n",
    "        text=alt.Text('%:Q', format='.2%'),\n",
    "        color=alt.condition(\n",
    "            alt.datum.Count > confusion_df['%'].max() / 2,\n",
    "            alt.value('white'),\n",
    "            alt.value('black')\n",
    "        )\n",
    "    )\n",
    "\n",
    "    return heatmap.properties(width=300, height=300) + text"
   ]
  },
  {
   "cell_type": "markdown",
   "id": "a59b04b0",
   "metadata": {
    "id": "7a897d0e",
    "papermill": {
     "duration": 0.032313,
     "end_time": "2023-07-14T18:13:28.366101",
     "exception": false,
     "start_time": "2023-07-14T18:13:28.333788",
     "status": "completed"
    },
    "tags": []
   },
   "source": [
    "## Decision Tree"
   ]
  },
  {
   "cell_type": "code",
   "execution_count": 32,
   "id": "0df9c2ca",
   "metadata": {
    "execution": {
     "iopub.execute_input": "2023-07-14T18:13:28.436581Z",
     "iopub.status.busy": "2023-07-14T18:13:28.435324Z",
     "iopub.status.idle": "2023-07-14T18:13:28.526158Z",
     "shell.execute_reply": "2023-07-14T18:13:28.524830Z"
    },
    "id": "a4a98ae3",
    "outputId": "fb4107f5-c07c-4d0f-b4ad-bd35c413c43b",
    "papermill": {
     "duration": 0.129256,
     "end_time": "2023-07-14T18:13:28.528978",
     "exception": false,
     "start_time": "2023-07-14T18:13:28.399722",
     "status": "completed"
    },
    "tags": []
   },
   "outputs": [
    {
     "name": "stdout",
     "output_type": "stream",
     "text": [
      "Train_x : (119672, 32)\n",
      "Test_x : (29918, 32)\n",
      "Train_y : (119672,)\n",
      "Test_y : (29918,)\n",
      "0    59848\n",
      "1    59824\n",
      "Name: DIED, dtype: int64\n",
      "1    14971\n",
      "0    14947\n",
      "Name: DIED, dtype: int64\n"
     ]
    }
   ],
   "source": [
    "X_train, X_test, y_train, y_test = train_test_split(x_resampled, y_resampled, test_size=0.2, random_state=42)\n",
    "\n",
    "print(\"Train_x :\", X_train.shape)\n",
    "print(\"Test_x :\", X_test.shape)\n",
    "print(\"Train_y :\", y_train.shape)\n",
    "print(\"Test_y :\", y_test.shape)\n",
    "\n",
    "print(y_train.value_counts())\n",
    "print(y_test.value_counts())"
   ]
  },
  {
   "cell_type": "code",
   "execution_count": 33,
   "id": "c8674071",
   "metadata": {
    "execution": {
     "iopub.execute_input": "2023-07-14T18:13:28.600667Z",
     "iopub.status.busy": "2023-07-14T18:13:28.599142Z",
     "iopub.status.idle": "2023-07-14T18:13:29.433323Z",
     "shell.execute_reply": "2023-07-14T18:13:29.431889Z"
    },
    "id": "35ca9599",
    "outputId": "a75a9db6-d8e9-4399-9ce2-06416b8651aa",
    "papermill": {
     "duration": 0.873258,
     "end_time": "2023-07-14T18:13:29.436156",
     "exception": false,
     "start_time": "2023-07-14T18:13:28.562898",
     "status": "completed"
    },
    "tags": []
   },
   "outputs": [
    {
     "data": {
      "text/html": [
       "<style>#sk-container-id-1 {color: black;background-color: white;}#sk-container-id-1 pre{padding: 0;}#sk-container-id-1 div.sk-toggleable {background-color: white;}#sk-container-id-1 label.sk-toggleable__label {cursor: pointer;display: block;width: 100%;margin-bottom: 0;padding: 0.3em;box-sizing: border-box;text-align: center;}#sk-container-id-1 label.sk-toggleable__label-arrow:before {content: \"▸\";float: left;margin-right: 0.25em;color: #696969;}#sk-container-id-1 label.sk-toggleable__label-arrow:hover:before {color: black;}#sk-container-id-1 div.sk-estimator:hover label.sk-toggleable__label-arrow:before {color: black;}#sk-container-id-1 div.sk-toggleable__content {max-height: 0;max-width: 0;overflow: hidden;text-align: left;background-color: #f0f8ff;}#sk-container-id-1 div.sk-toggleable__content pre {margin: 0.2em;color: black;border-radius: 0.25em;background-color: #f0f8ff;}#sk-container-id-1 input.sk-toggleable__control:checked~div.sk-toggleable__content {max-height: 200px;max-width: 100%;overflow: auto;}#sk-container-id-1 input.sk-toggleable__control:checked~label.sk-toggleable__label-arrow:before {content: \"▾\";}#sk-container-id-1 div.sk-estimator input.sk-toggleable__control:checked~label.sk-toggleable__label {background-color: #d4ebff;}#sk-container-id-1 div.sk-label input.sk-toggleable__control:checked~label.sk-toggleable__label {background-color: #d4ebff;}#sk-container-id-1 input.sk-hidden--visually {border: 0;clip: rect(1px 1px 1px 1px);clip: rect(1px, 1px, 1px, 1px);height: 1px;margin: -1px;overflow: hidden;padding: 0;position: absolute;width: 1px;}#sk-container-id-1 div.sk-estimator {font-family: monospace;background-color: #f0f8ff;border: 1px dotted black;border-radius: 0.25em;box-sizing: border-box;margin-bottom: 0.5em;}#sk-container-id-1 div.sk-estimator:hover {background-color: #d4ebff;}#sk-container-id-1 div.sk-parallel-item::after {content: \"\";width: 100%;border-bottom: 1px solid gray;flex-grow: 1;}#sk-container-id-1 div.sk-label:hover label.sk-toggleable__label {background-color: #d4ebff;}#sk-container-id-1 div.sk-serial::before {content: \"\";position: absolute;border-left: 1px solid gray;box-sizing: border-box;top: 0;bottom: 0;left: 50%;z-index: 0;}#sk-container-id-1 div.sk-serial {display: flex;flex-direction: column;align-items: center;background-color: white;padding-right: 0.2em;padding-left: 0.2em;position: relative;}#sk-container-id-1 div.sk-item {position: relative;z-index: 1;}#sk-container-id-1 div.sk-parallel {display: flex;align-items: stretch;justify-content: center;background-color: white;position: relative;}#sk-container-id-1 div.sk-item::before, #sk-container-id-1 div.sk-parallel-item::before {content: \"\";position: absolute;border-left: 1px solid gray;box-sizing: border-box;top: 0;bottom: 0;left: 50%;z-index: -1;}#sk-container-id-1 div.sk-parallel-item {display: flex;flex-direction: column;z-index: 1;position: relative;background-color: white;}#sk-container-id-1 div.sk-parallel-item:first-child::after {align-self: flex-end;width: 50%;}#sk-container-id-1 div.sk-parallel-item:last-child::after {align-self: flex-start;width: 50%;}#sk-container-id-1 div.sk-parallel-item:only-child::after {width: 0;}#sk-container-id-1 div.sk-dashed-wrapped {border: 1px dashed gray;margin: 0 0.4em 0.5em 0.4em;box-sizing: border-box;padding-bottom: 0.4em;background-color: white;}#sk-container-id-1 div.sk-label label {font-family: monospace;font-weight: bold;display: inline-block;line-height: 1.2em;}#sk-container-id-1 div.sk-label-container {text-align: center;}#sk-container-id-1 div.sk-container {/* jupyter's `normalize.less` sets `[hidden] { display: none; }` but bootstrap.min.css set `[hidden] { display: none !important; }` so we also need the `!important` here to be able to override the default hidden behavior on the sphinx rendered scikit-learn.org. See: https://github.com/scikit-learn/scikit-learn/issues/21755 */display: inline-block !important;position: relative;}#sk-container-id-1 div.sk-text-repr-fallback {display: none;}</style><div id=\"sk-container-id-1\" class=\"sk-top-container\"><div class=\"sk-text-repr-fallback\"><pre>DecisionTreeClassifier(random_state=42)</pre><b>In a Jupyter environment, please rerun this cell to show the HTML representation or trust the notebook. <br />On GitHub, the HTML representation is unable to render, please try loading this page with nbviewer.org.</b></div><div class=\"sk-container\" hidden><div class=\"sk-item\"><div class=\"sk-estimator sk-toggleable\"><input class=\"sk-toggleable__control sk-hidden--visually\" id=\"sk-estimator-id-1\" type=\"checkbox\" checked><label for=\"sk-estimator-id-1\" class=\"sk-toggleable__label sk-toggleable__label-arrow\">DecisionTreeClassifier</label><div class=\"sk-toggleable__content\"><pre>DecisionTreeClassifier(random_state=42)</pre></div></div></div></div></div>"
      ],
      "text/plain": [
       "DecisionTreeClassifier(random_state=42)"
      ]
     },
     "execution_count": 33,
     "metadata": {},
     "output_type": "execute_result"
    }
   ],
   "source": [
    "from sklearn.tree import DecisionTreeClassifier\n",
    "from sklearn.metrics import accuracy_score\n",
    "\n",
    "clf = DecisionTreeClassifier(random_state=42)\n",
    "clf.fit(X_train, y_train)"
   ]
  },
  {
   "cell_type": "markdown",
   "id": "0681c9e2",
   "metadata": {
    "id": "006d5be2",
    "papermill": {
     "duration": 0.033155,
     "end_time": "2023-07-14T18:13:29.505328",
     "exception": false,
     "start_time": "2023-07-14T18:13:29.472173",
     "status": "completed"
    },
    "tags": []
   },
   "source": [
    "### Training Accuracy"
   ]
  },
  {
   "cell_type": "code",
   "execution_count": 34,
   "id": "31de8b91",
   "metadata": {
    "execution": {
     "iopub.execute_input": "2023-07-14T18:13:29.575645Z",
     "iopub.status.busy": "2023-07-14T18:13:29.574581Z",
     "iopub.status.idle": "2023-07-14T18:13:29.644455Z",
     "shell.execute_reply": "2023-07-14T18:13:29.643352Z"
    },
    "id": "23599b15",
    "outputId": "e94c5f35-d8e4-46cc-e108-cc9950a91edb",
    "papermill": {
     "duration": 0.108821,
     "end_time": "2023-07-14T18:13:29.646951",
     "exception": false,
     "start_time": "2023-07-14T18:13:29.538130",
     "status": "completed"
    },
    "tags": []
   },
   "outputs": [
    {
     "data": {
      "text/plain": [
       "0.9574420081556254"
      ]
     },
     "execution_count": 34,
     "metadata": {},
     "output_type": "execute_result"
    }
   ],
   "source": [
    "y_pred = clf.predict(X_train)\n",
    "\n",
    "# calculate the accuracy of the model on training data\n",
    "accuracy = accuracy_score(y_train, y_pred)\n",
    "accuracy"
   ]
  },
  {
   "cell_type": "markdown",
   "id": "2a262a04",
   "metadata": {
    "id": "5b96441a",
    "papermill": {
     "duration": 0.031748,
     "end_time": "2023-07-14T18:13:29.711419",
     "exception": false,
     "start_time": "2023-07-14T18:13:29.679671",
     "status": "completed"
    },
    "tags": []
   },
   "source": [
    "### Testing Accuracy"
   ]
  },
  {
   "cell_type": "code",
   "execution_count": 35,
   "id": "4c3d23b8",
   "metadata": {
    "execution": {
     "iopub.execute_input": "2023-07-14T18:13:29.775980Z",
     "iopub.status.busy": "2023-07-14T18:13:29.775205Z",
     "iopub.status.idle": "2023-07-14T18:13:29.802256Z",
     "shell.execute_reply": "2023-07-14T18:13:29.800848Z"
    },
    "id": "fdcffd15",
    "outputId": "f7df557d-7e70-412e-fea3-ce621603b791",
    "papermill": {
     "duration": 0.062327,
     "end_time": "2023-07-14T18:13:29.804741",
     "exception": false,
     "start_time": "2023-07-14T18:13:29.742414",
     "status": "completed"
    },
    "tags": []
   },
   "outputs": [
    {
     "data": {
      "text/plain": [
       "0.8764623303696771"
      ]
     },
     "execution_count": 35,
     "metadata": {},
     "output_type": "execute_result"
    }
   ],
   "source": [
    "y_pred = clf.predict(X_test)\n",
    "\n",
    "# calculate the accuracy of the model on test data\n",
    "accuracy = accuracy_score(y_test, y_pred)\n",
    "accuracy"
   ]
  },
  {
   "cell_type": "code",
   "execution_count": 36,
   "id": "e59f732d",
   "metadata": {
    "execution": {
     "iopub.execute_input": "2023-07-14T18:13:29.869553Z",
     "iopub.status.busy": "2023-07-14T18:13:29.869177Z",
     "iopub.status.idle": "2023-07-14T18:13:29.891846Z",
     "shell.execute_reply": "2023-07-14T18:13:29.890511Z"
    },
    "id": "e8a58a52",
    "outputId": "83265d23-f579-46ab-c0a5-b845882acd1a",
    "papermill": {
     "duration": 0.058567,
     "end_time": "2023-07-14T18:13:29.894708",
     "exception": false,
     "start_time": "2023-07-14T18:13:29.836141",
     "status": "completed"
    },
    "tags": []
   },
   "outputs": [
    {
     "data": {
      "text/plain": [
       "0.8764623303696771"
      ]
     },
     "execution_count": 36,
     "metadata": {},
     "output_type": "execute_result"
    }
   ],
   "source": [
    "f1_score(y_test, y_pred)"
   ]
  },
  {
   "cell_type": "code",
   "execution_count": 37,
   "id": "f7efdd6c",
   "metadata": {
    "execution": {
     "iopub.execute_input": "2023-07-14T18:13:29.960942Z",
     "iopub.status.busy": "2023-07-14T18:13:29.960112Z",
     "iopub.status.idle": "2023-07-14T18:13:30.094829Z",
     "shell.execute_reply": "2023-07-14T18:13:30.093723Z"
    },
    "id": "8526e89f",
    "outputId": "fe620a24-9187-4efb-f93f-2f4cb43763c2",
    "papermill": {
     "duration": 0.170711,
     "end_time": "2023-07-14T18:13:30.097245",
     "exception": false,
     "start_time": "2023-07-14T18:13:29.926534",
     "status": "completed"
    },
    "tags": []
   },
   "outputs": [
    {
     "data": {
      "text/html": [
       "\n",
       "<style>\n",
       "  #altair-viz-86556f558f184f0ca4a115861d433c2b.vega-embed {\n",
       "    width: 100%;\n",
       "    display: flex;\n",
       "  }\n",
       "\n",
       "  #altair-viz-86556f558f184f0ca4a115861d433c2b.vega-embed details,\n",
       "  #altair-viz-86556f558f184f0ca4a115861d433c2b.vega-embed details summary {\n",
       "    position: relative;\n",
       "  }\n",
       "</style>\n",
       "<div id=\"altair-viz-86556f558f184f0ca4a115861d433c2b\"></div>\n",
       "<script type=\"text/javascript\">\n",
       "  var VEGA_DEBUG = (typeof VEGA_DEBUG == \"undefined\") ? {} : VEGA_DEBUG;\n",
       "  (function(spec, embedOpt){\n",
       "    let outputDiv = document.currentScript.previousElementSibling;\n",
       "    if (outputDiv.id !== \"altair-viz-86556f558f184f0ca4a115861d433c2b\") {\n",
       "      outputDiv = document.getElementById(\"altair-viz-86556f558f184f0ca4a115861d433c2b\");\n",
       "    }\n",
       "    const paths = {\n",
       "      \"vega\": \"https://cdn.jsdelivr.net/npm/vega@5?noext\",\n",
       "      \"vega-lib\": \"https://cdn.jsdelivr.net/npm/vega-lib?noext\",\n",
       "      \"vega-lite\": \"https://cdn.jsdelivr.net/npm/vega-lite@5.8.0?noext\",\n",
       "      \"vega-embed\": \"https://cdn.jsdelivr.net/npm/vega-embed@6?noext\",\n",
       "    };\n",
       "\n",
       "    function maybeLoadScript(lib, version) {\n",
       "      var key = `${lib.replace(\"-\", \"\")}_version`;\n",
       "      return (VEGA_DEBUG[key] == version) ?\n",
       "        Promise.resolve(paths[lib]) :\n",
       "        new Promise(function(resolve, reject) {\n",
       "          var s = document.createElement('script');\n",
       "          document.getElementsByTagName(\"head\")[0].appendChild(s);\n",
       "          s.async = true;\n",
       "          s.onload = () => {\n",
       "            VEGA_DEBUG[key] = version;\n",
       "            return resolve(paths[lib]);\n",
       "          };\n",
       "          s.onerror = () => reject(`Error loading script: ${paths[lib]}`);\n",
       "          s.src = paths[lib];\n",
       "        });\n",
       "    }\n",
       "\n",
       "    function showError(err) {\n",
       "      outputDiv.innerHTML = `<div class=\"error\" style=\"color:red;\">${err}</div>`;\n",
       "      throw err;\n",
       "    }\n",
       "\n",
       "    function displayChart(vegaEmbed) {\n",
       "      vegaEmbed(outputDiv, spec, embedOpt)\n",
       "        .catch(err => showError(`Javascript Error: ${err.message}<br>This usually means there's a typo in your chart specification. See the javascript console for the full traceback.`));\n",
       "    }\n",
       "\n",
       "    if(typeof define === \"function\" && define.amd) {\n",
       "      requirejs.config({paths});\n",
       "      require([\"vega-embed\"], displayChart, err => showError(`Error loading script: ${err.message}`));\n",
       "    } else {\n",
       "      maybeLoadScript(\"vega\", \"5\")\n",
       "        .then(() => maybeLoadScript(\"vega-lite\", \"5.8.0\"))\n",
       "        .then(() => maybeLoadScript(\"vega-embed\", \"6\"))\n",
       "        .catch(showError)\n",
       "        .then(() => displayChart(vegaEmbed));\n",
       "    }\n",
       "  })({\"config\": {\"view\": {\"continuousWidth\": 300, \"continuousHeight\": 300}}, \"layer\": [{\"mark\": {\"type\": \"rect\"}, \"encoding\": {\"color\": {\"field\": \"%\", \"scale\": {\"scheme\": \"reds\"}, \"type\": \"quantitative\"}, \"x\": {\"field\": \"Predicted\", \"sort\": [0, 1], \"type\": \"nominal\"}, \"y\": {\"field\": \"Actual\", \"sort\": [0.0, 1.0], \"type\": \"nominal\"}}}, {\"mark\": {\"type\": \"text\", \"baseline\": \"middle\"}, \"encoding\": {\"color\": {\"condition\": {\"test\": \"(datum.Count > 0.21911558259241928)\", \"value\": \"white\"}, \"value\": \"black\"}, \"text\": {\"field\": \"%\", \"format\": \".2%\", \"type\": \"quantitative\"}, \"x\": {\"field\": \"Predicted\", \"sort\": [0, 1], \"type\": \"nominal\"}, \"y\": {\"field\": \"Actual\", \"sort\": [0.0, 1.0], \"type\": \"nominal\"}}}], \"data\": {\"name\": \"data-1f5254c5b5308e4ee765a2381fd5cb55\"}, \"height\": 300, \"width\": 300, \"$schema\": \"https://vega.github.io/schema/vega-lite/v5.8.0.json\", \"datasets\": {\"data-1f5254c5b5308e4ee765a2381fd5cb55\": [{\"Actual\": 0, \"Predicted\": 0, \"%\": 0.43823116518483857}, {\"Actual\": 1, \"Predicted\": 0, \"%\": 0.062169931145130024}, {\"Actual\": 0, \"Predicted\": 1, \"%\": 0.06136773848519286}, {\"Actual\": 1, \"Predicted\": 1, \"%\": 0.43823116518483857}]}}, {\"mode\": \"vega-lite\"});\n",
       "</script>"
      ],
      "text/plain": [
       "alt.LayerChart(...)"
      ]
     },
     "execution_count": 37,
     "metadata": {},
     "output_type": "execute_result"
    }
   ],
   "source": [
    "draw_matrix(y_test, y_pred)"
   ]
  },
  {
   "cell_type": "code",
   "execution_count": 38,
   "id": "d94f36de",
   "metadata": {
    "execution": {
     "iopub.execute_input": "2023-07-14T18:13:30.163477Z",
     "iopub.status.busy": "2023-07-14T18:13:30.162860Z",
     "iopub.status.idle": "2023-07-14T18:13:30.467474Z",
     "shell.execute_reply": "2023-07-14T18:13:30.466553Z"
    },
    "id": "f6727fb4",
    "outputId": "ab101ee0-fc39-4cc2-ab79-10f26ac8cb73",
    "papermill": {
     "duration": 0.341945,
     "end_time": "2023-07-14T18:13:30.470514",
     "exception": false,
     "start_time": "2023-07-14T18:13:30.128569",
     "status": "completed"
    },
    "tags": []
   },
   "outputs": [
    {
     "data": {
      "image/png": "[encoded data removed]",
      "text/plain": [
       "<Figure size 640x480 with 1 Axes>"
      ]
     },
     "metadata": {},
     "output_type": "display_data"
    }
   ],
   "source": [
    "roc(clf, \"Decision Tree\")"
   ]
  },
  {
   "cell_type": "code",
   "execution_count": 39,
   "id": "db4089df",
   "metadata": {
    "execution": {
     "iopub.execute_input": "2023-07-14T18:13:30.538250Z",
     "iopub.status.busy": "2023-07-14T18:13:30.537260Z",
     "iopub.status.idle": "2023-07-14T18:13:30.606482Z",
     "shell.execute_reply": "2023-07-14T18:13:30.604738Z"
    },
    "id": "c25225ec",
    "outputId": "263dd9dc-ab0d-4453-c6be-7ee0f1673304",
    "papermill": {
     "duration": 0.10578,
     "end_time": "2023-07-14T18:13:30.608979",
     "exception": false,
     "start_time": "2023-07-14T18:13:30.503199",
     "status": "completed"
    },
    "tags": []
   },
   "outputs": [
    {
     "name": "stdout",
     "output_type": "stream",
     "text": [
      "              precision    recall  f1-score   support\n",
      "\n",
      "           0       0.88      0.88      0.88     14947\n",
      "           1       0.88      0.88      0.88     14971\n",
      "\n",
      "    accuracy                           0.88     29918\n",
      "   macro avg       0.88      0.88      0.88     29918\n",
      "weighted avg       0.88      0.88      0.88     29918\n",
      "\n"
     ]
    }
   ],
   "source": [
    "print(classification_report(y_test, y_pred))"
   ]
  },
  {
   "cell_type": "markdown",
   "id": "80a93268",
   "metadata": {
    "id": "de210efd",
    "papermill": {
     "duration": 0.03185,
     "end_time": "2023-07-14T18:13:30.673078",
     "exception": false,
     "start_time": "2023-07-14T18:13:30.641228",
     "status": "completed"
    },
    "tags": []
   },
   "source": [
    "## Calculating Feature Importance"
   ]
  },
  {
   "cell_type": "code",
   "execution_count": 40,
   "id": "86c340d1",
   "metadata": {
    "execution": {
     "iopub.execute_input": "2023-07-14T18:13:30.739366Z",
     "iopub.status.busy": "2023-07-14T18:13:30.738908Z",
     "iopub.status.idle": "2023-07-14T18:13:30.750749Z",
     "shell.execute_reply": "2023-07-14T18:13:30.749485Z"
    },
    "id": "91f114bb",
    "outputId": "6b37f935-d1df-4006-dac2-4042a18de32b",
    "papermill": {
     "duration": 0.048109,
     "end_time": "2023-07-14T18:13:30.753348",
     "exception": false,
     "start_time": "2023-07-14T18:13:30.705239",
     "status": "completed"
    },
    "scrolled": true,
    "tags": []
   },
   "outputs": [
    {
     "name": "stdout",
     "output_type": "stream",
     "text": [
      "USMER - Score: 0.01599\n",
      "SEX - Score: 0.00976\n",
      "PATIENT_TYPE - Score: 0.68990\n",
      "PNEUMONIA - Score: 0.06472\n",
      "AGE - Score: 0.10119\n",
      "DIABETES - Score: 0.01175\n",
      "COPD - Score: 0.00414\n",
      "HIPERTENSION - Score: 0.01350\n",
      "OTHER_DISEASE - Score: 0.00518\n",
      "CARDIOVASCULAR - Score: 0.00558\n",
      "OBESITY - Score: 0.01269\n",
      "RENAL_CHRONIC - Score: 0.00613\n",
      "DIED - Score: 0.00000\n",
      "MEDICAL_UNIT_1 - Score: 0.00001\n",
      "MEDICAL_UNIT_2 - Score: 0.00207\n",
      "MEDICAL_UNIT_3 - Score: 0.00806\n",
      "MEDICAL_UNIT_4 - Score: 0.00111\n",
      "MEDICAL_UNIT_5 - Score: 0.00321\n",
      "MEDICAL_UNIT_6 - Score: 0.00025\n",
      "MEDICAL_UNIT_7 - Score: 0.00111\n",
      "MEDICAL_UNIT_8 - Score: 0.00435\n",
      "MEDICAL_UNIT_9 - Score: 0.00294\n",
      "MEDICAL_UNIT_10 - Score: 0.00072\n",
      "MEDICAL_UNIT_11 - Score: 0.01260\n",
      "MEDICAL_UNIT_12 - Score: 0.00016\n",
      "MEDICAL_UNIT_13 - Score: 0.00095\n",
      "CLASIFFICATION_FINAL_1 - Score: 0.00179\n",
      "CLASIFFICATION_FINAL_2 - Score: 0.00474\n",
      "CLASIFFICATION_FINAL_3 - Score: 0.00024\n",
      "CLASIFFICATION_FINAL_4 - Score: 0.00188\n",
      "CLASIFFICATION_FINAL_5 - Score: 0.00368\n",
      "CLASIFFICATION_FINAL_6 - Score: 0.00960\n"
     ]
    },
    {
     "data": {
      "text/plain": [
       "array([1.59893619e-02, 9.75548098e-03, 6.89899446e-01, 6.47167477e-02,\n",
       "       1.01189592e-01, 1.17514417e-02, 4.14412686e-03, 1.34991096e-02,\n",
       "       5.17677601e-03, 5.58476617e-03, 1.26943143e-02, 6.12626146e-03,\n",
       "       0.00000000e+00, 1.40681617e-05, 2.06978371e-03, 8.05557533e-03,\n",
       "       1.11471715e-03, 3.21033255e-03, 2.54125446e-04, 1.10992992e-03,\n",
       "       4.35346902e-03, 2.93808621e-03, 7.21768472e-04, 1.25983603e-02,\n",
       "       1.64664265e-04, 9.50440836e-04, 1.78646884e-03, 4.73767544e-03,\n",
       "       2.39943979e-04, 1.87651491e-03, 3.67554060e-03, 9.60110998e-03])"
      ]
     },
     "execution_count": 40,
     "metadata": {},
     "output_type": "execute_result"
    }
   ],
   "source": [
    "importance = clf.feature_importances_\n",
    "\n",
    "for i,v in enumerate(importance):\n",
    " print('%0s - Score: %.5f' % (df.columns.values.tolist()[i],v))\n",
    "\n",
    "importance"
   ]
  },
  {
   "cell_type": "code",
   "execution_count": 41,
   "id": "2b718547",
   "metadata": {
    "execution": {
     "iopub.execute_input": "2023-07-14T18:13:30.823873Z",
     "iopub.status.busy": "2023-07-14T18:13:30.822430Z",
     "iopub.status.idle": "2023-07-14T18:13:30.921827Z",
     "shell.execute_reply": "2023-07-14T18:13:30.920638Z"
    },
    "id": "29b4afd5",
    "outputId": "5dfb362b-5a78-4a9e-a9fd-5300a1d777c7",
    "papermill": {
     "duration": 0.138257,
     "end_time": "2023-07-14T18:13:30.924358",
     "exception": false,
     "start_time": "2023-07-14T18:13:30.786101",
     "status": "completed"
    },
    "tags": []
   },
   "outputs": [
    {
     "data": {
      "text/html": [
       "\n",
       "<style>\n",
       "  #altair-viz-b245ed5b68b341b798ac40f9b580a565.vega-embed {\n",
       "    width: 100%;\n",
       "    display: flex;\n",
       "  }\n",
       "\n",
       "  #altair-viz-b245ed5b68b341b798ac40f9b580a565.vega-embed details,\n",
       "  #altair-viz-b245ed5b68b341b798ac40f9b580a565.vega-embed details summary {\n",
       "    position: relative;\n",
       "  }\n",
       "</style>\n",
       "<div id=\"altair-viz-b245ed5b68b341b798ac40f9b580a565\"></div>\n",
       "<script type=\"text/javascript\">\n",
       "  var VEGA_DEBUG = (typeof VEGA_DEBUG == \"undefined\") ? {} : VEGA_DEBUG;\n",
       "  (function(spec, embedOpt){\n",
       "    let outputDiv = document.currentScript.previousElementSibling;\n",
       "    if (outputDiv.id !== \"altair-viz-b245ed5b68b341b798ac40f9b580a565\") {\n",
       "      outputDiv = document.getElementById(\"altair-viz-b245ed5b68b341b798ac40f9b580a565\");\n",
       "    }\n",
       "    const paths = {\n",
       "      \"vega\": \"https://cdn.jsdelivr.net/npm/vega@5?noext\",\n",
       "      \"vega-lib\": \"https://cdn.jsdelivr.net/npm/vega-lib?noext\",\n",
       "      \"vega-lite\": \"https://cdn.jsdelivr.net/npm/vega-lite@5.8.0?noext\",\n",
       "      \"vega-embed\": \"https://cdn.jsdelivr.net/npm/vega-embed@6?noext\",\n",
       "    };\n",
       "\n",
       "    function maybeLoadScript(lib, version) {\n",
       "      var key = `${lib.replace(\"-\", \"\")}_version`;\n",
       "      return (VEGA_DEBUG[key] == version) ?\n",
       "        Promise.resolve(paths[lib]) :\n",
       "        new Promise(function(resolve, reject) {\n",
       "          var s = document.createElement('script');\n",
       "          document.getElementsByTagName(\"head\")[0].appendChild(s);\n",
       "          s.async = true;\n",
       "          s.onload = () => {\n",
       "            VEGA_DEBUG[key] = version;\n",
       "            return resolve(paths[lib]);\n",
       "          };\n",
       "          s.onerror = () => reject(`Error loading script: ${paths[lib]}`);\n",
       "          s.src = paths[lib];\n",
       "        });\n",
       "    }\n",
       "\n",
       "    function showError(err) {\n",
       "      outputDiv.innerHTML = `<div class=\"error\" style=\"color:red;\">${err}</div>`;\n",
       "      throw err;\n",
       "    }\n",
       "\n",
       "    function displayChart(vegaEmbed) {\n",
       "      vegaEmbed(outputDiv, spec, embedOpt)\n",
       "        .catch(err => showError(`Javascript Error: ${err.message}<br>This usually means there's a typo in your chart specification. See the javascript console for the full traceback.`));\n",
       "    }\n",
       "\n",
       "    if(typeof define === \"function\" && define.amd) {\n",
       "      requirejs.config({paths});\n",
       "      require([\"vega-embed\"], displayChart, err => showError(`Error loading script: ${err.message}`));\n",
       "    } else {\n",
       "      maybeLoadScript(\"vega\", \"5\")\n",
       "        .then(() => maybeLoadScript(\"vega-lite\", \"5.8.0\"))\n",
       "        .then(() => maybeLoadScript(\"vega-embed\", \"6\"))\n",
       "        .catch(showError)\n",
       "        .then(() => displayChart(vegaEmbed));\n",
       "    }\n",
       "  })({\"config\": {\"view\": {\"continuousWidth\": 300, \"continuousHeight\": 300}}, \"data\": {\"name\": \"data-0248c95e48be8a65c4ca4b169b691567\"}, \"mark\": {\"type\": \"bar\"}, \"encoding\": {\"color\": {\"field\": \"importance\", \"scale\": {\"scheme\": \"greens\"}, \"type\": \"quantitative\"}, \"tooltip\": [{\"field\": \"features\", \"type\": \"nominal\"}, {\"field\": \"importance\", \"type\": \"quantitative\"}], \"x\": {\"field\": \"importance\", \"type\": \"quantitative\"}, \"y\": {\"field\": \"features\", \"sort\": \"-x\", \"type\": \"nominal\"}}, \"title\": \"Feature Importances\", \"$schema\": \"https://vega.github.io/schema/vega-lite/v5.8.0.json\", \"datasets\": {\"data-0248c95e48be8a65c4ca4b169b691567\": [{\"features\": \"USMER\", \"importance\": 0.01598936188023244}, {\"features\": \"SEX\", \"importance\": 0.009755480975123607}, {\"features\": \"PATIENT_TYPE\", \"importance\": 0.6898994462282277}, {\"features\": \"PNEUMONIA\", \"importance\": 0.06471674771268743}, {\"features\": \"AGE\", \"importance\": 0.1011895919792347}, {\"features\": \"DIABETES\", \"importance\": 0.01175144173031025}, {\"features\": \"COPD\", \"importance\": 0.004144126857392985}, {\"features\": \"HIPERTENSION\", \"importance\": 0.013499109576225953}, {\"features\": \"OTHER_DISEASE\", \"importance\": 0.005176776010935951}, {\"features\": \"CARDIOVASCULAR\", \"importance\": 0.0055847661726552604}, {\"features\": \"OBESITY\", \"importance\": 0.012694314289209797}, {\"features\": \"RENAL_CHRONIC\", \"importance\": 0.006126261460387561}, {\"features\": \"MEDICAL_UNIT_1\", \"importance\": 0.0}, {\"features\": \"MEDICAL_UNIT_2\", \"importance\": 1.4068161657295987e-05}, {\"features\": \"MEDICAL_UNIT_3\", \"importance\": 0.002069783713129146}, {\"features\": \"MEDICAL_UNIT_4\", \"importance\": 0.00805557532697749}, {\"features\": \"MEDICAL_UNIT_5\", \"importance\": 0.0011147171468401215}, {\"features\": \"MEDICAL_UNIT_6\", \"importance\": 0.0032103325492655573}, {\"features\": \"MEDICAL_UNIT_7\", \"importance\": 0.00025412544589313037}, {\"features\": \"MEDICAL_UNIT_8\", \"importance\": 0.0011099299215282508}, {\"features\": \"MEDICAL_UNIT_9\", \"importance\": 0.004353469017639002}, {\"features\": \"MEDICAL_UNIT_10\", \"importance\": 0.00293808620970218}, {\"features\": \"MEDICAL_UNIT_11\", \"importance\": 0.0007217684715621937}, {\"features\": \"MEDICAL_UNIT_12\", \"importance\": 0.012598360320524402}, {\"features\": \"MEDICAL_UNIT_13\", \"importance\": 0.00016466426450781257}, {\"features\": \"CLASIFFICATION_FINAL_1\", \"importance\": 0.0009504408360326353}, {\"features\": \"CLASIFFICATION_FINAL_2\", \"importance\": 0.001786468841932403}, {\"features\": \"CLASIFFICATION_FINAL_3\", \"importance\": 0.004737675435965992}, {\"features\": \"CLASIFFICATION_FINAL_4\", \"importance\": 0.0002399439789637668}, {\"features\": \"CLASIFFICATION_FINAL_5\", \"importance\": 0.001876514905678761}, {\"features\": \"CLASIFFICATION_FINAL_6\", \"importance\": 0.0036755406041417064}, {\"features\": \"CLASIFFICATION_FINAL_7\", \"importance\": 0.009601109975434518}]}}, {\"mode\": \"vega-lite\"});\n",
       "</script>"
      ],
      "text/plain": [
       "alt.Chart(...)"
      ]
     },
     "execution_count": 41,
     "metadata": {},
     "output_type": "execute_result"
    }
   ],
   "source": [
    "data = {'features': X.columns.values.tolist(), 'importance': clf.feature_importances_}\n",
    "\n",
    "importance_df = pd.DataFrame(data)\n",
    "\n",
    "importance_df\n",
    "chart = alt.Chart(importance_df).mark_bar().encode(\n",
    "    x='importance:Q',\n",
    "    y=alt.Y('features:N', sort='-x'),\n",
    "    color=alt.Color('importance:Q', scale=alt.Scale(scheme='greens')),\n",
    "    tooltip=['features', 'importance'],\n",
    ").properties(\n",
    "    title='Feature Importances'\n",
    ")\n",
    "\n",
    "chart"
   ]
  },
  {
   "cell_type": "markdown",
   "id": "351eeeb7",
   "metadata": {
    "id": "107652e4",
    "papermill": {
     "duration": 0.035339,
     "end_time": "2023-07-14T18:13:30.992754",
     "exception": false,
     "start_time": "2023-07-14T18:13:30.957415",
     "status": "completed"
    },
    "tags": []
   },
   "source": [
    "## Random Forest"
   ]
  },
  {
   "cell_type": "code",
   "execution_count": 42,
   "id": "124a6143",
   "metadata": {
    "execution": {
     "iopub.execute_input": "2023-07-14T18:13:31.065118Z",
     "iopub.status.busy": "2023-07-14T18:13:31.063717Z",
     "iopub.status.idle": "2023-07-14T18:13:34.004923Z",
     "shell.execute_reply": "2023-07-14T18:13:34.003607Z"
    },
    "id": "848e9028",
    "outputId": "8f816799-0e51-41db-c888-2680ca403c58",
    "papermill": {
     "duration": 2.980663,
     "end_time": "2023-07-14T18:13:34.007975",
     "exception": false,
     "start_time": "2023-07-14T18:13:31.027312",
     "status": "completed"
    },
    "tags": []
   },
   "outputs": [
    {
     "data": {
      "text/html": [
       "<style>#sk-container-id-2 {color: black;background-color: white;}#sk-container-id-2 pre{padding: 0;}#sk-container-id-2 div.sk-toggleable {background-color: white;}#sk-container-id-2 label.sk-toggleable__label {cursor: pointer;display: block;width: 100%;margin-bottom: 0;padding: 0.3em;box-sizing: border-box;text-align: center;}#sk-container-id-2 label.sk-toggleable__label-arrow:before {content: \"▸\";float: left;margin-right: 0.25em;color: #696969;}#sk-container-id-2 label.sk-toggleable__label-arrow:hover:before {color: black;}#sk-container-id-2 div.sk-estimator:hover label.sk-toggleable__label-arrow:before {color: black;}#sk-container-id-2 div.sk-toggleable__content {max-height: 0;max-width: 0;overflow: hidden;text-align: left;background-color: #f0f8ff;}#sk-container-id-2 div.sk-toggleable__content pre {margin: 0.2em;color: black;border-radius: 0.25em;background-color: #f0f8ff;}#sk-container-id-2 input.sk-toggleable__control:checked~div.sk-toggleable__content {max-height: 200px;max-width: 100%;overflow: auto;}#sk-container-id-2 input.sk-toggleable__control:checked~label.sk-toggleable__label-arrow:before {content: \"▾\";}#sk-container-id-2 div.sk-estimator input.sk-toggleable__control:checked~label.sk-toggleable__label {background-color: #d4ebff;}#sk-container-id-2 div.sk-label input.sk-toggleable__control:checked~label.sk-toggleable__label {background-color: #d4ebff;}#sk-container-id-2 input.sk-hidden--visually {border: 0;clip: rect(1px 1px 1px 1px);clip: rect(1px, 1px, 1px, 1px);height: 1px;margin: -1px;overflow: hidden;padding: 0;position: absolute;width: 1px;}#sk-container-id-2 div.sk-estimator {font-family: monospace;background-color: #f0f8ff;border: 1px dotted black;border-radius: 0.25em;box-sizing: border-box;margin-bottom: 0.5em;}#sk-container-id-2 div.sk-estimator:hover {background-color: #d4ebff;}#sk-container-id-2 div.sk-parallel-item::after {content: \"\";width: 100%;border-bottom: 1px solid gray;flex-grow: 1;}#sk-container-id-2 div.sk-label:hover label.sk-toggleable__label {background-color: #d4ebff;}#sk-container-id-2 div.sk-serial::before {content: \"\";position: absolute;border-left: 1px solid gray;box-sizing: border-box;top: 0;bottom: 0;left: 50%;z-index: 0;}#sk-container-id-2 div.sk-serial {display: flex;flex-direction: column;align-items: center;background-color: white;padding-right: 0.2em;padding-left: 0.2em;position: relative;}#sk-container-id-2 div.sk-item {position: relative;z-index: 1;}#sk-container-id-2 div.sk-parallel {display: flex;align-items: stretch;justify-content: center;background-color: white;position: relative;}#sk-container-id-2 div.sk-item::before, #sk-container-id-2 div.sk-parallel-item::before {content: \"\";position: absolute;border-left: 1px solid gray;box-sizing: border-box;top: 0;bottom: 0;left: 50%;z-index: -1;}#sk-container-id-2 div.sk-parallel-item {display: flex;flex-direction: column;z-index: 1;position: relative;background-color: white;}#sk-container-id-2 div.sk-parallel-item:first-child::after {align-self: flex-end;width: 50%;}#sk-container-id-2 div.sk-parallel-item:last-child::after {align-self: flex-start;width: 50%;}#sk-container-id-2 div.sk-parallel-item:only-child::after {width: 0;}#sk-container-id-2 div.sk-dashed-wrapped {border: 1px dashed gray;margin: 0 0.4em 0.5em 0.4em;box-sizing: border-box;padding-bottom: 0.4em;background-color: white;}#sk-container-id-2 div.sk-label label {font-family: monospace;font-weight: bold;display: inline-block;line-height: 1.2em;}#sk-container-id-2 div.sk-label-container {text-align: center;}#sk-container-id-2 div.sk-container {/* jupyter's `normalize.less` sets `[hidden] { display: none; }` but bootstrap.min.css set `[hidden] { display: none !important; }` so we also need the `!important` here to be able to override the default hidden behavior on the sphinx rendered scikit-learn.org. See: https://github.com/scikit-learn/scikit-learn/issues/21755 */display: inline-block !important;position: relative;}#sk-container-id-2 div.sk-text-repr-fallback {display: none;}</style><div id=\"sk-container-id-2\" class=\"sk-top-container\"><div class=\"sk-text-repr-fallback\"><pre>RandomForestClassifier(max_depth=2, random_state=42)</pre><b>In a Jupyter environment, please rerun this cell to show the HTML representation or trust the notebook. <br />On GitHub, the HTML representation is unable to render, please try loading this page with nbviewer.org.</b></div><div class=\"sk-container\" hidden><div class=\"sk-item\"><div class=\"sk-estimator sk-toggleable\"><input class=\"sk-toggleable__control sk-hidden--visually\" id=\"sk-estimator-id-2\" type=\"checkbox\" checked><label for=\"sk-estimator-id-2\" class=\"sk-toggleable__label sk-toggleable__label-arrow\">RandomForestClassifier</label><div class=\"sk-toggleable__content\"><pre>RandomForestClassifier(max_depth=2, random_state=42)</pre></div></div></div></div></div>"
      ],
      "text/plain": [
       "RandomForestClassifier(max_depth=2, random_state=42)"
      ]
     },
     "execution_count": 42,
     "metadata": {},
     "output_type": "execute_result"
    }
   ],
   "source": [
    "from sklearn.ensemble import RandomForestClassifier\n",
    "from sklearn.metrics import accuracy_score\n",
    "\n",
    "clf = RandomForestClassifier(max_depth=2, random_state=42)\n",
    "clf.fit(X_train, y_train)"
   ]
  },
  {
   "cell_type": "markdown",
   "id": "0fa34081",
   "metadata": {
    "id": "fb491c01",
    "papermill": {
     "duration": 0.0365,
     "end_time": "2023-07-14T18:13:34.080719",
     "exception": false,
     "start_time": "2023-07-14T18:13:34.044219",
     "status": "completed"
    },
    "tags": []
   },
   "source": [
    "### Training Accuracy"
   ]
  },
  {
   "cell_type": "code",
   "execution_count": 43,
   "id": "c5e0d24c",
   "metadata": {
    "execution": {
     "iopub.execute_input": "2023-07-14T18:13:34.156558Z",
     "iopub.status.busy": "2023-07-14T18:13:34.156117Z",
     "iopub.status.idle": "2023-07-14T18:13:34.892579Z",
     "shell.execute_reply": "2023-07-14T18:13:34.891194Z"
    },
    "id": "a44397ab",
    "outputId": "9a80e303-5edf-4ca4-b834-5f8881b9daca",
    "papermill": {
     "duration": 0.777853,
     "end_time": "2023-07-14T18:13:34.895332",
     "exception": false,
     "start_time": "2023-07-14T18:13:34.117479",
     "status": "completed"
    },
    "tags": []
   },
   "outputs": [
    {
     "data": {
      "text/plain": [
       "0.9083829132963434"
      ]
     },
     "execution_count": 43,
     "metadata": {},
     "output_type": "execute_result"
    }
   ],
   "source": [
    "y_pred = clf.predict(X_train)\n",
    "\n",
    "# calculate the accuracy of the model\n",
    "accuracy = accuracy_score(y_train, y_pred)\n",
    "accuracy"
   ]
  },
  {
   "cell_type": "markdown",
   "id": "a4d41a09",
   "metadata": {
    "id": "699c46c3",
    "papermill": {
     "duration": 0.033096,
     "end_time": "2023-07-14T18:13:34.963448",
     "exception": false,
     "start_time": "2023-07-14T18:13:34.930352",
     "status": "completed"
    },
    "tags": []
   },
   "source": [
    "### Testing Accuracy"
   ]
  },
  {
   "cell_type": "code",
   "execution_count": 44,
   "id": "ac0150a9",
   "metadata": {
    "execution": {
     "iopub.execute_input": "2023-07-14T18:13:35.033410Z",
     "iopub.status.busy": "2023-07-14T18:13:35.032650Z",
     "iopub.status.idle": "2023-07-14T18:13:35.249538Z",
     "shell.execute_reply": "2023-07-14T18:13:35.248228Z"
    },
    "id": "8f4da9b9",
    "outputId": "e7c4e644-6f65-4cbd-eb70-69c6e2e7a265",
    "papermill": {
     "duration": 0.255731,
     "end_time": "2023-07-14T18:13:35.252289",
     "exception": false,
     "start_time": "2023-07-14T18:13:34.996558",
     "status": "completed"
    },
    "tags": []
   },
   "outputs": [
    {
     "data": {
      "text/plain": [
       "0.9080152416605388"
      ]
     },
     "execution_count": 44,
     "metadata": {},
     "output_type": "execute_result"
    }
   ],
   "source": [
    "y_pred = clf.predict(X_test)\n",
    "\n",
    "# calculate the accuracy of the model\n",
    "accuracy = accuracy_score(y_test, y_pred)\n",
    "accuracy"
   ]
  },
  {
   "cell_type": "code",
   "execution_count": 45,
   "id": "d8096203",
   "metadata": {
    "execution": {
     "iopub.execute_input": "2023-07-14T18:13:35.323055Z",
     "iopub.status.busy": "2023-07-14T18:13:35.322494Z",
     "iopub.status.idle": "2023-07-14T18:13:35.347238Z",
     "shell.execute_reply": "2023-07-14T18:13:35.345858Z"
    },
    "id": "a0f98d47",
    "outputId": "b7d9288c-48ce-40e7-cc0f-61be54190067",
    "papermill": {
     "duration": 0.06278,
     "end_time": "2023-07-14T18:13:35.349688",
     "exception": false,
     "start_time": "2023-07-14T18:13:35.286908",
     "status": "completed"
    },
    "tags": []
   },
   "outputs": [
    {
     "data": {
      "text/plain": [
       "0.9105389766595149"
      ]
     },
     "execution_count": 45,
     "metadata": {},
     "output_type": "execute_result"
    }
   ],
   "source": [
    "f1_score(y_test, y_pred)"
   ]
  },
  {
   "cell_type": "code",
   "execution_count": 46,
   "id": "5f8427d7",
   "metadata": {
    "execution": {
     "iopub.execute_input": "2023-07-14T18:13:35.420162Z",
     "iopub.status.busy": "2023-07-14T18:13:35.419032Z",
     "iopub.status.idle": "2023-07-14T18:13:35.565235Z",
     "shell.execute_reply": "2023-07-14T18:13:35.563736Z"
    },
    "id": "2fa9e0a6",
    "outputId": "bbf25f9d-098a-4a44-b262-3e6c2e5c6e70",
    "papermill": {
     "duration": 0.184609,
     "end_time": "2023-07-14T18:13:35.567870",
     "exception": false,
     "start_time": "2023-07-14T18:13:35.383261",
     "status": "completed"
    },
    "tags": []
   },
   "outputs": [
    {
     "data": {
      "text/html": [
       "\n",
       "<style>\n",
       "  #altair-viz-f06031317d994139970473430ac11464.vega-embed {\n",
       "    width: 100%;\n",
       "    display: flex;\n",
       "  }\n",
       "\n",
       "  #altair-viz-f06031317d994139970473430ac11464.vega-embed details,\n",
       "  #altair-viz-f06031317d994139970473430ac11464.vega-embed details summary {\n",
       "    position: relative;\n",
       "  }\n",
       "</style>\n",
       "<div id=\"altair-viz-f06031317d994139970473430ac11464\"></div>\n",
       "<script type=\"text/javascript\">\n",
       "  var VEGA_DEBUG = (typeof VEGA_DEBUG == \"undefined\") ? {} : VEGA_DEBUG;\n",
       "  (function(spec, embedOpt){\n",
       "    let outputDiv = document.currentScript.previousElementSibling;\n",
       "    if (outputDiv.id !== \"altair-viz-f06031317d994139970473430ac11464\") {\n",
       "      outputDiv = document.getElementById(\"altair-viz-f06031317d994139970473430ac11464\");\n",
       "    }\n",
       "    const paths = {\n",
       "      \"vega\": \"https://cdn.jsdelivr.net/npm/vega@5?noext\",\n",
       "      \"vega-lib\": \"https://cdn.jsdelivr.net/npm/vega-lib?noext\",\n",
       "      \"vega-lite\": \"https://cdn.jsdelivr.net/npm/vega-lite@5.8.0?noext\",\n",
       "      \"vega-embed\": \"https://cdn.jsdelivr.net/npm/vega-embed@6?noext\",\n",
       "    };\n",
       "\n",
       "    function maybeLoadScript(lib, version) {\n",
       "      var key = `${lib.replace(\"-\", \"\")}_version`;\n",
       "      return (VEGA_DEBUG[key] == version) ?\n",
       "        Promise.resolve(paths[lib]) :\n",
       "        new Promise(function(resolve, reject) {\n",
       "          var s = document.createElement('script');\n",
       "          document.getElementsByTagName(\"head\")[0].appendChild(s);\n",
       "          s.async = true;\n",
       "          s.onload = () => {\n",
       "            VEGA_DEBUG[key] = version;\n",
       "            return resolve(paths[lib]);\n",
       "          };\n",
       "          s.onerror = () => reject(`Error loading script: ${paths[lib]}`);\n",
       "          s.src = paths[lib];\n",
       "        });\n",
       "    }\n",
       "\n",
       "    function showError(err) {\n",
       "      outputDiv.innerHTML = `<div class=\"error\" style=\"color:red;\">${err}</div>`;\n",
       "      throw err;\n",
       "    }\n",
       "\n",
       "    function displayChart(vegaEmbed) {\n",
       "      vegaEmbed(outputDiv, spec, embedOpt)\n",
       "        .catch(err => showError(`Javascript Error: ${err.message}<br>This usually means there's a typo in your chart specification. See the javascript console for the full traceback.`));\n",
       "    }\n",
       "\n",
       "    if(typeof define === \"function\" && define.amd) {\n",
       "      requirejs.config({paths});\n",
       "      require([\"vega-embed\"], displayChart, err => showError(`Error loading script: ${err.message}`));\n",
       "    } else {\n",
       "      maybeLoadScript(\"vega\", \"5\")\n",
       "        .then(() => maybeLoadScript(\"vega-lite\", \"5.8.0\"))\n",
       "        .then(() => maybeLoadScript(\"vega-embed\", \"6\"))\n",
       "        .catch(showError)\n",
       "        .then(() => displayChart(vegaEmbed));\n",
       "    }\n",
       "  })({\"config\": {\"view\": {\"continuousWidth\": 300, \"continuousHeight\": 300}}, \"layer\": [{\"mark\": {\"type\": \"rect\"}, \"encoding\": {\"color\": {\"field\": \"%\", \"scale\": {\"scheme\": \"reds\"}, \"type\": \"quantitative\"}, \"x\": {\"field\": \"Predicted\", \"sort\": [0, 1], \"type\": \"nominal\"}, \"y\": {\"field\": \"Actual\", \"sort\": [0.0, 1.0], \"type\": \"nominal\"}}}, {\"mark\": {\"type\": \"text\", \"baseline\": \"middle\"}, \"encoding\": {\"color\": {\"condition\": {\"test\": \"(datum.Count > 0.23405642088374892)\", \"value\": \"white\"}, \"value\": \"black\"}, \"text\": {\"field\": \"%\", \"format\": \".2%\", \"type\": \"quantitative\"}, \"x\": {\"field\": \"Predicted\", \"sort\": [0, 1], \"type\": \"nominal\"}, \"y\": {\"field\": \"Actual\", \"sort\": [0.0, 1.0], \"type\": \"nominal\"}}}], \"data\": {\"name\": \"data-05b758fe64f002a79dba4e5d2bbf4550\"}, \"height\": 300, \"width\": 300, \"$schema\": \"https://vega.github.io/schema/vega-lite/v5.8.0.json\", \"datasets\": {\"data-05b758fe64f002a79dba4e5d2bbf4550\": [{\"Actual\": 0, \"Predicted\": 0, \"%\": 0.439902399893041}, {\"Actual\": 1, \"Predicted\": 0, \"%\": 0.03228825456247075}, {\"Actual\": 0, \"Predicted\": 1, \"%\": 0.05969650377699044}, {\"Actual\": 1, \"Predicted\": 1, \"%\": 0.46811284176749784}]}}, {\"mode\": \"vega-lite\"});\n",
       "</script>"
      ],
      "text/plain": [
       "alt.LayerChart(...)"
      ]
     },
     "execution_count": 46,
     "metadata": {},
     "output_type": "execute_result"
    }
   ],
   "source": [
    "draw_matrix(y_test, y_pred)"
   ]
  },
  {
   "cell_type": "code",
   "execution_count": 47,
   "id": "39770bc1",
   "metadata": {
    "execution": {
     "iopub.execute_input": "2023-07-14T18:13:35.639301Z",
     "iopub.status.busy": "2023-07-14T18:13:35.637810Z",
     "iopub.status.idle": "2023-07-14T18:13:36.138787Z",
     "shell.execute_reply": "2023-07-14T18:13:36.137236Z"
    },
    "id": "6959019e",
    "outputId": "141c4224-6225-4d47-f9ab-5b36b0700b5f",
    "papermill": {
     "duration": 0.538962,
     "end_time": "2023-07-14T18:13:36.141393",
     "exception": false,
     "start_time": "2023-07-14T18:13:35.602431",
     "status": "completed"
    },
    "scrolled": true,
    "tags": []
   },
   "outputs": [
    {
     "data": {
      "image/png": "[encoded data removed]",
      "text/plain": [
       "<Figure size 640x480 with 1 Axes>"
      ]
     },
     "metadata": {},
     "output_type": "display_data"
    }
   ],
   "source": [
    "roc(clf, \"Random Forest\")"
   ]
  },
  {
   "cell_type": "code",
   "execution_count": 48,
   "id": "01652699",
   "metadata": {
    "execution": {
     "iopub.execute_input": "2023-07-14T18:13:36.216949Z",
     "iopub.status.busy": "2023-07-14T18:13:36.216280Z",
     "iopub.status.idle": "2023-07-14T18:13:36.291285Z",
     "shell.execute_reply": "2023-07-14T18:13:36.289576Z"
    },
    "id": "18e219b4",
    "outputId": "ee4e5dc0-3afb-4425-9c50-4fe5fc05516b",
    "papermill": {
     "duration": 0.115782,
     "end_time": "2023-07-14T18:13:36.294295",
     "exception": false,
     "start_time": "2023-07-14T18:13:36.178513",
     "status": "completed"
    },
    "tags": []
   },
   "outputs": [
    {
     "name": "stdout",
     "output_type": "stream",
     "text": [
      "              precision    recall  f1-score   support\n",
      "\n",
      "           0       0.93      0.88      0.91     14947\n",
      "           1       0.89      0.94      0.91     14971\n",
      "\n",
      "    accuracy                           0.91     29918\n",
      "   macro avg       0.91      0.91      0.91     29918\n",
      "weighted avg       0.91      0.91      0.91     29918\n",
      "\n"
     ]
    }
   ],
   "source": [
    "print(classification_report(y_test, y_pred))"
   ]
  },
  {
   "cell_type": "code",
   "execution_count": 49,
   "id": "27540cc0",
   "metadata": {
    "execution": {
     "iopub.execute_input": "2023-07-14T18:13:36.375080Z",
     "iopub.status.busy": "2023-07-14T18:13:36.374441Z",
     "iopub.status.idle": "2023-07-14T18:13:41.477278Z",
     "shell.execute_reply": "2023-07-14T18:13:41.475777Z"
    },
    "id": "8a7bbb10",
    "outputId": "f79ae063-cd22-4460-b5b3-b02ec187472f",
    "papermill": {
     "duration": 5.148379,
     "end_time": "2023-07-14T18:13:41.482394",
     "exception": false,
     "start_time": "2023-07-14T18:13:36.334015",
     "status": "completed"
    },
    "tags": []
   },
   "outputs": [
    {
     "data": {
      "text/html": [
       "<style>#sk-container-id-3 {color: black;background-color: white;}#sk-container-id-3 pre{padding: 0;}#sk-container-id-3 div.sk-toggleable {background-color: white;}#sk-container-id-3 label.sk-toggleable__label {cursor: pointer;display: block;width: 100%;margin-bottom: 0;padding: 0.3em;box-sizing: border-box;text-align: center;}#sk-container-id-3 label.sk-toggleable__label-arrow:before {content: \"▸\";float: left;margin-right: 0.25em;color: #696969;}#sk-container-id-3 label.sk-toggleable__label-arrow:hover:before {color: black;}#sk-container-id-3 div.sk-estimator:hover label.sk-toggleable__label-arrow:before {color: black;}#sk-container-id-3 div.sk-toggleable__content {max-height: 0;max-width: 0;overflow: hidden;text-align: left;background-color: #f0f8ff;}#sk-container-id-3 div.sk-toggleable__content pre {margin: 0.2em;color: black;border-radius: 0.25em;background-color: #f0f8ff;}#sk-container-id-3 input.sk-toggleable__control:checked~div.sk-toggleable__content {max-height: 200px;max-width: 100%;overflow: auto;}#sk-container-id-3 input.sk-toggleable__control:checked~label.sk-toggleable__label-arrow:before {content: \"▾\";}#sk-container-id-3 div.sk-estimator input.sk-toggleable__control:checked~label.sk-toggleable__label {background-color: #d4ebff;}#sk-container-id-3 div.sk-label input.sk-toggleable__control:checked~label.sk-toggleable__label {background-color: #d4ebff;}#sk-container-id-3 input.sk-hidden--visually {border: 0;clip: rect(1px 1px 1px 1px);clip: rect(1px, 1px, 1px, 1px);height: 1px;margin: -1px;overflow: hidden;padding: 0;position: absolute;width: 1px;}#sk-container-id-3 div.sk-estimator {font-family: monospace;background-color: #f0f8ff;border: 1px dotted black;border-radius: 0.25em;box-sizing: border-box;margin-bottom: 0.5em;}#sk-container-id-3 div.sk-estimator:hover {background-color: #d4ebff;}#sk-container-id-3 div.sk-parallel-item::after {content: \"\";width: 100%;border-bottom: 1px solid gray;flex-grow: 1;}#sk-container-id-3 div.sk-label:hover label.sk-toggleable__label {background-color: #d4ebff;}#sk-container-id-3 div.sk-serial::before {content: \"\";position: absolute;border-left: 1px solid gray;box-sizing: border-box;top: 0;bottom: 0;left: 50%;z-index: 0;}#sk-container-id-3 div.sk-serial {display: flex;flex-direction: column;align-items: center;background-color: white;padding-right: 0.2em;padding-left: 0.2em;position: relative;}#sk-container-id-3 div.sk-item {position: relative;z-index: 1;}#sk-container-id-3 div.sk-parallel {display: flex;align-items: stretch;justify-content: center;background-color: white;position: relative;}#sk-container-id-3 div.sk-item::before, #sk-container-id-3 div.sk-parallel-item::before {content: \"\";position: absolute;border-left: 1px solid gray;box-sizing: border-box;top: 0;bottom: 0;left: 50%;z-index: -1;}#sk-container-id-3 div.sk-parallel-item {display: flex;flex-direction: column;z-index: 1;position: relative;background-color: white;}#sk-container-id-3 div.sk-parallel-item:first-child::after {align-self: flex-end;width: 50%;}#sk-container-id-3 div.sk-parallel-item:last-child::after {align-self: flex-start;width: 50%;}#sk-container-id-3 div.sk-parallel-item:only-child::after {width: 0;}#sk-container-id-3 div.sk-dashed-wrapped {border: 1px dashed gray;margin: 0 0.4em 0.5em 0.4em;box-sizing: border-box;padding-bottom: 0.4em;background-color: white;}#sk-container-id-3 div.sk-label label {font-family: monospace;font-weight: bold;display: inline-block;line-height: 1.2em;}#sk-container-id-3 div.sk-label-container {text-align: center;}#sk-container-id-3 div.sk-container {/* jupyter's `normalize.less` sets `[hidden] { display: none; }` but bootstrap.min.css set `[hidden] { display: none !important; }` so we also need the `!important` here to be able to override the default hidden behavior on the sphinx rendered scikit-learn.org. See: https://github.com/scikit-learn/scikit-learn/issues/21755 */display: inline-block !important;position: relative;}#sk-container-id-3 div.sk-text-repr-fallback {display: none;}</style><div id=\"sk-container-id-3\" class=\"sk-top-container\"><div class=\"sk-text-repr-fallback\"><pre>LogisticRegression(max_iter=1000)</pre><b>In a Jupyter environment, please rerun this cell to show the HTML representation or trust the notebook. <br />On GitHub, the HTML representation is unable to render, please try loading this page with nbviewer.org.</b></div><div class=\"sk-container\" hidden><div class=\"sk-item\"><div class=\"sk-estimator sk-toggleable\"><input class=\"sk-toggleable__control sk-hidden--visually\" id=\"sk-estimator-id-3\" type=\"checkbox\" checked><label for=\"sk-estimator-id-3\" class=\"sk-toggleable__label sk-toggleable__label-arrow\">LogisticRegression</label><div class=\"sk-toggleable__content\"><pre>LogisticRegression(max_iter=1000)</pre></div></div></div></div></div>"
      ],
      "text/plain": [
       "LogisticRegression(max_iter=1000)"
      ]
     },
     "execution_count": 49,
     "metadata": {},
     "output_type": "execute_result"
    }
   ],
   "source": [
    "from sklearn.linear_model import LogisticRegression\n",
    "from sklearn import preprocessing\n",
    "\n",
    "clf = LogisticRegression(max_iter=1000)\n",
    "clf.fit(X_train,y_train)"
   ]
  },
  {
   "cell_type": "markdown",
   "id": "75ec986c",
   "metadata": {
    "id": "8e7926a7",
    "papermill": {
     "duration": 0.04639,
     "end_time": "2023-07-14T18:13:41.619101",
     "exception": false,
     "start_time": "2023-07-14T18:13:41.572711",
     "status": "completed"
    },
    "tags": []
   },
   "source": [
    "### Training Accuracy"
   ]
  },
  {
   "cell_type": "code",
   "execution_count": 50,
   "id": "f9a45667",
   "metadata": {
    "execution": {
     "iopub.execute_input": "2023-07-14T18:13:41.694638Z",
     "iopub.status.busy": "2023-07-14T18:13:41.694200Z",
     "iopub.status.idle": "2023-07-14T18:13:41.754593Z",
     "shell.execute_reply": "2023-07-14T18:13:41.753089Z"
    },
    "id": "aede9457",
    "outputId": "9d281949-398d-4290-8734-f79c9f51ea45",
    "papermill": {
     "duration": 0.103279,
     "end_time": "2023-07-14T18:13:41.759099",
     "exception": false,
     "start_time": "2023-07-14T18:13:41.655820",
     "status": "completed"
    },
    "scrolled": true,
    "tags": []
   },
   "outputs": [
    {
     "data": {
      "text/plain": [
       "0.9086252423290326"
      ]
     },
     "execution_count": 50,
     "metadata": {},
     "output_type": "execute_result"
    }
   ],
   "source": [
    "y_pred = clf.predict(X_train)\n",
    "\n",
    "# calculate the accuracy of the model\n",
    "accuracy = accuracy_score(y_train, y_pred)\n",
    "accuracy"
   ]
  },
  {
   "cell_type": "markdown",
   "id": "f20d39dc",
   "metadata": {
    "id": "cf7636f0",
    "papermill": {
     "duration": 0.038793,
     "end_time": "2023-07-14T18:13:41.875058",
     "exception": false,
     "start_time": "2023-07-14T18:13:41.836265",
     "status": "completed"
    },
    "tags": []
   },
   "source": [
    "### Testing Accuracy"
   ]
  },
  {
   "cell_type": "code",
   "execution_count": 51,
   "id": "c6566a69",
   "metadata": {
    "execution": {
     "iopub.execute_input": "2023-07-14T18:13:41.952186Z",
     "iopub.status.busy": "2023-07-14T18:13:41.951789Z",
     "iopub.status.idle": "2023-07-14T18:13:41.973866Z",
     "shell.execute_reply": "2023-07-14T18:13:41.972390Z"
    },
    "id": "3583ea03",
    "outputId": "601155c7-6bfc-4adb-f3dd-b2bbc003ad90",
    "papermill": {
     "duration": 0.066231,
     "end_time": "2023-07-14T18:13:41.978347",
     "exception": false,
     "start_time": "2023-07-14T18:13:41.912116",
     "status": "completed"
    },
    "tags": []
   },
   "outputs": [
    {
     "data": {
      "text/plain": [
       "0.9090179824854603"
      ]
     },
     "execution_count": 51,
     "metadata": {},
     "output_type": "execute_result"
    }
   ],
   "source": [
    "y_pred = clf.predict(X_test)\n",
    "\n",
    "# calculate the accuracy of the model\n",
    "accuracy = accuracy_score(y_test, y_pred)\n",
    "accuracy"
   ]
  },
  {
   "cell_type": "code",
   "execution_count": 52,
   "id": "27cdc158",
   "metadata": {
    "execution": {
     "iopub.execute_input": "2023-07-14T18:13:42.108226Z",
     "iopub.status.busy": "2023-07-14T18:13:42.107816Z",
     "iopub.status.idle": "2023-07-14T18:13:42.131414Z",
     "shell.execute_reply": "2023-07-14T18:13:42.130295Z"
    },
    "id": "fa0353ba",
    "outputId": "c7855ce3-3375-4b61-bba5-712794b8d07f",
    "papermill": {
     "duration": 0.07683,
     "end_time": "2023-07-14T18:13:42.134158",
     "exception": false,
     "start_time": "2023-07-14T18:13:42.057328",
     "status": "completed"
    },
    "tags": []
   },
   "outputs": [
    {
     "data": {
      "text/plain": [
       "0.9105781865965834"
      ]
     },
     "execution_count": 52,
     "metadata": {},
     "output_type": "execute_result"
    }
   ],
   "source": [
    "f1_score(y_test, y_pred)"
   ]
  },
  {
   "cell_type": "code",
   "execution_count": 53,
   "id": "1eff3c23",
   "metadata": {
    "execution": {
     "iopub.execute_input": "2023-07-14T18:13:42.207541Z",
     "iopub.status.busy": "2023-07-14T18:13:42.207082Z",
     "iopub.status.idle": "2023-07-14T18:13:42.351189Z",
     "shell.execute_reply": "2023-07-14T18:13:42.349490Z"
    },
    "id": "b3b33445",
    "outputId": "d1cb3914-7d62-4bb9-cdde-897d9e0f77a7",
    "papermill": {
     "duration": 0.184684,
     "end_time": "2023-07-14T18:13:42.354211",
     "exception": false,
     "start_time": "2023-07-14T18:13:42.169527",
     "status": "completed"
    },
    "tags": []
   },
   "outputs": [
    {
     "data": {
      "text/html": [
       "\n",
       "<style>\n",
       "  #altair-viz-e5a74ea0ba444b3eb9258e1f87309fe4.vega-embed {\n",
       "    width: 100%;\n",
       "    display: flex;\n",
       "  }\n",
       "\n",
       "  #altair-viz-e5a74ea0ba444b3eb9258e1f87309fe4.vega-embed details,\n",
       "  #altair-viz-e5a74ea0ba444b3eb9258e1f87309fe4.vega-embed details summary {\n",
       "    position: relative;\n",
       "  }\n",
       "</style>\n",
       "<div id=\"altair-viz-e5a74ea0ba444b3eb9258e1f87309fe4\"></div>\n",
       "<script type=\"text/javascript\">\n",
       "  var VEGA_DEBUG = (typeof VEGA_DEBUG == \"undefined\") ? {} : VEGA_DEBUG;\n",
       "  (function(spec, embedOpt){\n",
       "    let outputDiv = document.currentScript.previousElementSibling;\n",
       "    if (outputDiv.id !== \"altair-viz-e5a74ea0ba444b3eb9258e1f87309fe4\") {\n",
       "      outputDiv = document.getElementById(\"altair-viz-e5a74ea0ba444b3eb9258e1f87309fe4\");\n",
       "    }\n",
       "    const paths = {\n",
       "      \"vega\": \"https://cdn.jsdelivr.net/npm/vega@5?noext\",\n",
       "      \"vega-lib\": \"https://cdn.jsdelivr.net/npm/vega-lib?noext\",\n",
       "      \"vega-lite\": \"https://cdn.jsdelivr.net/npm/vega-lite@5.8.0?noext\",\n",
       "      \"vega-embed\": \"https://cdn.jsdelivr.net/npm/vega-embed@6?noext\",\n",
       "    };\n",
       "\n",
       "    function maybeLoadScript(lib, version) {\n",
       "      var key = `${lib.replace(\"-\", \"\")}_version`;\n",
       "      return (VEGA_DEBUG[key] == version) ?\n",
       "        Promise.resolve(paths[lib]) :\n",
       "        new Promise(function(resolve, reject) {\n",
       "          var s = document.createElement('script');\n",
       "          document.getElementsByTagName(\"head\")[0].appendChild(s);\n",
       "          s.async = true;\n",
       "          s.onload = () => {\n",
       "            VEGA_DEBUG[key] = version;\n",
       "            return resolve(paths[lib]);\n",
       "          };\n",
       "          s.onerror = () => reject(`Error loading script: ${paths[lib]}`);\n",
       "          s.src = paths[lib];\n",
       "        });\n",
       "    }\n",
       "\n",
       "    function showError(err) {\n",
       "      outputDiv.innerHTML = `<div class=\"error\" style=\"color:red;\">${err}</div>`;\n",
       "      throw err;\n",
       "    }\n",
       "\n",
       "    function displayChart(vegaEmbed) {\n",
       "      vegaEmbed(outputDiv, spec, embedOpt)\n",
       "        .catch(err => showError(`Javascript Error: ${err.message}<br>This usually means there's a typo in your chart specification. See the javascript console for the full traceback.`));\n",
       "    }\n",
       "\n",
       "    if(typeof define === \"function\" && define.amd) {\n",
       "      requirejs.config({paths});\n",
       "      require([\"vega-embed\"], displayChart, err => showError(`Error loading script: ${err.message}`));\n",
       "    } else {\n",
       "      maybeLoadScript(\"vega\", \"5\")\n",
       "        .then(() => maybeLoadScript(\"vega-lite\", \"5.8.0\"))\n",
       "        .then(() => maybeLoadScript(\"vega-embed\", \"6\"))\n",
       "        .catch(showError)\n",
       "        .then(() => displayChart(vegaEmbed));\n",
       "    }\n",
       "  })({\"config\": {\"view\": {\"continuousWidth\": 300, \"continuousHeight\": 300}}, \"layer\": [{\"mark\": {\"type\": \"rect\"}, \"encoding\": {\"color\": {\"field\": \"%\", \"scale\": {\"scheme\": \"reds\"}, \"type\": \"quantitative\"}, \"x\": {\"field\": \"Predicted\", \"sort\": [0, 1], \"type\": \"nominal\"}, \"y\": {\"field\": \"Actual\", \"sort\": [0.0, 1.0], \"type\": \"nominal\"}}}, {\"mark\": {\"type\": \"text\", \"baseline\": \"middle\"}, \"encoding\": {\"color\": {\"condition\": {\"test\": \"(datum.Count > 0.23161641820977338)\", \"value\": \"white\"}, \"value\": \"black\"}, \"text\": {\"field\": \"%\", \"format\": \".2%\", \"type\": \"quantitative\"}, \"x\": {\"field\": \"Predicted\", \"sort\": [0, 1], \"type\": \"nominal\"}, \"y\": {\"field\": \"Actual\", \"sort\": [0.0, 1.0], \"type\": \"nominal\"}}}], \"data\": {\"name\": \"data-d7e7900b91a31d59861ff3438a4f606b\"}, \"height\": 300, \"width\": 300, \"$schema\": \"https://vega.github.io/schema/vega-lite/v5.8.0.json\", \"datasets\": {\"data-d7e7900b91a31d59861ff3438a4f606b\": [{\"Actual\": 0, \"Predicted\": 0, \"%\": 0.4457851460659135}, {\"Actual\": 1, \"Predicted\": 0, \"%\": 0.037168259910421816}, {\"Actual\": 0, \"Predicted\": 1, \"%\": 0.05381375760411792}, {\"Actual\": 1, \"Predicted\": 1, \"%\": 0.46323283641954677}]}}, {\"mode\": \"vega-lite\"});\n",
       "</script>"
      ],
      "text/plain": [
       "alt.LayerChart(...)"
      ]
     },
     "execution_count": 53,
     "metadata": {},
     "output_type": "execute_result"
    }
   ],
   "source": [
    "draw_matrix(y_test, y_pred)"
   ]
  },
  {
   "cell_type": "code",
   "execution_count": 54,
   "id": "1df5a4de",
   "metadata": {
    "execution": {
     "iopub.execute_input": "2023-07-14T18:13:42.430608Z",
     "iopub.status.busy": "2023-07-14T18:13:42.429038Z",
     "iopub.status.idle": "2023-07-14T18:13:42.773257Z",
     "shell.execute_reply": "2023-07-14T18:13:42.771754Z"
    },
    "id": "06ff7fca",
    "outputId": "f5c6f75a-ec96-43d0-d68c-44ead3ca0096",
    "papermill": {
     "duration": 0.384813,
     "end_time": "2023-07-14T18:13:42.776143",
     "exception": false,
     "start_time": "2023-07-14T18:13:42.391330",
     "status": "completed"
    },
    "scrolled": true,
    "tags": []
   },
   "outputs": [
    {
     "data": {
      "image/png": "[encoded data removed]",
      "text/plain": [
       "<Figure size 640x480 with 1 Axes>"
      ]
     },
     "metadata": {},
     "output_type": "display_data"
    }
   ],
   "source": [
    "roc(clf)"
   ]
  },
  {
   "cell_type": "code",
   "execution_count": 55,
   "id": "8bfeeb98",
   "metadata": {
    "execution": {
     "iopub.execute_input": "2023-07-14T18:13:42.852246Z",
     "iopub.status.busy": "2023-07-14T18:13:42.851854Z",
     "iopub.status.idle": "2023-07-14T18:13:42.925482Z",
     "shell.execute_reply": "2023-07-14T18:13:42.923689Z"
    },
    "id": "14267c73",
    "outputId": "aae83e3f-6423-4587-e277-428cb778b5b2",
    "papermill": {
     "duration": 0.115115,
     "end_time": "2023-07-14T18:13:42.928181",
     "exception": false,
     "start_time": "2023-07-14T18:13:42.813066",
     "status": "completed"
    },
    "tags": []
   },
   "outputs": [
    {
     "name": "stdout",
     "output_type": "stream",
     "text": [
      "              precision    recall  f1-score   support\n",
      "\n",
      "           0       0.92      0.89      0.91     14947\n",
      "           1       0.90      0.93      0.91     14971\n",
      "\n",
      "    accuracy                           0.91     29918\n",
      "   macro avg       0.91      0.91      0.91     29918\n",
      "weighted avg       0.91      0.91      0.91     29918\n",
      "\n"
     ]
    }
   ],
   "source": [
    "print(classification_report(y_test, y_pred))"
   ]
  },
  {
   "cell_type": "markdown",
   "id": "c37eab29",
   "metadata": {
    "papermill": {
     "duration": 0.036392,
     "end_time": "2023-07-14T18:13:43.001790",
     "exception": false,
     "start_time": "2023-07-14T18:13:42.965398",
     "status": "completed"
    },
    "tags": []
   },
   "source": [
    "## Results\n",
    "\n",
    "1. Patient type, age, and pneumonia were the most influential features\n",
    "2. Decision tree has tendencies to overfit\n",
    "3. Random forest and logistic regression performed with similar accuracies\n",
    "\n",
    "## Future Work\n",
    "\n",
    "1. Additional Features and Datasets: \n",
    "- Explore different datasets that have more thorough intubated & ICU data\n",
    "- Find datasets with additional features, such as hospital capacity, location, etc.\n",
    "2. Model Tuning: Explore different hyperparameter settings for the models to optimize their performance\n",
    "- Using techniques such as grid search or random search to systematically test different combinations of hyperparameters\n"
   ]
  }
 ],
 "metadata": {
  "kernelspec": {
   "display_name": "Python 3",
   "language": "python",
   "name": "python3"
  },
  "language_info": {
   "codemirror_mode": {
    "name": "ipython",
    "version": 3
   },
   "file_extension": ".py",
   "mimetype": "text/x-python",
   "name": "python",
   "nbconvert_exporter": "python",
   "pygments_lexer": "ipython3",
   "version": "3.10.12"
  },
  "papermill": {
   "default_parameters": {},
   "duration": 49.238982,
   "end_time": "2023-07-14T18:13:44.266992",
   "environment_variables": {},
   "exception": null,
   "input_path": "__notebook__.ipynb",
   "output_path": "__notebook__.ipynb",
   "parameters": {},
   "start_time": "2023-07-14T18:12:55.028010",
   "version": "2.4.0"
  }
 },
 "nbformat": 4,
 "nbformat_minor": 5
}
